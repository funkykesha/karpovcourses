{
 "cells": [
  {
   "cell_type": "code",
   "execution_count": null,
   "metadata": {},
   "outputs": [],
   "source": [
    "import requests\n",
    "from zipfile import ZipFile\n",
    "from io import BytesIO\n",
    "import pandas as pd\n",
    "from datetime import timedelta\n",
    "from datetime import datetime\n",
    "from datetime import date\n",
    "\n",
    "from airflow import DAG\n",
    "from airflow.operators.python import PythonOperator"
   ]
  },
  {
   "cell_type": "code",
   "execution_count": null,
   "metadata": {},
   "outputs": [],
   "source": [
    "TOP_1M_DOMAINS = 'http://s3.amazonaws.com/alexa-static/top-1m.csv.zip'\n",
    "TOP_1M_DOMAINS_FILE = 'top-1m.csv'"
   ]
  },
  {
   "cell_type": "code",
   "execution_count": null,
   "metadata": {},
   "outputs": [],
   "source": [
    "def get_data():\n",
    "    top_doms = requests.get(TOP_1M_DOMAINS, stream=True)\n",
    "    zipfile = ZipFile(BytesIO(top_doms.content))\n",
    "    top_data = zipfile.read(TOP_1M_DOMAINS_FILE).decode('utf-8')\n",
    "\n",
    "    with open(TOP_1M_DOMAINS_FILE, 'w') as f:\n",
    "        f.write(top_data)\n",
    "\n",
    "def get_top_10_domain_zone():\n",
    "    top_data_df = pd.read_csv(TOP_1M_DOMAINS_FILE, names=['rank', 'domain'])\n",
    "    top_data_df['domain_zone'] = top_data_df['domain'].apply(lambda x: x.split('.')[-1])\n",
    "    top_10_domain_zone = top_data_df.groupby('domain_zone', as_index=False) \\\n",
    "                                    .agg({'domain': 'count'}) \\\n",
    "                                    .rename(columns={'domain': 'number'}) \\\n",
    "                                    .sort_values('number', ascending=False) \\\n",
    "                                    .head(10)\n",
    "    with open('top_10_domain_zone.csv', 'w') as f:\n",
    "        f.write(top_10_domain_zone.to_csv(index=False, header=False))\n",
    "\n",
    "def get_max_len_domain():\n",
    "    top_data_df = pd.read_csv(TOP_1M_DOMAINS_FILE, names=['rank', 'domain'])\n",
    "    top_data_df['len_name'] = top_data_df['domain'].apply(lambda x: len(x))\n",
    "    max_len_domain = top_data_df[['rank', 'domain', 'len_name']].sort_values('len_name') \\\n",
    "                                                                .tail(1)\n",
    "    with open('max_len_domain.csv', 'w') as f:\n",
    "        f.write(max_len_domain.to_csv(index=False, header=False))\n",
    "        \n",
    "def get_max_len_domain():\n",
    "    top_data_df = pd.read_csv(TOP_1M_DOMAINS_FILE, names=['rank', 'domain'])\n",
    "    top_data_df['len_name'] = top_data_df['domain'].apply(lambda x: len(x))\n",
    "    max_len_domain = top_data_df[['rank', 'domain', 'len_name']].sort_values('len_name') \\\n",
    "                                                                .tail(1)\n",
    "    with open('max_len_domain.csv', 'w') as f:\n",
    "        f.write(max_len_domain.to_csv(index=False, header=False))\n",
    "        \n",
    "def print_data(ds): # передаем глобальную переменную airflow\n",
    "    with open('top_data_top_10.csv', 'r') as f:\n",
    "        all_data = f.read()\n",
    "    with open('top_data_top_10_com.csv', 'r') as f:\n",
    "        all_data_com = f.read()\n",
    "    date = ds\n",
    "\n",
    "    print(f'Top domains in .RU for date {date}')\n",
    "    print(all_data)\n",
    "\n",
    "    print(f'Top domains in .COM for date {date}')\n",
    "    print(all_data_com)"
   ]
  },
  {
   "cell_type": "code",
   "execution_count": null,
   "metadata": {},
   "outputs": [],
   "source": [
    "default_args = {\n",
    "    'owner': 'a.gaybadulin',\n",
    "    'depends_on_past': False,\n",
    "    'retries': 2,\n",
    "    'retry_delay': timedelta(minutes=5),\n",
    "    'start_date': datetime(2022, 11, 16),\n",
    "    'schedule_interval': '0 12 * * *'\n",
    "}\n",
    "dag = DAG('dag_a_gaybadulin', default_args=default_args)"
   ]
  },
  {
   "cell_type": "code",
   "execution_count": null,
   "metadata": {},
   "outputs": [],
   "source": [
    "t1 = PythonOperator(task_id='get_data',\n",
    "                    python_callable=get_data,\n",
    "                    dag=dag)\n",
    "\n",
    "t2 = PythonOperator(task_id='get_top_10_domain_zone',\n",
    "                    python_callable=get_stat,\n",
    "                    dag=dag)\n",
    "\n",
    "t2_com = PythonOperator(task_id='get_stat_com',\n",
    "                        python_callable=get_stat_com,\n",
    "                        dag=dag)\n",
    "\n",
    "t3 = PythonOperator(task_id='print_data',\n",
    "                    python_callable=print_data,\n",
    "                    dag=dag)"
   ]
  },
  {
   "cell_type": "code",
   "execution_count": null,
   "metadata": {},
   "outputs": [],
   "source": [
    "t1 >> [t2, t2_com] >> t3"
   ]
  },
  {
   "cell_type": "markdown",
   "metadata": {},
   "source": [
    "Найти топ-10 доменных зон по численности доменов"
   ]
  },
  {
   "cell_type": "code",
   "execution_count": null,
   "metadata": {},
   "outputs": [],
   "source": [
    "top_data_df = pd.read_csv(TOP_1M_DOMAINS_FILE, names=['rank', 'domain'])\n",
    "top_data_df['domain_zone'] = top_data_df['domain'].apply(lambda x: x.split('.')[-1])\n",
    "top_10_domain_zone = top_data_df.groupby('domain_zone', as_index=False) \\\n",
    "                                .agg({'domain': 'count'}) \\\n",
    "                                .rename(columns={'domain': 'number'}) \\\n",
    "                                .sort_values('number', ascending=False) \\\n",
    "                                .head(10)"
   ]
  },
  {
   "cell_type": "code",
   "execution_count": null,
   "metadata": {},
   "outputs": [],
   "source": [
    "top_10_domain_zone"
   ]
  },
  {
   "cell_type": "markdown",
   "metadata": {},
   "source": [
    "Найти домен с самым длинным именем (если их несколько, то взять только первый в алфавитном порядке)"
   ]
  },
  {
   "cell_type": "code",
   "execution_count": null,
   "metadata": {},
   "outputs": [],
   "source": [
    "top_data_df = pd.read_csv(TOP_1M_DOMAINS_FILE, names=['rank', 'domain'])\n",
    "top_data_df['len_name'] = top_data_df['domain'].apply(lambda x: len(x))\n",
    "max_len_domain = top_data_df[['rank', 'domain', 'len_name']].sort_values('len_name') \\\n",
    "                                                            .tail(1)"
   ]
  },
  {
   "cell_type": "code",
   "execution_count": null,
   "metadata": {},
   "outputs": [],
   "source": [
    "max_len_domain"
   ]
  },
  {
   "cell_type": "markdown",
   "metadata": {},
   "source": [
    "На каком месте находится домен airflow.com?"
   ]
  },
  {
   "cell_type": "code",
   "execution_count": null,
   "metadata": {},
   "outputs": [],
   "source": [
    "def find_airflow:\n",
    "    top_data_df = pd.read_csv(TOP_1M_DOMAINS_FILE, names=['rank', 'domain'])\n",
    "    find = top_data_df.loc[top_data_df['domain'] == 'airflow.com']\n",
    "    if find['domain'].count() == 0:\n",
    "        df2 = pd.DataFrame(np.array([[, 2, 3], [4, 5, 6], [7, 8, 9]]),\n",
    "                           columns=['a', 'b', 'c'])"
   ]
  },
  {
   "cell_type": "code",
   "execution_count": null,
   "metadata": {},
   "outputs": [],
   "source": [
    "top_data_df"
   ]
  }
 ],
 "metadata": {
  "kernelspec": {
   "display_name": "Python 3",
   "language": "python",
   "name": "python3"
  },
  "language_info": {
   "codemirror_mode": {
    "name": "ipython",
    "version": 3
   },
   "file_extension": ".py",
   "mimetype": "text/x-python",
   "name": "python",
   "nbconvert_exporter": "python",
   "pygments_lexer": "ipython3",
   "version": "3.7.3"
  }
 },
 "nbformat": 4,
 "nbformat_minor": 4
}
