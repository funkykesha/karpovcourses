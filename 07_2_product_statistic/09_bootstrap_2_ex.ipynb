{
 "cells": [
  {
   "cell_type": "code",
   "execution_count": 42,
   "metadata": {},
   "outputs": [],
   "source": [
    "import numpy as np\n",
    "import pandas as pd\n",
    "from scipy.stats import norm\n",
    "from scipy.stats import mannwhitneyu\n",
    "import matplotlib.pyplot as plt\n",
    "from tqdm.auto import tqdm\n",
    "\n",
    "plt.style.use('ggplot')"
   ]
  },
  {
   "cell_type": "code",
   "execution_count": 43,
   "metadata": {},
   "outputs": [],
   "source": [
    "# читаем файл\n",
    "hw_bootstrap = pd.read_csv('hw_bootstrap.csv', sep=';')\n",
    "\n",
    "# переводим во float\n",
    "hw_bootstrap['value'] = hw_bootstrap['value'].str.replace(',','.').astype('float')\n",
    "\n",
    "# записываем в переменные\n",
    "df_Control = hw_bootstrap.query('experimentVariant == \"Control\"')\n",
    "df_Treatment = hw_bootstrap.query('experimentVariant == \"Treatment\"')"
   ]
  },
  {
   "cell_type": "markdown",
   "metadata": {},
   "source": [
    "# Проверяем каждую выборку по Ман-Уитней"
   ]
  },
  {
   "cell_type": "code",
   "execution_count": 57,
   "metadata": {},
   "outputs": [],
   "source": [
    "mannwhitneyu_p = mannwhitneyu(df_Control.value, df_Treatment.value)"
   ]
  },
  {
   "cell_type": "markdown",
   "metadata": {},
   "source": [
    "# Бустрап каждой выборки с np.mean"
   ]
  },
  {
   "cell_type": "code",
   "execution_count": 46,
   "metadata": {},
   "outputs": [],
   "source": [
    "def get_bootstrap(\n",
    "    data_column_1, # числовые значения первой выборки\n",
    "    data_column_2, # числовые значения второй выборки\n",
    "    boot_it = 1000, # количество бутстрэп-подвыборок\n",
    "    # Бустрап каждой выборки с np.median, # интересующая нас статистика\n",
    "    bootstrap_conf_level = 0.95 # уровень значимости\n",
    "):\n",
    "    boot_len = max([len(data_column_1), len(data_column_2)])\n",
    "    boot_data = []\n",
    "    for i in tqdm(range(boot_it)): # извлекаем подвыборки\n",
    "        samples_1 = data_column_1.sample(\n",
    "            boot_len, \n",
    "            replace = True # параметр возвращения\n",
    "        ).values\n",
    "        \n",
    "        samples_2 = data_column_2.sample(\n",
    "            boot_len, \n",
    "            replace = True\n",
    "        ).values\n",
    "        \n",
    "        boot_data.append(statistic(samples_1-samples_2)) # mean() - применяем статистику\n",
    "        \n",
    "    pd_boot_data = pd.DataFrame(boot_data)\n",
    "        \n",
    "    left_quant = (1 - bootstrap_conf_level)/2\n",
    "    right_quant = 1 - (1 - bootstrap_conf_level) / 2\n",
    "    ci = pd_boot_data.quantile([left_quant, right_quant])\n",
    "        \n",
    "    p_1 = norm.cdf(\n",
    "        x = 0, \n",
    "        loc = np.mean(boot_data), \n",
    "        scale = np.std(boot_data)\n",
    "    )\n",
    "    p_2 = norm.cdf(\n",
    "        x = 0, \n",
    "        loc = -np.mean(boot_data), \n",
    "        scale = np.std(boot_data)\n",
    "    )\n",
    "    p_value = min(p_1, p_2) * 2\n",
    "        \n",
    "    # Визуализация\n",
    "    plt.hist(pd_boot_data[0], bins = 50)\n",
    "    \n",
    "    plt.style.use('ggplot')\n",
    "    plt.vlines(ci,ymin=0,ymax=50,linestyle='--')\n",
    "    plt.xlabel('boot_data')\n",
    "    plt.ylabel('frequency')\n",
    "    plt.title(\"Histogram of boot_data\")\n",
    "    plt.show()\n",
    "       \n",
    "    return {\"boot_data\": boot_data, \n",
    "            \"ci\": ci, \n",
    "            \"p_value\": p_value}"
   ]
  },
  {
   "cell_type": "code",
   "execution_count": 53,
   "metadata": {},
   "outputs": [
    {
     "data": {
      "application/vnd.jupyter.widget-view+json": {
       "model_id": "963c986abb9b4ba4a7501164ade04dea",
       "version_major": 2,
       "version_minor": 0
      },
      "text/plain": [
       "HBox(children=(FloatProgress(value=0.0, max=2000.0), HTML(value='')))"
      ]
     },
     "metadata": {},
     "output_type": "display_data"
    },
    {
     "name": "stdout",
     "output_type": "stream",
     "text": [
      "\n"
     ]
    },
    {
     "data": {
      "image/png": "[encoded data removed]",
      "text/plain": [
       "<Figure size 432x288 with 1 Axes>"
      ]
     },
     "metadata": {},
     "output_type": "display_data"
    }
   ],
   "source": [
    "booted_data_mean = get_bootstrap(df_Control.value, df_Treatment.value, boot_it = 2000, statistic = np.mean) "
   ]
  },
  {
   "cell_type": "code",
   "execution_count": 48,
   "metadata": {
    "scrolled": true
   },
   "outputs": [
    {
     "name": "stdout",
     "output_type": "stream",
     "text": [
      "p_value =  0.03334082324965312\n",
      "\n",
      "\n",
      "ci =                 0\n",
      "0.025 -33.927490\n",
      "0.975  -3.007778\n"
     ]
    }
   ],
   "source": [
    "print('p_value = ', booted_data[\"p_value\"])\n",
    "print('\\n')\n",
    "print('ci = ', booted_data[\"ci\"])"
   ]
  },
  {
   "cell_type": "markdown",
   "metadata": {},
   "source": [
    "# Бустрап каждой выборки с np.median"
   ]
  },
  {
   "cell_type": "code",
   "execution_count": 61,
   "metadata": {},
   "outputs": [
    {
     "data": {
      "application/vnd.jupyter.widget-view+json": {
       "model_id": "fd31ae04d74d4c1f8f1b6f415a547188",
       "version_major": 2,
       "version_minor": 0
      },
      "text/plain": [
       "HBox(children=(FloatProgress(value=0.0, max=2000.0), HTML(value='')))"
      ]
     },
     "metadata": {},
     "output_type": "display_data"
    },
    {
     "name": "stdout",
     "output_type": "stream",
     "text": [
      "\n"
     ]
    },
    {
     "data": {
      "image/png": "[encoded data removed]",
      "text/plain": [
       "<Figure size 432x288 with 1 Axes>"
      ]
     },
     "metadata": {},
     "output_type": "display_data"
    }
   ],
   "source": [
    "booted_data_median = get_bootstrap(df_Control.value, df_Treatment.value, boot_it = 2000, statistic = np.median) "
   ]
  },
  {
   "cell_type": "code",
   "execution_count": 50,
   "metadata": {
    "scrolled": true
   },
   "outputs": [
    {
     "name": "stdout",
     "output_type": "stream",
     "text": [
      "p_value =  0.86991457920142\n",
      "\n",
      "\n",
      "ci =                0\n",
      "0.025 -0.157534\n",
      "0.975  0.136635\n"
     ]
    }
   ],
   "source": [
    "print('p_value = ', booted_data[\"p_value\"])\n",
    "print('\\n')\n",
    "print('ci = ', booted_data[\"ci\"])"
   ]
  },
  {
   "cell_type": "markdown",
   "metadata": {},
   "source": [
    "# Выводы"
   ]
  },
  {
   "cell_type": "code",
   "execution_count": 63,
   "metadata": {},
   "outputs": [
    {
     "name": "stdout",
     "output_type": "stream",
     "text": [
      "Bootstrap mean p_value =  0.033777322404697364\n",
      "\n",
      "\n",
      "Bootstrap median p_value =  0.8941456975260786\n",
      "\n",
      "\n",
      "mannwhitneyu p_value =  0.8592148582485579\n"
     ]
    }
   ],
   "source": [
    "print('Bootstrap mean p_value = ', booted_data_mean[\"p_value\"])\n",
    "print('\\n')\n",
    "print('Bootstrap median p_value = ', booted_data_median[\"p_value\"])\n",
    "print('\\n')\n",
    "print('mannwhitneyu p_value = ', mannwhitneyu_p.pvalue)"
   ]
  },
  {
   "cell_type": "markdown",
   "metadata": {},
   "source": [
    "- Ман-уитней не чувствителен к экстремально низким и высоким выбросам\n",
    "- Вычисление среднего чувствительно к ним\n",
    "- Вычисление медианы нет, так как вычисляется срединное значение (то есть наиболее часто встречающееся)\n",
    "\n",
    "**Поэтому нужно брать медиану в бутстрап выборках, что бы получить достоверный результат p-value**"
   ]
  }
 ],
 "metadata": {
  "kernelspec": {
   "display_name": "Python 3",
   "language": "python",
   "name": "python3"
  },
  "language_info": {
   "codemirror_mode": {
    "name": "ipython",
    "version": 3
   },
   "file_extension": ".py",
   "mimetype": "text/x-python",
   "name": "python",
   "nbconvert_exporter": "python",
   "pygments_lexer": "ipython3",
   "version": "3.7.3"
  }
 },
 "nbformat": 4,
 "nbformat_minor": 4
}
