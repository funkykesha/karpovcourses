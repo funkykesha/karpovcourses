{
 "cells": [
  {
   "cell_type": "code",
   "execution_count": 2,
   "metadata": {},
   "outputs": [],
   "source": [
    "import numpy as np\n",
    "import pandas as pd\n",
    "import seaborn as sns\n",
    "from sklearn.preprocessing import OneHotEncoder as SklearnOneHotEncoder\n",
    "from statsmodels.regression.linear_model import OLS"
   ]
  },
  {
   "cell_type": "code",
   "execution_count": 3,
   "metadata": {
    "pycharm": {
     "name": "#%%\n"
    }
   },
   "outputs": [],
   "source": [
    "class OneHotEncoder(SklearnOneHotEncoder):\n",
    "    def __init__(self, **kwargs):\n",
    "        super(OneHotEncoder, self).__init__(**kwargs)\n",
    "        self.fit_flag = False\n",
    "\n",
    "    def fit(self, X, **kwargs):\n",
    "        out = super().fit(X)\n",
    "        self.fit_flag = True\n",
    "        return out\n",
    "\n",
    "    def transform(self, X, **kwargs):\n",
    "        sparse_matrix = super(OneHotEncoder, self).transform(X)\n",
    "        new_columns = self.get_new_columns(X=X)\n",
    "        d_out = pd.DataFrame(sparse_matrix.toarray(), columns=new_columns, index=X.index)\n",
    "        return d_out\n",
    "\n",
    "    def fit_transform(self, X, **kwargs):\n",
    "        self.fit(X)\n",
    "        return self.transform(X)\n",
    "\n",
    "    def get_new_columns(self, X):\n",
    "        new_columns = []\n",
    "        for i, column in enumerate(X.columns):\n",
    "            j = 0\n",
    "            while j < len(self.categories_[i]):\n",
    "                new_columns.append(f'{column}_<{self.categories_[i][j]}>')\n",
    "                j += 1\n",
    "        return new_columns"
   ]
  },
  {
   "cell_type": "code",
   "execution_count": 4,
   "metadata": {
    "pycharm": {
     "name": "#%%\n"
    }
   },
   "outputs": [],
   "source": [
    "dataset_size = 100000\n",
    "promo_size = int(0.1 * dataset_size)\n",
    "\n",
    "order_ids = [i for i in range(88977643, 88977643 + dataset_size)]\n",
    "\n",
    "no_promo = list(map(int, np.random.normal(30, 8, dataset_size - promo_size)))\n",
    "no_promo_title = ['no_promo'] * (dataset_size - promo_size)\n",
    "\n",
    "promo = list(map(int, np.random.normal(29.8, 10, promo_size)))\n",
    "promo_title = ['SALE15'] * (promo_size)\n",
    "\n",
    "gmv_list = no_promo + promo\n",
    "titles_list = no_promo_title + promo_title"
   ]
  },
  {
   "cell_type": "code",
   "execution_count": 5,
   "metadata": {
    "pycharm": {
     "name": "#%%\n"
    }
   },
   "outputs": [],
   "source": [
    "df = pd.DataFrame()\n",
    "\n",
    "df['order_id'] = order_ids\n",
    "df = df.sample(frac=1).reset_index(drop=True)\n",
    "\n",
    "df['order_value'] = gmv_list\n",
    "df['promo_type'] = titles_list\n",
    "df = df.sample(frac=1).reset_index(drop=True)\n",
    "\n",
    "df = df.query('order_value > 0')\n",
    "\n",
    "df.to_csv('one_promo_df.csv')"
   ]
  },
  {
   "cell_type": "code",
   "execution_count": 6,
   "metadata": {},
   "outputs": [],
   "source": [
    "df = pd.read_csv('one_promo_df.csv')"
   ]
  },
  {
   "cell_type": "markdown",
   "metadata": {},
   "source": [
    "### Линейная регрессия для оценки влияния категориального фактора на метрику\n",
    "\n",
    "Мы применим подход dummy-переменных, который преобразовывает каждое значение категориальной фичи в отдельную колонку содержащую 0, если в этой строке этой категории нет, и 1, если эта категория присутствует."
   ]
  },
  {
   "cell_type": "markdown",
   "metadata": {},
   "source": [
    "Почему же линейная регрессия способна хорошо себя показать?\n",
    "\n",
    "Для начала распишем, что такое линейная регрессия:"
   ]
  },
  {
   "cell_type": "markdown",
   "metadata": {},
   "source": [
    "$$\n",
    "Y = {\\alpha} * X + {\\beta}\n",
    "$$"
   ]
  },
  {
   "cell_type": "markdown",
   "metadata": {},
   "source": [
    "Если подойти чуть строже, то линейная регрессия оценивает математическое ожидание Y, при условии X, т.е:\n",
    "\n",
    "$$\n",
    "E[Y | X] = {\\alpha} * X + {\\beta}\n",
    "$$\n",
    "\n",
    "\n",
    "В нашем случае переменная преобразовывается из бинарной в категориальную, т.е. мы получаем оценку матожидания при условии присутствия или отсутствия категории. Т.е. коэффициент перед нашей dummy-переменной мы можем трактовать как прирост к метрике, если у нас \"включена\" данная категория.\n",
    "\n",
    "$$\n",
    "E[Y | X=1] = {\\alpha} + {\\beta}\n",
    "$$\n",
    "\n",
    "$$\n",
    "E[Y | X=0] = {\\beta}\n",
    "$$\n",
    "\n",
    "\n",
    "Простой пример, который можно здесь привести - это аналитика влияния промо-акций на метрики, например на средний чек. Промо-акция - это категориальная переменная, которую мы преобразуем в dummy-переменную. Этот пример, кстати, позволит понять, что именно означает коэффициент ${\\alpha}$ в модели линейной регрессии, - а он означает прирост к среднему чеку, если на заказе было применено промо. А ${\\beta}$ - это просто средний чек по всем заказам без промо."
   ]
  },
  {
   "cell_type": "markdown",
   "metadata": {},
   "source": [
    "Давайте построи подобную модель на реальных данных и обсудим её преимущества."
   ]
  },
  {
   "cell_type": "code",
   "execution_count": 7,
   "metadata": {
    "scrolled": true
   },
   "outputs": [
    {
     "data": {
      "text/plain": [
       "array(['no_promo', 'SALE15'], dtype=object)"
      ]
     },
     "execution_count": 7,
     "metadata": {},
     "output_type": "execute_result"
    }
   ],
   "source": [
    "df.promo_type.unique()"
   ]
  },
  {
   "cell_type": "code",
   "execution_count": 8,
   "metadata": {},
   "outputs": [
    {
     "data": {
      "text/plain": [
       "0        no_promo\n",
       "1          SALE15\n",
       "2          SALE15\n",
       "3        no_promo\n",
       "4        no_promo\n",
       "           ...   \n",
       "99973    no_promo\n",
       "99974    no_promo\n",
       "99975      SALE15\n",
       "99976    no_promo\n",
       "99977    no_promo\n",
       "Name: promo_type, Length: 99978, dtype: object"
      ]
     },
     "execution_count": 8,
     "metadata": {},
     "output_type": "execute_result"
    }
   ],
   "source": [
    "df.promo_type"
   ]
  },
  {
   "cell_type": "code",
   "execution_count": 9,
   "metadata": {
    "pycharm": {
     "name": "#%%\n"
    }
   },
   "outputs": [],
   "source": [
    "encoder = OneHotEncoder()"
   ]
  },
  {
   "cell_type": "code",
   "execution_count": 12,
   "metadata": {},
   "outputs": [
    {
     "data": {
      "text/html": [
       "<div>\n",
       "<style scoped>\n",
       "    .dataframe tbody tr th:only-of-type {\n",
       "        vertical-align: middle;\n",
       "    }\n",
       "\n",
       "    .dataframe tbody tr th {\n",
       "        vertical-align: top;\n",
       "    }\n",
       "\n",
       "    .dataframe thead th {\n",
       "        text-align: right;\n",
       "    }\n",
       "</style>\n",
       "<table border=\"1\" class=\"dataframe\">\n",
       "  <thead>\n",
       "    <tr style=\"text-align: right;\">\n",
       "      <th></th>\n",
       "      <th>promo_type_&lt;SALE15&gt;</th>\n",
       "      <th>promo_type_&lt;no_promo&gt;</th>\n",
       "    </tr>\n",
       "  </thead>\n",
       "  <tbody>\n",
       "    <tr>\n",
       "      <th>0</th>\n",
       "      <td>0.0</td>\n",
       "      <td>1.0</td>\n",
       "    </tr>\n",
       "    <tr>\n",
       "      <th>1</th>\n",
       "      <td>1.0</td>\n",
       "      <td>0.0</td>\n",
       "    </tr>\n",
       "    <tr>\n",
       "      <th>2</th>\n",
       "      <td>1.0</td>\n",
       "      <td>0.0</td>\n",
       "    </tr>\n",
       "    <tr>\n",
       "      <th>3</th>\n",
       "      <td>0.0</td>\n",
       "      <td>1.0</td>\n",
       "    </tr>\n",
       "    <tr>\n",
       "      <th>4</th>\n",
       "      <td>0.0</td>\n",
       "      <td>1.0</td>\n",
       "    </tr>\n",
       "  </tbody>\n",
       "</table>\n",
       "</div>"
      ],
      "text/plain": [
       "   promo_type_<SALE15>  promo_type_<no_promo>\n",
       "0                  0.0                    1.0\n",
       "1                  1.0                    0.0\n",
       "2                  1.0                    0.0\n",
       "3                  0.0                    1.0\n",
       "4                  0.0                    1.0"
      ]
     },
     "execution_count": 12,
     "metadata": {},
     "output_type": "execute_result"
    }
   ],
   "source": [
    "encoder.fit_transform(df[['promo_type']]).head()"
   ]
  },
  {
   "cell_type": "code",
   "execution_count": 13,
   "metadata": {},
   "outputs": [],
   "source": [
    "X = encoder.fit_transform(df[['promo_type']]) \\\n",
    "           .drop('promo_type_<no_promo>', axis=1) \\\n",
    "           .assign(aov=1)\n",
    "\n",
    "Y = df['order_value']"
   ]
  },
  {
   "cell_type": "code",
   "execution_count": 6,
   "metadata": {
    "pycharm": {
     "name": "#%%\n"
    }
   },
   "outputs": [],
   "source": [
    "estimator = OLS(Y, X).fit()"
   ]
  },
  {
   "cell_type": "code",
   "execution_count": 7,
   "metadata": {
    "pycharm": {
     "name": "#%%\n"
    }
   },
   "outputs": [
    {
     "name": "stdout",
     "output_type": "stream",
     "text": [
      "                            OLS Regression Results                            \n",
      "==============================================================================\n",
      "Dep. Variable:            order_value   R-squared:                       0.000\n",
      "Model:                            OLS   Adj. R-squared:                  0.000\n",
      "Method:                 Least Squares   F-statistic:                     1.166\n",
      "Date:                Tue, 19 Jul 2022   Prob (F-statistic):              0.280\n",
      "Time:                        09:24:17   Log-Likelihood:            -3.5255e+05\n",
      "No. Observations:               99969   AIC:                         7.051e+05\n",
      "Df Residuals:                   99967   BIC:                         7.051e+05\n",
      "Df Model:                           1                                         \n",
      "Covariance Type:            nonrobust                                         \n",
      "=======================================================================================\n",
      "                          coef    std err          t      P>|t|      [0.025      0.975]\n",
      "---------------------------------------------------------------------------------------\n",
      "promo_type_<SALE15>    -0.0938      0.087     -1.080      0.280      -0.264       0.076\n",
      "aov                    29.4996      0.027   1075.409      0.000      29.446      29.553\n",
      "==============================================================================\n",
      "Omnibus:                       15.216   Durbin-Watson:                   2.006\n",
      "Prob(Omnibus):                  0.000   Jarque-Bera (JB):               15.630\n",
      "Skew:                           0.018   Prob(JB):                     0.000404\n",
      "Kurtosis:                       3.050   Cond. No.                         3.37\n",
      "==============================================================================\n",
      "\n",
      "Notes:\n",
      "[1] Standard Errors assume that the covariance matrix of the errors is correctly specified.\n"
     ]
    }
   ],
   "source": [
    "print(estimator.summary())"
   ]
  }
 ],
 "metadata": {
  "kernelspec": {
   "display_name": "Python 3",
   "language": "python",
   "name": "python3"
  },
  "language_info": {
   "codemirror_mode": {
    "name": "ipython",
    "version": 3
   },
   "file_extension": ".py",
   "mimetype": "text/x-python",
   "name": "python",
   "nbconvert_exporter": "python",
   "pygments_lexer": "ipython3",
   "version": "3.7.3"
  }
 },
 "nbformat": 4,
 "nbformat_minor": 1
}
