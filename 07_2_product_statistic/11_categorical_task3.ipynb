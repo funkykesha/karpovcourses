{
 "cells": [
  {
   "cell_type": "code",
   "execution_count": 2,
   "metadata": {},
   "outputs": [],
   "source": [
    "import numpy as np\n",
    "import pandas as pd\n",
    "import seaborn as sns\n",
    "from sklearn.preprocessing import OneHotEncoder as SklearnOneHotEncoder\n",
    "from statsmodels.regression.linear_model import OLS"
   ]
  },
  {
   "cell_type": "code",
   "execution_count": 3,
   "metadata": {
    "pycharm": {
     "name": "#%%\n"
    }
   },
   "outputs": [],
   "source": [
    "class OneHotEncoder(SklearnOneHotEncoder):\n",
    "    def __init__(self, **kwargs):\n",
    "        super(OneHotEncoder, self).__init__(**kwargs)\n",
    "        self.fit_flag = False\n",
    "\n",
    "    def fit(self, X, **kwargs):\n",
    "        out = super().fit(X)\n",
    "        self.fit_flag = True\n",
    "        return out\n",
    "\n",
    "    def transform(self, X, **kwargs):\n",
    "        sparse_matrix = super(OneHotEncoder, self).transform(X)\n",
    "        new_columns = self.get_new_columns(X=X)\n",
    "        d_out = pd.DataFrame(sparse_matrix.toarray(), columns=new_columns, index=X.index)\n",
    "        return d_out\n",
    "\n",
    "    def fit_transform(self, X, **kwargs):\n",
    "        self.fit(X)\n",
    "        return self.transform(X)\n",
    "\n",
    "    def get_new_columns(self, X):\n",
    "        new_columns = []\n",
    "        for i, column in enumerate(X.columns):\n",
    "            j = 0\n",
    "            while j < len(self.categories_[i]):\n",
    "                new_columns.append(f'{column}_<{self.categories_[i][j]}>')\n",
    "                j += 1\n",
    "        return new_columns"
   ]
  },
  {
   "cell_type": "code",
   "execution_count": 4,
   "metadata": {
    "pycharm": {
     "name": "#%%\n"
    }
   },
   "outputs": [],
   "source": [
    "promos = ['SALE15', 'TAKE30', 'LUCKY', 'SORRY', 'WINTER', 'SUMMER']\n",
    "promos_rate = [45, 9, 25, 4, 15, 42]\n",
    "total = sum(promos_rate)\n",
    "promos_rate = [i / total for i in promos_rate]\n",
    "promos_impact = [0.89, 0.77, 0.84, 0.93, 0.84, 0.91]"
   ]
  },
  {
   "cell_type": "code",
   "execution_count": 5,
   "metadata": {
    "pycharm": {
     "name": "#%%\n"
    }
   },
   "outputs": [],
   "source": [
    "aov = 30\n",
    "sigma = 8\n",
    "dataset_size = 370000\n",
    "promo_size = int(0.41 * dataset_size)\n",
    "free_delivery_share = 0.12\n",
    "surge_increment_share = 0.03\n",
    "\n",
    "df = pd.DataFrame().assign(\n",
    "    gmv = list(map(int, np.random.normal(aov, sigma, dataset_size - promo_size))),\n",
    "    title = ['no_promo'] * (dataset_size - promo_size)\n",
    ")\n",
    "\n",
    "for i, j, k in zip(promos, promos_rate, promos_impact):\n",
    "\n",
    "    df = (\n",
    "        pd.concat([\n",
    "            df,\n",
    "            (\n",
    "                pd.DataFrame().assign(\n",
    "                    gmv = list(map(int, np.random.normal(k * aov, sigma / k, int(promo_size * j)))),\n",
    "                    title = [i] * int(promo_size * j)\n",
    "                )\n",
    "            )\n",
    "        ])\n",
    "    )\n",
    "\n",
    "df = (\n",
    "    df\n",
    "        .sample(frac=1,replace=False)\n",
    "        .reset_index(drop=True)\n",
    "        .assign(\n",
    "            delivery_discount = lambda x: np.random.binomial(1, free_delivery_share, x.shape[0]),\n",
    "            surge_increment = lambda x: np.random.binomial(1, surge_increment_share, x.shape[0]),\n",
    "            order_id = lambda x: [i for i in range(768977643, 768977643 + x.shape[0])],\n",
    "            gmv = lambda x: x['gmv'] + 2 * (1 - x['delivery_discount']) + 1 * x['surge_increment']\n",
    "        )\n",
    "        .query('gmv > 0')\n",
    ")\n",
    "\n",
    "df.to_csv('multiple_promo_df.csv')"
   ]
  },
  {
   "cell_type": "code",
   "execution_count": 6,
   "metadata": {
    "scrolled": true
   },
   "outputs": [
    {
     "data": {
      "text/html": [
       "<div>\n",
       "<style scoped>\n",
       "    .dataframe tbody tr th:only-of-type {\n",
       "        vertical-align: middle;\n",
       "    }\n",
       "\n",
       "    .dataframe tbody tr th {\n",
       "        vertical-align: top;\n",
       "    }\n",
       "\n",
       "    .dataframe thead th {\n",
       "        text-align: right;\n",
       "    }\n",
       "</style>\n",
       "<table border=\"1\" class=\"dataframe\">\n",
       "  <thead>\n",
       "    <tr style=\"text-align: right;\">\n",
       "      <th></th>\n",
       "      <th>gmv</th>\n",
       "      <th>title</th>\n",
       "      <th>delivery_discount</th>\n",
       "      <th>surge_increment</th>\n",
       "      <th>order_id</th>\n",
       "    </tr>\n",
       "  </thead>\n",
       "  <tbody>\n",
       "    <tr>\n",
       "      <th>0</th>\n",
       "      <td>44</td>\n",
       "      <td>no_promo</td>\n",
       "      <td>0</td>\n",
       "      <td>0</td>\n",
       "      <td>768977643</td>\n",
       "    </tr>\n",
       "    <tr>\n",
       "      <th>1</th>\n",
       "      <td>31</td>\n",
       "      <td>no_promo</td>\n",
       "      <td>0</td>\n",
       "      <td>0</td>\n",
       "      <td>768977644</td>\n",
       "    </tr>\n",
       "    <tr>\n",
       "      <th>2</th>\n",
       "      <td>33</td>\n",
       "      <td>no_promo</td>\n",
       "      <td>0</td>\n",
       "      <td>0</td>\n",
       "      <td>768977645</td>\n",
       "    </tr>\n",
       "    <tr>\n",
       "      <th>3</th>\n",
       "      <td>12</td>\n",
       "      <td>TAKE30</td>\n",
       "      <td>0</td>\n",
       "      <td>0</td>\n",
       "      <td>768977646</td>\n",
       "    </tr>\n",
       "    <tr>\n",
       "      <th>4</th>\n",
       "      <td>39</td>\n",
       "      <td>no_promo</td>\n",
       "      <td>0</td>\n",
       "      <td>0</td>\n",
       "      <td>768977647</td>\n",
       "    </tr>\n",
       "  </tbody>\n",
       "</table>\n",
       "</div>"
      ],
      "text/plain": [
       "   gmv     title  delivery_discount  surge_increment   order_id\n",
       "0   44  no_promo                  0                0  768977643\n",
       "1   31  no_promo                  0                0  768977644\n",
       "2   33  no_promo                  0                0  768977645\n",
       "3   12    TAKE30                  0                0  768977646\n",
       "4   39  no_promo                  0                0  768977647"
      ]
     },
     "execution_count": 6,
     "metadata": {},
     "output_type": "execute_result"
    }
   ],
   "source": [
    "df.head()"
   ]
  },
  {
   "cell_type": "code",
   "execution_count": 8,
   "metadata": {},
   "outputs": [
    {
     "data": {
      "text/plain": [
       "0.5904031893802725"
      ]
     },
     "execution_count": 8,
     "metadata": {},
     "output_type": "execute_result"
    }
   ],
   "source": [
    "df.query('title == \"no_promo\"').shape[0] / df.shape[0]"
   ]
  },
  {
   "cell_type": "code",
   "execution_count": 7,
   "metadata": {},
   "outputs": [],
   "source": [
    "encoder = OneHotEncoder()"
   ]
  },
  {
   "cell_type": "code",
   "execution_count": 9,
   "metadata": {},
   "outputs": [
    {
     "data": {
      "text/html": [
       "<div>\n",
       "<style scoped>\n",
       "    .dataframe tbody tr th:only-of-type {\n",
       "        vertical-align: middle;\n",
       "    }\n",
       "\n",
       "    .dataframe tbody tr th {\n",
       "        vertical-align: top;\n",
       "    }\n",
       "\n",
       "    .dataframe thead th {\n",
       "        text-align: right;\n",
       "    }\n",
       "</style>\n",
       "<table border=\"1\" class=\"dataframe\">\n",
       "  <thead>\n",
       "    <tr style=\"text-align: right;\">\n",
       "      <th></th>\n",
       "      <th>title_&lt;LUCKY&gt;</th>\n",
       "      <th>title_&lt;SALE15&gt;</th>\n",
       "      <th>title_&lt;SORRY&gt;</th>\n",
       "      <th>title_&lt;SUMMER&gt;</th>\n",
       "      <th>title_&lt;TAKE30&gt;</th>\n",
       "      <th>title_&lt;WINTER&gt;</th>\n",
       "      <th>title_&lt;no_promo&gt;</th>\n",
       "    </tr>\n",
       "  </thead>\n",
       "  <tbody>\n",
       "    <tr>\n",
       "      <th>0</th>\n",
       "      <td>0.0</td>\n",
       "      <td>0.0</td>\n",
       "      <td>0.0</td>\n",
       "      <td>0.0</td>\n",
       "      <td>0.0</td>\n",
       "      <td>0.0</td>\n",
       "      <td>1.0</td>\n",
       "    </tr>\n",
       "    <tr>\n",
       "      <th>1</th>\n",
       "      <td>0.0</td>\n",
       "      <td>0.0</td>\n",
       "      <td>0.0</td>\n",
       "      <td>0.0</td>\n",
       "      <td>0.0</td>\n",
       "      <td>0.0</td>\n",
       "      <td>1.0</td>\n",
       "    </tr>\n",
       "    <tr>\n",
       "      <th>2</th>\n",
       "      <td>0.0</td>\n",
       "      <td>0.0</td>\n",
       "      <td>0.0</td>\n",
       "      <td>0.0</td>\n",
       "      <td>0.0</td>\n",
       "      <td>0.0</td>\n",
       "      <td>1.0</td>\n",
       "    </tr>\n",
       "  </tbody>\n",
       "</table>\n",
       "</div>"
      ],
      "text/plain": [
       "   title_<LUCKY>  title_<SALE15>  title_<SORRY>  title_<SUMMER>  \\\n",
       "0            0.0             0.0            0.0             0.0   \n",
       "1            0.0             0.0            0.0             0.0   \n",
       "2            0.0             0.0            0.0             0.0   \n",
       "\n",
       "   title_<TAKE30>  title_<WINTER>  title_<no_promo>  \n",
       "0             0.0             0.0               1.0  \n",
       "1             0.0             0.0               1.0  \n",
       "2             0.0             0.0               1.0  "
      ]
     },
     "execution_count": 9,
     "metadata": {},
     "output_type": "execute_result"
    }
   ],
   "source": [
    "encoder.fit_transform(df[['title']]).head(3)"
   ]
  },
  {
   "cell_type": "code",
   "execution_count": 11,
   "metadata": {
    "pycharm": {
     "name": "#%%\n"
    }
   },
   "outputs": [],
   "source": [
    "Y = df['gmv']\n",
    "\n",
    "X = encoder.fit_transform(df[['title']]).drop('title_<no_promo>', axis=1).assign(aov=1)\n",
    "X['delivery_discount'] = df['delivery_discount']\n",
    "X['surge_increment'] = df['surge_increment']"
   ]
  },
  {
   "cell_type": "code",
   "execution_count": 12,
   "metadata": {},
   "outputs": [
    {
     "data": {
      "text/html": [
       "<div>\n",
       "<style scoped>\n",
       "    .dataframe tbody tr th:only-of-type {\n",
       "        vertical-align: middle;\n",
       "    }\n",
       "\n",
       "    .dataframe tbody tr th {\n",
       "        vertical-align: top;\n",
       "    }\n",
       "\n",
       "    .dataframe thead th {\n",
       "        text-align: right;\n",
       "    }\n",
       "</style>\n",
       "<table border=\"1\" class=\"dataframe\">\n",
       "  <thead>\n",
       "    <tr style=\"text-align: right;\">\n",
       "      <th></th>\n",
       "      <th>title_&lt;LUCKY&gt;</th>\n",
       "      <th>title_&lt;SALE15&gt;</th>\n",
       "      <th>title_&lt;SORRY&gt;</th>\n",
       "      <th>title_&lt;SUMMER&gt;</th>\n",
       "      <th>title_&lt;TAKE30&gt;</th>\n",
       "      <th>title_&lt;WINTER&gt;</th>\n",
       "      <th>aov</th>\n",
       "      <th>delivery_discount</th>\n",
       "      <th>surge_increment</th>\n",
       "    </tr>\n",
       "  </thead>\n",
       "  <tbody>\n",
       "    <tr>\n",
       "      <th>0</th>\n",
       "      <td>0.0</td>\n",
       "      <td>0.0</td>\n",
       "      <td>0.0</td>\n",
       "      <td>0.0</td>\n",
       "      <td>0.0</td>\n",
       "      <td>0.0</td>\n",
       "      <td>1</td>\n",
       "      <td>0</td>\n",
       "      <td>0</td>\n",
       "    </tr>\n",
       "    <tr>\n",
       "      <th>1</th>\n",
       "      <td>0.0</td>\n",
       "      <td>0.0</td>\n",
       "      <td>0.0</td>\n",
       "      <td>0.0</td>\n",
       "      <td>0.0</td>\n",
       "      <td>0.0</td>\n",
       "      <td>1</td>\n",
       "      <td>0</td>\n",
       "      <td>0</td>\n",
       "    </tr>\n",
       "    <tr>\n",
       "      <th>2</th>\n",
       "      <td>0.0</td>\n",
       "      <td>0.0</td>\n",
       "      <td>0.0</td>\n",
       "      <td>0.0</td>\n",
       "      <td>0.0</td>\n",
       "      <td>0.0</td>\n",
       "      <td>1</td>\n",
       "      <td>0</td>\n",
       "      <td>0</td>\n",
       "    </tr>\n",
       "  </tbody>\n",
       "</table>\n",
       "</div>"
      ],
      "text/plain": [
       "   title_<LUCKY>  title_<SALE15>  title_<SORRY>  title_<SUMMER>  \\\n",
       "0            0.0             0.0            0.0             0.0   \n",
       "1            0.0             0.0            0.0             0.0   \n",
       "2            0.0             0.0            0.0             0.0   \n",
       "\n",
       "   title_<TAKE30>  title_<WINTER>  aov  delivery_discount  surge_increment  \n",
       "0             0.0             0.0    1                  0                0  \n",
       "1             0.0             0.0    1                  0                0  \n",
       "2             0.0             0.0    1                  0                0  "
      ]
     },
     "execution_count": 12,
     "metadata": {},
     "output_type": "execute_result"
    }
   ],
   "source": [
    "X.head(3)"
   ]
  },
  {
   "cell_type": "code",
   "execution_count": 46,
   "metadata": {},
   "outputs": [],
   "source": [
    "estimator = OLS(Y, X).fit()"
   ]
  },
  {
   "cell_type": "code",
   "execution_count": 47,
   "metadata": {},
   "outputs": [
    {
     "name": "stdout",
     "output_type": "stream",
     "text": [
      "                            OLS Regression Results                            \n",
      "==============================================================================\n",
      "Dep. Variable:                    gmv   R-squared:                       0.058\n",
      "Model:                            OLS   Adj. R-squared:                  0.058\n",
      "Method:                 Least Squares   F-statistic:                     2844.\n",
      "Date:                Tue, 19 Jul 2022   Prob (F-statistic):               0.00\n",
      "Time:                        09:25:10   Log-Likelihood:            -1.3137e+06\n",
      "No. Observations:              369705   AIC:                         2.627e+06\n",
      "Df Residuals:                  369696   BIC:                         2.628e+06\n",
      "Df Model:                           8                                         \n",
      "Covariance Type:            nonrobust                                         \n",
      "=====================================================================================\n",
      "                        coef    std err          t      P>|t|      [0.025      0.975]\n",
      "-------------------------------------------------------------------------------------\n",
      "title_<LUCKY>        -4.7214      0.055    -86.588      0.000      -4.828      -4.615\n",
      "title_<SALE15>       -3.3930      0.042    -80.113      0.000      -3.476      -3.310\n",
      "title_<SORRY>        -2.2311      0.130    -17.203      0.000      -2.485      -1.977\n",
      "title_<SUMMER>       -2.6650      0.044    -61.168      0.000      -2.750      -2.580\n",
      "title_<TAKE30>       -6.8097      0.088    -77.495      0.000      -6.982      -6.638\n",
      "title_<WINTER>       -4.7933      0.069    -69.641      0.000      -4.928      -4.658\n",
      "aov                  31.5263      0.019   1661.272      0.000      31.489      31.564\n",
      "delivery_discount    -2.0326      0.043    -47.626      0.000      -2.116      -1.949\n",
      "surge_increment       0.8302      0.082     10.149      0.000       0.670       0.991\n",
      "==============================================================================\n",
      "Omnibus:                       42.868   Durbin-Watson:                   1.998\n",
      "Prob(Omnibus):                  0.000   Jarque-Bera (JB):               42.878\n",
      "Skew:                           0.026   Prob(JB):                     4.89e-10\n",
      "Kurtosis:                       3.002   Cond. No.                         9.62\n",
      "==============================================================================\n",
      "\n",
      "Notes:\n",
      "[1] Standard Errors assume that the covariance matrix of the errors is correctly specified.\n"
     ]
    }
   ],
   "source": [
    "print(estimator.summary())"
   ]
  }
 ],
 "metadata": {
  "kernelspec": {
   "display_name": "Python 3",
   "language": "python",
   "name": "python3"
  },
  "language_info": {
   "codemirror_mode": {
    "name": "ipython",
    "version": 3
   },
   "file_extension": ".py",
   "mimetype": "text/x-python",
   "name": "python",
   "nbconvert_exporter": "python",
   "pygments_lexer": "ipython3",
   "version": "3.7.3"
  }
 },
 "nbformat": 4,
 "nbformat_minor": 1
}
