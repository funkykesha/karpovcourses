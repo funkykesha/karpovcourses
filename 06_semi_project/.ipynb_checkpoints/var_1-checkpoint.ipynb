{
 "cells": [
  {
   "cell_type": "code",
   "execution_count": 1,
   "metadata": {},
   "outputs": [],
   "source": [
    "import pandas as pd"
   ]
  },
  {
   "cell_type": "code",
   "execution_count": 5,
   "metadata": {},
   "outputs": [],
   "source": [
    "# таблица с уникальными идентификаторами пользователей\n",
    "\n",
    "users = pd.read_csv('olist_customers_dataset.csv')"
   ]
  },
  {
   "cell_type": "markdown",
   "metadata": {},
   "source": [
    "customer_id — позаказный идентификатор пользователя \\\n",
    "customer_unique_id —  уникальный идентификатор пользователя  (аналог номера паспорта) \\\n",
    "customer_zip_code_prefix —  почтовый индекс пользователя \\\n",
    "customer_city —  город доставки пользователя \\\n",
    "customer_state —  штат доставки пользователя \\"
   ]
  },
  {
   "cell_type": "code",
   "execution_count": 6,
   "metadata": {},
   "outputs": [],
   "source": [
    "# таблица заказов\n",
    "\n",
    "orders = pd.read_csv('olist_orders_dataset.csv')"
   ]
  },
  {
   "cell_type": "markdown",
   "metadata": {},
   "source": [
    "order_id —  уникальный идентификатор заказа (номер чека) \\\n",
    "customer_id —  позаказный идентификатор пользователя \\\n",
    "order_status —  статус заказа \\\n",
    "order_purchase_timestamp —  время создания заказа \\\n",
    "order_approved_at —  время подтверждения оплаты заказа \\\n",
    "order_delivered_carrier_date —  время передачи заказа в логистическую службу \\\n",
    "order_delivered_customer_date —  время доставки заказа \\\n",
    "order_estimated_delivery_date —  обещанная дата доставки \\\n",
    "\n",
    "Уникальные статусы заказов в таблице olist_orders_dataset:\n",
    "\n",
    "created —  создан \\\n",
    "approved —  подтверждён \\\n",
    "invoiced —  выставлен счёт \\\n",
    "processing —  в процессе сборки заказа \\\n",
    "shipped —  отгружен со склада \\\n",
    "delivered —  доставлен пользователю \\\n",
    "unavailable —  недоступен \\\n",
    "canceled —  отменён"
   ]
  },
  {
   "cell_type": "code",
   "execution_count": 7,
   "metadata": {},
   "outputs": [],
   "source": [
    "# товарные позиции, входящие в заказы\n",
    "\n",
    "position = pd.read_csv('olist_order_items_dataset.csv')"
   ]
  },
  {
   "cell_type": "markdown",
   "metadata": {},
   "source": [
    "order_id —  уникальный идентификатор заказа (номер чека) \\\n",
    "order_item_id —  идентификатор товара внутри одного заказа \\\n",
    "product_id —  ид товара (аналог штрихкода) \\\n",
    "seller_id — ид производителя товара \\\n",
    "shipping_limit_date —  максимальная дата доставки продавцом для передачи заказа партнеру по логистике \\\n",
    "price —  цена за единицу товара \\\n",
    "freight_value —  вес товара \\"
   ]
  },
  {
   "cell_type": "raw",
   "metadata": {},
   "source": []
  }
 ],
 "metadata": {
  "kernelspec": {
   "display_name": "Python 3",
   "language": "python",
   "name": "python3"
  },
  "language_info": {
   "codemirror_mode": {
    "name": "ipython",
    "version": 3
   },
   "file_extension": ".py",
   "mimetype": "text/x-python",
   "name": "python",
   "nbconvert_exporter": "python",
   "pygments_lexer": "ipython3",
   "version": "3.7.3"
  }
 },
 "nbformat": 4,
 "nbformat_minor": 4
}
