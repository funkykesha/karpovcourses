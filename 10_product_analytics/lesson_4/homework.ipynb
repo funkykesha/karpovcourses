{
 "cells": [
  {
   "cell_type": "code",
   "execution_count": 2,
   "metadata": {
    "collapsed": true
   },
   "outputs": [],
   "source": [
    "import pandas as pd\n",
    "import numpy as np\n",
    "\n",
    "# Matplotlib forms basis for visualization in Python\n",
    "import matplotlib.pyplot as plt\n",
    "\n",
    "# We will use the Seaborn library\n",
    "import seaborn as sns\n",
    "sns.set()\n",
    "\n",
    "# Graphics in SVG format are more sharp and legible\n",
    "get_ipython().run_line_magic('config', \"InlineBackend.figure_format = 'svg'\")\n",
    "\n",
    "# Increase the default plot size and set the color scheme\n",
    "plt.rcParams['figure.figsize'] = (8, 5)\n",
    "plt.rcParams['image.cmap'] = 'viridis'"
   ]
  },
  {
   "cell_type": "code",
   "execution_count": 3,
   "metadata": {
    "collapsed": false
   },
   "outputs": [
    {
     "name": "stderr",
     "output_type": "stream",
     "text": [
      "/var/folders/yd/2jnp42zd2kndq3rb8szyr8f00000gp/T/ipykernel_67271/2863723511.py:1: DtypeWarning: Columns (1) have mixed types. Specify dtype option on import or set low_memory=False.\n",
      "  orders = pd.read_csv('RFM_ht_data.csv')\n"
     ]
    }
   ],
   "source": [
    "orders = pd.read_csv('RFM_ht_data.csv')"
   ]
  },
  {
   "cell_type": "code",
   "execution_count": 4,
   "metadata": {
    "collapsed": false
   },
   "outputs": [
    {
     "data": {
      "text/html": [
       "<div>\n",
       "<style scoped>\n",
       "    .dataframe tbody tr th:only-of-type {\n",
       "        vertical-align: middle;\n",
       "    }\n",
       "\n",
       "    .dataframe tbody tr th {\n",
       "        vertical-align: top;\n",
       "    }\n",
       "\n",
       "    .dataframe thead th {\n",
       "        text-align: right;\n",
       "    }\n",
       "</style>\n",
       "<table border=\"1\" class=\"dataframe\">\n",
       "  <thead>\n",
       "    <tr style=\"text-align: right;\">\n",
       "      <th></th>\n",
       "      <th>InvoiceNo</th>\n",
       "      <th>CustomerCode</th>\n",
       "      <th>InvoiceDate</th>\n",
       "      <th>Amount</th>\n",
       "    </tr>\n",
       "  </thead>\n",
       "  <tbody>\n",
       "    <tr>\n",
       "      <th>0</th>\n",
       "      <td>C0011810010001</td>\n",
       "      <td>19067290</td>\n",
       "      <td>2020-09-01</td>\n",
       "      <td>1716.00</td>\n",
       "    </tr>\n",
       "    <tr>\n",
       "      <th>1</th>\n",
       "      <td>C0011810010017</td>\n",
       "      <td>13233933</td>\n",
       "      <td>2020-09-01</td>\n",
       "      <td>1489.74</td>\n",
       "    </tr>\n",
       "    <tr>\n",
       "      <th>2</th>\n",
       "      <td>C0011810010020</td>\n",
       "      <td>99057968</td>\n",
       "      <td>2020-09-01</td>\n",
       "      <td>151.47</td>\n",
       "    </tr>\n",
       "    <tr>\n",
       "      <th>3</th>\n",
       "      <td>C0011810010021</td>\n",
       "      <td>80007276</td>\n",
       "      <td>2020-09-01</td>\n",
       "      <td>146.72</td>\n",
       "    </tr>\n",
       "    <tr>\n",
       "      <th>4</th>\n",
       "      <td>C0011810010024</td>\n",
       "      <td>13164076</td>\n",
       "      <td>2020-09-01</td>\n",
       "      <td>104.00</td>\n",
       "    </tr>\n",
       "  </tbody>\n",
       "</table>\n",
       "</div>"
      ],
      "text/plain": [
       "        InvoiceNo CustomerCode InvoiceDate   Amount\n",
       "0  C0011810010001     19067290  2020-09-01  1716.00\n",
       "1  C0011810010017     13233933  2020-09-01  1489.74\n",
       "2  C0011810010020     99057968  2020-09-01   151.47\n",
       "3  C0011810010021     80007276  2020-09-01   146.72\n",
       "4  C0011810010024     13164076  2020-09-01   104.00"
      ]
     },
     "execution_count": 4,
     "metadata": {},
     "output_type": "execute_result"
    }
   ],
   "source": [
    "orders.head()"
   ]
  },
  {
   "cell_type": "code",
   "execution_count": 5,
   "metadata": {
    "collapsed": false
   },
   "outputs": [],
   "source": [
    "# приводим к нужным типам данных\n",
    "orders['InvoiceDate'] = pd.to_datetime(orders['InvoiceDate'])\n",
    "orders['InvoiceNo'] = orders['InvoiceNo'].apply(str)\n",
    "orders['CustomerCode'] = orders['CustomerCode'].apply(str)"
   ]
  },
  {
   "cell_type": "code",
   "execution_count": 6,
   "metadata": {
    "collapsed": false
   },
   "outputs": [],
   "source": [
    "# вычисляем точку отсчета для дат (берем самую последнюю из попавшихся в логах)\n",
    "last_date = orders.InvoiceDate.max()"
   ]
  },
  {
   "cell_type": "code",
   "execution_count": 7,
   "metadata": {
    "collapsed": false
   },
   "outputs": [],
   "source": [
    "# вычисляем для каждого покупателя:\n",
    "rfmTable = orders.groupby('CustomerCode', as_index=False) \\\n",
    "                 .agg({'InvoiceDate': lambda x: (last_date - x.max()).days, # Recency #Количество дней с последнего заказа\n",
    "                       'InvoiceNo': 'count',      # Frequency #Количество заказов\n",
    "                       'Amount': lambda x: x.sum()}) # Monetary Value #Общая сумма по всем заказам"
   ]
  },
  {
   "cell_type": "code",
   "execution_count": 8,
   "metadata": {
    "collapsed": false
   },
   "outputs": [],
   "source": [
    "# приводим количество дней к числу и переименовываем столбцы\n",
    "rfmTable['InvoiceDate'] = rfmTable['InvoiceDate'].astype(int)\n",
    "rfmTable.rename(columns={'InvoiceDate': 'recency',\n",
    "                         'InvoiceNo': 'frequency',\n",
    "                         'Amount': 'monetary_value'}, inplace=True)"
   ]
  },
  {
   "cell_type": "code",
   "execution_count": 9,
   "metadata": {
    "collapsed": false
   },
   "outputs": [
    {
     "data": {
      "text/html": [
       "<div>\n",
       "<style scoped>\n",
       "    .dataframe tbody tr th:only-of-type {\n",
       "        vertical-align: middle;\n",
       "    }\n",
       "\n",
       "    .dataframe tbody tr th {\n",
       "        vertical-align: top;\n",
       "    }\n",
       "\n",
       "    .dataframe thead th {\n",
       "        text-align: right;\n",
       "    }\n",
       "</style>\n",
       "<table border=\"1\" class=\"dataframe\">\n",
       "  <thead>\n",
       "    <tr style=\"text-align: right;\">\n",
       "      <th></th>\n",
       "      <th>CustomerCode</th>\n",
       "      <th>recency</th>\n",
       "      <th>frequency</th>\n",
       "      <th>monetary_value</th>\n",
       "    </tr>\n",
       "  </thead>\n",
       "  <tbody>\n",
       "    <tr>\n",
       "      <th>0</th>\n",
       "      <td>02213019</td>\n",
       "      <td>19</td>\n",
       "      <td>1</td>\n",
       "      <td>1609.20</td>\n",
       "    </tr>\n",
       "    <tr>\n",
       "      <th>1</th>\n",
       "      <td>02213042</td>\n",
       "      <td>22</td>\n",
       "      <td>3</td>\n",
       "      <td>9685.48</td>\n",
       "    </tr>\n",
       "    <tr>\n",
       "      <th>2</th>\n",
       "      <td>02213071</td>\n",
       "      <td>29</td>\n",
       "      <td>1</td>\n",
       "      <td>415.00</td>\n",
       "    </tr>\n",
       "    <tr>\n",
       "      <th>3</th>\n",
       "      <td>02213088</td>\n",
       "      <td>23</td>\n",
       "      <td>1</td>\n",
       "      <td>305.00</td>\n",
       "    </tr>\n",
       "    <tr>\n",
       "      <th>4</th>\n",
       "      <td>02213092</td>\n",
       "      <td>25</td>\n",
       "      <td>1</td>\n",
       "      <td>1412.88</td>\n",
       "    </tr>\n",
       "  </tbody>\n",
       "</table>\n",
       "</div>"
      ],
      "text/plain": [
       "  CustomerCode  recency  frequency  monetary_value\n",
       "0     02213019       19          1         1609.20\n",
       "1     02213042       22          3         9685.48\n",
       "2     02213071       29          1          415.00\n",
       "3     02213088       23          1          305.00\n",
       "4     02213092       25          1         1412.88"
      ]
     },
     "execution_count": 9,
     "metadata": {},
     "output_type": "execute_result"
    }
   ],
   "source": [
    "rfmTable.head()"
   ]
  },
  {
   "cell_type": "code",
   "execution_count": 10,
   "metadata": {
    "collapsed": false
   },
   "outputs": [],
   "source": [
    "# проверяем, что в таблице одинаковое количество покупателей"
   ]
  },
  {
   "cell_type": "code",
   "execution_count": 11,
   "metadata": {
    "collapsed": false
   },
   "outputs": [
    {
     "data": {
      "text/plain": [
       "123733"
      ]
     },
     "execution_count": 11,
     "metadata": {},
     "output_type": "execute_result"
    }
   ],
   "source": [
    "orders.CustomerCode.nunique()"
   ]
  },
  {
   "cell_type": "code",
   "execution_count": 12,
   "metadata": {
    "collapsed": false
   },
   "outputs": [
    {
     "data": {
      "text/plain": [
       "(123733,)"
      ]
     },
     "execution_count": 12,
     "metadata": {},
     "output_type": "execute_result"
    }
   ],
   "source": [
    "rfmTable['CustomerCode'].shape"
   ]
  },
  {
   "cell_type": "code",
   "execution_count": 13,
   "metadata": {
    "collapsed": false
   },
   "outputs": [
    {
     "data": {
      "text/html": [
       "<div>\n",
       "<style scoped>\n",
       "    .dataframe tbody tr th:only-of-type {\n",
       "        vertical-align: middle;\n",
       "    }\n",
       "\n",
       "    .dataframe tbody tr th {\n",
       "        vertical-align: top;\n",
       "    }\n",
       "\n",
       "    .dataframe thead th {\n",
       "        text-align: right;\n",
       "    }\n",
       "</style>\n",
       "<table border=\"1\" class=\"dataframe\">\n",
       "  <thead>\n",
       "    <tr style=\"text-align: right;\">\n",
       "      <th></th>\n",
       "      <th>recency</th>\n",
       "      <th>frequency</th>\n",
       "      <th>monetary_value</th>\n",
       "    </tr>\n",
       "  </thead>\n",
       "  <tbody>\n",
       "    <tr>\n",
       "      <th>0.25</th>\n",
       "      <td>2.0</td>\n",
       "      <td>1.0</td>\n",
       "      <td>765.00</td>\n",
       "    </tr>\n",
       "    <tr>\n",
       "      <th>0.50</th>\n",
       "      <td>8.0</td>\n",
       "      <td>2.0</td>\n",
       "      <td>1834.48</td>\n",
       "    </tr>\n",
       "    <tr>\n",
       "      <th>0.75</th>\n",
       "      <td>16.0</td>\n",
       "      <td>3.0</td>\n",
       "      <td>4008.84</td>\n",
       "    </tr>\n",
       "  </tbody>\n",
       "</table>\n",
       "</div>"
      ],
      "text/plain": [
       "      recency  frequency  monetary_value\n",
       "0.25      2.0        1.0          765.00\n",
       "0.50      8.0        2.0         1834.48\n",
       "0.75     16.0        3.0         4008.84"
      ]
     },
     "execution_count": 13,
     "metadata": {},
     "output_type": "execute_result"
    }
   ],
   "source": [
    "# создаем справочник с квантилями значений (узнаем границы)\n",
    "quantiles = rfmTable.quantile(q=[0.25, 0.5, 0.75])\n",
    "quantiles"
   ]
  },
  {
   "cell_type": "code",
   "execution_count": 14,
   "metadata": {
    "collapsed": false
   },
   "outputs": [],
   "source": [
    "# создаем функции, которые будут применяться для сегментации RFM\n",
    "def RClass(value, parameter_name, quantiles_table):\n",
    "    if value <= quantiles_table[parameter_name][0.25]:\n",
    "        return 1\n",
    "    elif value <= quantiles_table[parameter_name][0.50]:\n",
    "        return 2\n",
    "    elif value <= quantiles_table[parameter_name][0.75]:\n",
    "        return 3\n",
    "    else:\n",
    "        return 4\n",
    "\n",
    "\n",
    "def FMClass(value, parameter_name, quantiles_table):\n",
    "    if value <= quantiles_table[parameter_name][0.25]:\n",
    "        return 4\n",
    "    elif value <= quantiles_table[parameter_name][0.50]:\n",
    "        return 3\n",
    "    elif value <= quantiles_table[parameter_name][0.75]:\n",
    "        return 2\n",
    "    else:\n",
    "        return 1"
   ]
  },
  {
   "cell_type": "code",
   "execution_count": 15,
   "metadata": {
    "collapsed": false
   },
   "outputs": [],
   "source": [
    "rfmSegmentation = rfmTable"
   ]
  },
  {
   "cell_type": "code",
   "execution_count": 16,
   "metadata": {
    "collapsed": false
   },
   "outputs": [],
   "source": [
    "# создаем RFM параметры\n",
    "rfmSegmentation['R_Quartile'] = rfmSegmentation['recency'].apply(RClass, args=('recency',quantiles))\n",
    "rfmSegmentation['F_Quartile'] = rfmSegmentation['frequency'].apply(FMClass, args=('frequency',quantiles))\n",
    "rfmSegmentation['M_Quartile'] = rfmSegmentation['monetary_value'].apply(FMClass, args=('monetary_value',quantiles))"
   ]
  },
  {
   "cell_type": "code",
   "execution_count": 17,
   "metadata": {
    "collapsed": false
   },
   "outputs": [],
   "source": [
    "# создаем RFM-кластеры\n",
    "rfmSegmentation['RFMClass'] = rfmSegmentation.R_Quartile.map(str) \\\n",
    "                              + rfmSegmentation.F_Quartile.map(str) \\\n",
    "                              + rfmSegmentation.M_Quartile.map(str)"
   ]
  },
  {
   "cell_type": "code",
   "execution_count": 18,
   "metadata": {
    "collapsed": false
   },
   "outputs": [
    {
     "data": {
      "text/html": [
       "<div>\n",
       "<style scoped>\n",
       "    .dataframe tbody tr th:only-of-type {\n",
       "        vertical-align: middle;\n",
       "    }\n",
       "\n",
       "    .dataframe tbody tr th {\n",
       "        vertical-align: top;\n",
       "    }\n",
       "\n",
       "    .dataframe thead th {\n",
       "        text-align: right;\n",
       "    }\n",
       "</style>\n",
       "<table border=\"1\" class=\"dataframe\">\n",
       "  <thead>\n",
       "    <tr style=\"text-align: right;\">\n",
       "      <th></th>\n",
       "      <th>CustomerCode</th>\n",
       "      <th>recency</th>\n",
       "      <th>frequency</th>\n",
       "      <th>monetary_value</th>\n",
       "      <th>R_Quartile</th>\n",
       "      <th>F_Quartile</th>\n",
       "      <th>M_Quartile</th>\n",
       "      <th>RFMClass</th>\n",
       "    </tr>\n",
       "  </thead>\n",
       "  <tbody>\n",
       "    <tr>\n",
       "      <th>0</th>\n",
       "      <td>02213019</td>\n",
       "      <td>19</td>\n",
       "      <td>1</td>\n",
       "      <td>1609.20</td>\n",
       "      <td>4</td>\n",
       "      <td>4</td>\n",
       "      <td>3</td>\n",
       "      <td>443</td>\n",
       "    </tr>\n",
       "    <tr>\n",
       "      <th>1</th>\n",
       "      <td>02213042</td>\n",
       "      <td>22</td>\n",
       "      <td>3</td>\n",
       "      <td>9685.48</td>\n",
       "      <td>4</td>\n",
       "      <td>2</td>\n",
       "      <td>1</td>\n",
       "      <td>421</td>\n",
       "    </tr>\n",
       "    <tr>\n",
       "      <th>2</th>\n",
       "      <td>02213071</td>\n",
       "      <td>29</td>\n",
       "      <td>1</td>\n",
       "      <td>415.00</td>\n",
       "      <td>4</td>\n",
       "      <td>4</td>\n",
       "      <td>4</td>\n",
       "      <td>444</td>\n",
       "    </tr>\n",
       "    <tr>\n",
       "      <th>3</th>\n",
       "      <td>02213088</td>\n",
       "      <td>23</td>\n",
       "      <td>1</td>\n",
       "      <td>305.00</td>\n",
       "      <td>4</td>\n",
       "      <td>4</td>\n",
       "      <td>4</td>\n",
       "      <td>444</td>\n",
       "    </tr>\n",
       "    <tr>\n",
       "      <th>4</th>\n",
       "      <td>02213092</td>\n",
       "      <td>25</td>\n",
       "      <td>1</td>\n",
       "      <td>1412.88</td>\n",
       "      <td>4</td>\n",
       "      <td>4</td>\n",
       "      <td>3</td>\n",
       "      <td>443</td>\n",
       "    </tr>\n",
       "  </tbody>\n",
       "</table>\n",
       "</div>"
      ],
      "text/plain": [
       "  CustomerCode  recency  frequency  monetary_value  R_Quartile  F_Quartile  \\\n",
       "0     02213019       19          1         1609.20           4           4   \n",
       "1     02213042       22          3         9685.48           4           2   \n",
       "2     02213071       29          1          415.00           4           4   \n",
       "3     02213088       23          1          305.00           4           4   \n",
       "4     02213092       25          1         1412.88           4           4   \n",
       "\n",
       "   M_Quartile RFMClass  \n",
       "0           3      443  \n",
       "1           1      421  \n",
       "2           4      444  \n",
       "3           4      444  \n",
       "4           3      443  "
      ]
     },
     "execution_count": 18,
     "metadata": {},
     "output_type": "execute_result"
    }
   ],
   "source": [
    "rfmSegmentation.head()"
   ]
  },
  {
   "cell_type": "code",
   "execution_count": 19,
   "metadata": {
    "collapsed": false
   },
   "outputs": [
    {
     "data": {
      "text/html": [
       "<div>\n",
       "<style scoped>\n",
       "    .dataframe tbody tr th:only-of-type {\n",
       "        vertical-align: middle;\n",
       "    }\n",
       "\n",
       "    .dataframe tbody tr th {\n",
       "        vertical-align: top;\n",
       "    }\n",
       "\n",
       "    .dataframe thead th {\n",
       "        text-align: right;\n",
       "    }\n",
       "</style>\n",
       "<table border=\"1\" class=\"dataframe\">\n",
       "  <thead>\n",
       "    <tr style=\"text-align: right;\">\n",
       "      <th>F_Quartile</th>\n",
       "      <th>1</th>\n",
       "      <th>2</th>\n",
       "      <th>3</th>\n",
       "      <th>4</th>\n",
       "    </tr>\n",
       "    <tr>\n",
       "      <th>R_Quartile</th>\n",
       "      <th></th>\n",
       "      <th></th>\n",
       "      <th></th>\n",
       "      <th></th>\n",
       "    </tr>\n",
       "  </thead>\n",
       "  <tbody>\n",
       "    <tr>\n",
       "      <th>1</th>\n",
       "      <td>14433</td>\n",
       "      <td>4671</td>\n",
       "      <td>5795</td>\n",
       "      <td>6074</td>\n",
       "    </tr>\n",
       "    <tr>\n",
       "      <th>2</th>\n",
       "      <td>9634</td>\n",
       "      <td>5889</td>\n",
       "      <td>8633</td>\n",
       "      <td>10399</td>\n",
       "    </tr>\n",
       "    <tr>\n",
       "      <th>3</th>\n",
       "      <td>3091</td>\n",
       "      <td>3748</td>\n",
       "      <td>7734</td>\n",
       "      <td>13263</td>\n",
       "    </tr>\n",
       "    <tr>\n",
       "      <th>4</th>\n",
       "      <td>542</td>\n",
       "      <td>1311</td>\n",
       "      <td>5415</td>\n",
       "      <td>23101</td>\n",
       "    </tr>\n",
       "  </tbody>\n",
       "</table>\n",
       "</div>"
      ],
      "text/plain": [
       "F_Quartile      1     2     3      4\n",
       "R_Quartile                          \n",
       "1           14433  4671  5795   6074\n",
       "2            9634  5889  8633  10399\n",
       "3            3091  3748  7734  13263\n",
       "4             542  1311  5415  23101"
      ]
     },
     "execution_count": 19,
     "metadata": {},
     "output_type": "execute_result"
    }
   ],
   "source": [
    "pd.crosstab(index = rfmSegmentation.R_Quartile, columns = rfmSegmentation.F_Quartile)"
   ]
  },
  {
   "cell_type": "code",
   "execution_count": 20,
   "metadata": {
    "collapsed": false
   },
   "outputs": [
    {
     "data": {
      "image/svg+xml": [
       "<?xml version=\"1.0\" encoding=\"utf-8\" standalone=\"no\"?>\n",
       "<!DOCTYPE svg PUBLIC \"-//W3C//DTD SVG 1.1//EN\"\n",
       "  \"http://www.w3.org/Graphics/SVG/1.1/DTD/svg11.dtd\">\n",
       "<svg xmlns:xlink=\"http://www.w3.org/1999/xlink\" width=\"476.086094pt\" height=\"320.887969pt\" viewBox=\"0 0 476.086094 320.887969\" xmlns=\"http://www.w3.org/2000/svg\" version=\"1.1\">\n",
       " <metadata>\n",
       "  <rdf:RDF xmlns:dc=\"http://purl.org/dc/elements/1.1/\" xmlns:cc=\"http://creativecommons.org/ns#\" xmlns:rdf=\"http://www.w3.org/1999/02/22-rdf-syntax-ns#\">\n",
       "   <cc:Work>\n",
       "    <dc:type rdf:resource=\"http://purl.org/dc/dcmitype/StillImage\"/>\n",
       "    <dc:date>2022-11-13T15:33:13.981660</dc:date>\n",
       "    <dc:format>image/svg+xml</dc:format>\n",
       "    <dc:creator>\n",
       "     <cc:Agent>\n",
       "      <dc:title>Matplotlib v3.5.1, https://matplotlib.org/</dc:title>\n",
       "     </cc:Agent>\n",
       "    </dc:creator>\n",
       "   </cc:Work>\n",
       "  </rdf:RDF>\n",
       " </metadata>\n",
       " <defs>\n",
       "  <style type=\"text/css\">*{stroke-linejoin: round; stroke-linecap: butt}</style>\n",
       " </defs>\n",
       " <g id=\"figure_1\">\n",
       "  <g id=\"patch_1\">\n",
       "   <path d=\"M 0 320.887969 \n",
       "L 476.086094 320.887969 \n",
       "L 476.086094 0 \n",
       "L 0 0 \n",
       "z\n",
       "\" style=\"fill: #ffffff\"/>\n",
       "  </g>\n",
       "  <g id=\"axes_1\">\n",
       "   <g id=\"patch_2\">\n",
       "    <path d=\"M 41.887969 279 \n",
       "L 399.007969 279 \n",
       "L 399.007969 7.2 \n",
       "L 41.887969 7.2 \n",
       "z\n",
       "\" style=\"fill: #eaeaf2\"/>\n",
       "   </g>\n",
       "   <g id=\"matplotlib.axis_1\">\n",
       "    <g id=\"xtick_1\">\n",
       "     <g id=\"text_1\">\n",
       "      <!-- 1 -->\n",
       "      <g style=\"fill: #262626\" transform=\"translate(83.469453 296.373594)scale(0.11 -0.11)\">\n",
       "       <defs>\n",
       "        <path id=\"ArialMT-31\" d=\"M 2384 0 \n",
       "L 1822 0 \n",
       "L 1822 3584 \n",
       "Q 1619 3391 1289 3197 \n",
       "Q 959 3003 697 2906 \n",
       "L 697 3450 \n",
       "Q 1169 3672 1522 3987 \n",
       "Q 1875 4303 2022 4600 \n",
       "L 2384 4600 \n",
       "L 2384 0 \n",
       "z\n",
       "\" transform=\"scale(0.015625)\"/>\n",
       "       </defs>\n",
       "       <use xlink:href=\"#ArialMT-31\"/>\n",
       "      </g>\n",
       "     </g>\n",
       "    </g>\n",
       "    <g id=\"xtick_2\">\n",
       "     <g id=\"text_2\">\n",
       "      <!-- 2 -->\n",
       "      <g style=\"fill: #262626\" transform=\"translate(172.749453 296.373594)scale(0.11 -0.11)\">\n",
       "       <defs>\n",
       "        <path id=\"ArialMT-32\" d=\"M 3222 541 \n",
       "L 3222 0 \n",
       "L 194 0 \n",
       "Q 188 203 259 391 \n",
       "Q 375 700 629 1000 \n",
       "Q 884 1300 1366 1694 \n",
       "Q 2113 2306 2375 2664 \n",
       "Q 2638 3022 2638 3341 \n",
       "Q 2638 3675 2398 3904 \n",
       "Q 2159 4134 1775 4134 \n",
       "Q 1369 4134 1125 3890 \n",
       "Q 881 3647 878 3216 \n",
       "L 300 3275 \n",
       "Q 359 3922 746 4261 \n",
       "Q 1134 4600 1788 4600 \n",
       "Q 2447 4600 2831 4234 \n",
       "Q 3216 3869 3216 3328 \n",
       "Q 3216 3053 3103 2787 \n",
       "Q 2991 2522 2730 2228 \n",
       "Q 2469 1934 1863 1422 \n",
       "Q 1356 997 1212 845 \n",
       "Q 1069 694 975 541 \n",
       "L 3222 541 \n",
       "z\n",
       "\" transform=\"scale(0.015625)\"/>\n",
       "       </defs>\n",
       "       <use xlink:href=\"#ArialMT-32\"/>\n",
       "      </g>\n",
       "     </g>\n",
       "    </g>\n",
       "    <g id=\"xtick_3\">\n",
       "     <g id=\"text_3\">\n",
       "      <!-- 3 -->\n",
       "      <g style=\"fill: #262626\" transform=\"translate(262.029453 296.373594)scale(0.11 -0.11)\">\n",
       "       <defs>\n",
       "        <path id=\"ArialMT-33\" d=\"M 269 1209 \n",
       "L 831 1284 \n",
       "Q 928 806 1161 595 \n",
       "Q 1394 384 1728 384 \n",
       "Q 2125 384 2398 659 \n",
       "Q 2672 934 2672 1341 \n",
       "Q 2672 1728 2419 1979 \n",
       "Q 2166 2231 1775 2231 \n",
       "Q 1616 2231 1378 2169 \n",
       "L 1441 2663 \n",
       "Q 1497 2656 1531 2656 \n",
       "Q 1891 2656 2178 2843 \n",
       "Q 2466 3031 2466 3422 \n",
       "Q 2466 3731 2256 3934 \n",
       "Q 2047 4138 1716 4138 \n",
       "Q 1388 4138 1169 3931 \n",
       "Q 950 3725 888 3313 \n",
       "L 325 3413 \n",
       "Q 428 3978 793 4289 \n",
       "Q 1159 4600 1703 4600 \n",
       "Q 2078 4600 2393 4439 \n",
       "Q 2709 4278 2876 4000 \n",
       "Q 3044 3722 3044 3409 \n",
       "Q 3044 3113 2884 2869 \n",
       "Q 2725 2625 2413 2481 \n",
       "Q 2819 2388 3044 2092 \n",
       "Q 3269 1797 3269 1353 \n",
       "Q 3269 753 2831 336 \n",
       "Q 2394 -81 1725 -81 \n",
       "Q 1122 -81 723 278 \n",
       "Q 325 638 269 1209 \n",
       "z\n",
       "\" transform=\"scale(0.015625)\"/>\n",
       "       </defs>\n",
       "       <use xlink:href=\"#ArialMT-33\"/>\n",
       "      </g>\n",
       "     </g>\n",
       "    </g>\n",
       "    <g id=\"xtick_4\">\n",
       "     <g id=\"text_4\">\n",
       "      <!-- 4 -->\n",
       "      <g style=\"fill: #262626\" transform=\"translate(351.309453 296.373594)scale(0.11 -0.11)\">\n",
       "       <defs>\n",
       "        <path id=\"ArialMT-34\" d=\"M 2069 0 \n",
       "L 2069 1097 \n",
       "L 81 1097 \n",
       "L 81 1613 \n",
       "L 2172 4581 \n",
       "L 2631 4581 \n",
       "L 2631 1613 \n",
       "L 3250 1613 \n",
       "L 3250 1097 \n",
       "L 2631 1097 \n",
       "L 2631 0 \n",
       "L 2069 0 \n",
       "z\n",
       "M 2069 1613 \n",
       "L 2069 3678 \n",
       "L 634 1613 \n",
       "L 2069 1613 \n",
       "z\n",
       "\" transform=\"scale(0.015625)\"/>\n",
       "       </defs>\n",
       "       <use xlink:href=\"#ArialMT-34\"/>\n",
       "      </g>\n",
       "     </g>\n",
       "    </g>\n",
       "    <g id=\"text_5\">\n",
       "     <!-- F_Quartile -->\n",
       "     <g style=\"fill: #262626\" transform=\"translate(192.439219 311.302969)scale(0.12 -0.12)\">\n",
       "      <defs>\n",
       "       <path id=\"ArialMT-46\" d=\"M 525 0 \n",
       "L 525 4581 \n",
       "L 3616 4581 \n",
       "L 3616 4041 \n",
       "L 1131 4041 \n",
       "L 1131 2622 \n",
       "L 3281 2622 \n",
       "L 3281 2081 \n",
       "L 1131 2081 \n",
       "L 1131 0 \n",
       "L 525 0 \n",
       "z\n",
       "\" transform=\"scale(0.015625)\"/>\n",
       "       <path id=\"ArialMT-5f\" d=\"M -97 -1272 \n",
       "L -97 -866 \n",
       "L 3631 -866 \n",
       "L 3631 -1272 \n",
       "L -97 -1272 \n",
       "z\n",
       "\" transform=\"scale(0.015625)\"/>\n",
       "       <path id=\"ArialMT-51\" d=\"M 3966 491 \n",
       "Q 4388 200 4744 66 \n",
       "L 4566 -356 \n",
       "Q 4072 -178 3581 206 \n",
       "Q 3072 -78 2456 -78 \n",
       "Q 1834 -78 1328 222 \n",
       "Q 822 522 548 1065 \n",
       "Q 275 1609 275 2291 \n",
       "Q 275 2969 550 3525 \n",
       "Q 825 4081 1333 4372 \n",
       "Q 1841 4663 2469 4663 \n",
       "Q 3103 4663 3612 4361 \n",
       "Q 4122 4059 4389 3517 \n",
       "Q 4656 2975 4656 2294 \n",
       "Q 4656 1728 4484 1276 \n",
       "Q 4313 825 3966 491 \n",
       "z\n",
       "M 2631 1266 \n",
       "Q 3156 1119 3497 828 \n",
       "Q 4031 1316 4031 2294 \n",
       "Q 4031 2850 3842 3265 \n",
       "Q 3653 3681 3289 3911 \n",
       "Q 2925 4141 2472 4141 \n",
       "Q 1794 4141 1347 3677 \n",
       "Q 900 3213 900 2291 \n",
       "Q 900 1397 1342 919 \n",
       "Q 1784 441 2472 441 \n",
       "Q 2797 441 3084 563 \n",
       "Q 2800 747 2484 825 \n",
       "L 2631 1266 \n",
       "z\n",
       "\" transform=\"scale(0.015625)\"/>\n",
       "       <path id=\"ArialMT-75\" d=\"M 2597 0 \n",
       "L 2597 488 \n",
       "Q 2209 -75 1544 -75 \n",
       "Q 1250 -75 995 37 \n",
       "Q 741 150 617 320 \n",
       "Q 494 491 444 738 \n",
       "Q 409 903 409 1263 \n",
       "L 409 3319 \n",
       "L 972 3319 \n",
       "L 972 1478 \n",
       "Q 972 1038 1006 884 \n",
       "Q 1059 663 1231 536 \n",
       "Q 1403 409 1656 409 \n",
       "Q 1909 409 2131 539 \n",
       "Q 2353 669 2445 892 \n",
       "Q 2538 1116 2538 1541 \n",
       "L 2538 3319 \n",
       "L 3100 3319 \n",
       "L 3100 0 \n",
       "L 2597 0 \n",
       "z\n",
       "\" transform=\"scale(0.015625)\"/>\n",
       "       <path id=\"ArialMT-61\" d=\"M 2588 409 \n",
       "Q 2275 144 1986 34 \n",
       "Q 1697 -75 1366 -75 \n",
       "Q 819 -75 525 192 \n",
       "Q 231 459 231 875 \n",
       "Q 231 1119 342 1320 \n",
       "Q 453 1522 633 1644 \n",
       "Q 813 1766 1038 1828 \n",
       "Q 1203 1872 1538 1913 \n",
       "Q 2219 1994 2541 2106 \n",
       "Q 2544 2222 2544 2253 \n",
       "Q 2544 2597 2384 2738 \n",
       "Q 2169 2928 1744 2928 \n",
       "Q 1347 2928 1158 2789 \n",
       "Q 969 2650 878 2297 \n",
       "L 328 2372 \n",
       "Q 403 2725 575 2942 \n",
       "Q 747 3159 1072 3276 \n",
       "Q 1397 3394 1825 3394 \n",
       "Q 2250 3394 2515 3294 \n",
       "Q 2781 3194 2906 3042 \n",
       "Q 3031 2891 3081 2659 \n",
       "Q 3109 2516 3109 2141 \n",
       "L 3109 1391 \n",
       "Q 3109 606 3145 398 \n",
       "Q 3181 191 3288 0 \n",
       "L 2700 0 \n",
       "Q 2613 175 2588 409 \n",
       "z\n",
       "M 2541 1666 \n",
       "Q 2234 1541 1622 1453 \n",
       "Q 1275 1403 1131 1340 \n",
       "Q 988 1278 909 1158 \n",
       "Q 831 1038 831 891 \n",
       "Q 831 666 1001 516 \n",
       "Q 1172 366 1500 366 \n",
       "Q 1825 366 2078 508 \n",
       "Q 2331 650 2450 897 \n",
       "Q 2541 1088 2541 1459 \n",
       "L 2541 1666 \n",
       "z\n",
       "\" transform=\"scale(0.015625)\"/>\n",
       "       <path id=\"ArialMT-72\" d=\"M 416 0 \n",
       "L 416 3319 \n",
       "L 922 3319 \n",
       "L 922 2816 \n",
       "Q 1116 3169 1280 3281 \n",
       "Q 1444 3394 1641 3394 \n",
       "Q 1925 3394 2219 3213 \n",
       "L 2025 2691 \n",
       "Q 1819 2813 1613 2813 \n",
       "Q 1428 2813 1281 2702 \n",
       "Q 1134 2591 1072 2394 \n",
       "Q 978 2094 978 1738 \n",
       "L 978 0 \n",
       "L 416 0 \n",
       "z\n",
       "\" transform=\"scale(0.015625)\"/>\n",
       "       <path id=\"ArialMT-74\" d=\"M 1650 503 \n",
       "L 1731 6 \n",
       "Q 1494 -44 1306 -44 \n",
       "Q 1000 -44 831 53 \n",
       "Q 663 150 594 308 \n",
       "Q 525 466 525 972 \n",
       "L 525 2881 \n",
       "L 113 2881 \n",
       "L 113 3319 \n",
       "L 525 3319 \n",
       "L 525 4141 \n",
       "L 1084 4478 \n",
       "L 1084 3319 \n",
       "L 1650 3319 \n",
       "L 1650 2881 \n",
       "L 1084 2881 \n",
       "L 1084 941 \n",
       "Q 1084 700 1114 631 \n",
       "Q 1144 563 1211 522 \n",
       "Q 1278 481 1403 481 \n",
       "Q 1497 481 1650 503 \n",
       "z\n",
       "\" transform=\"scale(0.015625)\"/>\n",
       "       <path id=\"ArialMT-69\" d=\"M 425 3934 \n",
       "L 425 4581 \n",
       "L 988 4581 \n",
       "L 988 3934 \n",
       "L 425 3934 \n",
       "z\n",
       "M 425 0 \n",
       "L 425 3319 \n",
       "L 988 3319 \n",
       "L 988 0 \n",
       "L 425 0 \n",
       "z\n",
       "\" transform=\"scale(0.015625)\"/>\n",
       "       <path id=\"ArialMT-6c\" d=\"M 409 0 \n",
       "L 409 4581 \n",
       "L 972 4581 \n",
       "L 972 0 \n",
       "L 409 0 \n",
       "z\n",
       "\" transform=\"scale(0.015625)\"/>\n",
       "       <path id=\"ArialMT-65\" d=\"M 2694 1069 \n",
       "L 3275 997 \n",
       "Q 3138 488 2766 206 \n",
       "Q 2394 -75 1816 -75 \n",
       "Q 1088 -75 661 373 \n",
       "Q 234 822 234 1631 \n",
       "Q 234 2469 665 2931 \n",
       "Q 1097 3394 1784 3394 \n",
       "Q 2450 3394 2872 2941 \n",
       "Q 3294 2488 3294 1666 \n",
       "Q 3294 1616 3291 1516 \n",
       "L 816 1516 \n",
       "Q 847 969 1125 678 \n",
       "Q 1403 388 1819 388 \n",
       "Q 2128 388 2347 550 \n",
       "Q 2566 713 2694 1069 \n",
       "z\n",
       "M 847 1978 \n",
       "L 2700 1978 \n",
       "Q 2663 2397 2488 2606 \n",
       "Q 2219 2931 1791 2931 \n",
       "Q 1403 2931 1139 2672 \n",
       "Q 875 2413 847 1978 \n",
       "z\n",
       "\" transform=\"scale(0.015625)\"/>\n",
       "      </defs>\n",
       "      <use xlink:href=\"#ArialMT-46\"/>\n",
       "      <use xlink:href=\"#ArialMT-5f\" x=\"61.083984\"/>\n",
       "      <use xlink:href=\"#ArialMT-51\" x=\"116.699219\"/>\n",
       "      <use xlink:href=\"#ArialMT-75\" x=\"194.482422\"/>\n",
       "      <use xlink:href=\"#ArialMT-61\" x=\"250.097656\"/>\n",
       "      <use xlink:href=\"#ArialMT-72\" x=\"305.712891\"/>\n",
       "      <use xlink:href=\"#ArialMT-74\" x=\"339.013672\"/>\n",
       "      <use xlink:href=\"#ArialMT-69\" x=\"366.796875\"/>\n",
       "      <use xlink:href=\"#ArialMT-6c\" x=\"389.013672\"/>\n",
       "      <use xlink:href=\"#ArialMT-65\" x=\"411.230469\"/>\n",
       "     </g>\n",
       "    </g>\n",
       "   </g>\n",
       "   <g id=\"matplotlib.axis_2\">\n",
       "    <g id=\"ytick_1\">\n",
       "     <g id=\"text_6\">\n",
       "      <!-- 1 -->\n",
       "      <g style=\"fill: #262626\" transform=\"translate(30.201719 44.233516)rotate(-90)scale(0.11 -0.11)\">\n",
       "       <use xlink:href=\"#ArialMT-31\"/>\n",
       "      </g>\n",
       "     </g>\n",
       "    </g>\n",
       "    <g id=\"text_7\">\n",
       "     <!-- R_Quartile -->\n",
       "     <g style=\"fill: #262626\" transform=\"translate(15.943125 171.777187)rotate(-90)scale(0.12 -0.12)\">\n",
       "      <defs>\n",
       "       <path id=\"ArialMT-52\" d=\"M 503 0 \n",
       "L 503 4581 \n",
       "L 2534 4581 \n",
       "Q 3147 4581 3465 4457 \n",
       "Q 3784 4334 3975 4021 \n",
       "Q 4166 3709 4166 3331 \n",
       "Q 4166 2844 3850 2509 \n",
       "Q 3534 2175 2875 2084 \n",
       "Q 3116 1969 3241 1856 \n",
       "Q 3506 1613 3744 1247 \n",
       "L 4541 0 \n",
       "L 3778 0 \n",
       "L 3172 953 \n",
       "Q 2906 1366 2734 1584 \n",
       "Q 2563 1803 2427 1890 \n",
       "Q 2291 1978 2150 2013 \n",
       "Q 2047 2034 1813 2034 \n",
       "L 1109 2034 \n",
       "L 1109 0 \n",
       "L 503 0 \n",
       "z\n",
       "M 1109 2559 \n",
       "L 2413 2559 \n",
       "Q 2828 2559 3062 2645 \n",
       "Q 3297 2731 3419 2920 \n",
       "Q 3541 3109 3541 3331 \n",
       "Q 3541 3656 3305 3865 \n",
       "Q 3069 4075 2559 4075 \n",
       "L 1109 4075 \n",
       "L 1109 2559 \n",
       "z\n",
       "\" transform=\"scale(0.015625)\"/>\n",
       "      </defs>\n",
       "      <use xlink:href=\"#ArialMT-52\"/>\n",
       "      <use xlink:href=\"#ArialMT-5f\" x=\"72.216797\"/>\n",
       "      <use xlink:href=\"#ArialMT-51\" x=\"127.832031\"/>\n",
       "      <use xlink:href=\"#ArialMT-75\" x=\"205.615234\"/>\n",
       "      <use xlink:href=\"#ArialMT-61\" x=\"261.230469\"/>\n",
       "      <use xlink:href=\"#ArialMT-72\" x=\"316.845703\"/>\n",
       "      <use xlink:href=\"#ArialMT-74\" x=\"350.146484\"/>\n",
       "      <use xlink:href=\"#ArialMT-69\" x=\"377.929688\"/>\n",
       "      <use xlink:href=\"#ArialMT-6c\" x=\"400.146484\"/>\n",
       "      <use xlink:href=\"#ArialMT-65\" x=\"422.363281\"/>\n",
       "     </g>\n",
       "    </g>\n",
       "   </g>\n",
       "   <g id=\"QuadMesh_1\">\n",
       "    <path d=\"M 41.887969 7.2 \n",
       "L 131.167969 7.2 \n",
       "L 131.167969 75.15 \n",
       "L 41.887969 75.15 \n",
       "L 41.887969 7.2 \n",
       "\" clip-path=\"url(#p78a0a36b1d)\" style=\"fill: #081d58; stroke: #ffffff; stroke-width: 4.15\"/>\n",
       "    <path d=\"M 131.167969 7.2 \n",
       "L 220.447969 7.2 \n",
       "L 220.447969 75.15 \n",
       "L 131.167969 75.15 \n",
       "L 131.167969 7.2 \n",
       "\" clip-path=\"url(#p78a0a36b1d)\" style=\"fill: #75c9bd; stroke: #ffffff; stroke-width: 4.15\"/>\n",
       "    <path d=\"M 220.447969 7.2 \n",
       "L 309.727969 7.2 \n",
       "L 309.727969 75.15 \n",
       "L 220.447969 75.15 \n",
       "L 220.447969 7.2 \n",
       "\" clip-path=\"url(#p78a0a36b1d)\" style=\"fill: #d3eeb3; stroke: #ffffff; stroke-width: 4.15\"/>\n",
       "    <path d=\"M 309.727969 7.2 \n",
       "L 399.007969 7.2 \n",
       "L 399.007969 75.15 \n",
       "L 309.727969 75.15 \n",
       "L 309.727969 7.2 \n",
       "\" clip-path=\"url(#p78a0a36b1d)\" style=\"fill: #ffffd9; stroke: #ffffff; stroke-width: 4.15\"/>\n",
       "    <path d=\"M 41.887969 75.15 \n",
       "L 131.167969 75.15 \n",
       "L 131.167969 143.1 \n",
       "L 41.887969 143.1 \n",
       "L 41.887969 75.15 \n",
       "\" clip-path=\"url(#p78a0a36b1d)\" style=\"fill: #24409a; stroke: #ffffff; stroke-width: 4.15\"/>\n",
       "    <path d=\"M 131.167969 75.15 \n",
       "L 220.447969 75.15 \n",
       "L 220.447969 143.1 \n",
       "L 131.167969 143.1 \n",
       "L 131.167969 75.15 \n",
       "\" clip-path=\"url(#p78a0a36b1d)\" style=\"fill: #63c3bf; stroke: #ffffff; stroke-width: 4.15\"/>\n",
       "    <path d=\"M 220.447969 75.15 \n",
       "L 309.727969 75.15 \n",
       "L 309.727969 143.1 \n",
       "L 220.447969 143.1 \n",
       "L 220.447969 75.15 \n",
       "\" clip-path=\"url(#p78a0a36b1d)\" style=\"fill: #cfecb3; stroke: #ffffff; stroke-width: 4.15\"/>\n",
       "    <path d=\"M 309.727969 75.15 \n",
       "L 399.007969 75.15 \n",
       "L 399.007969 143.1 \n",
       "L 309.727969 143.1 \n",
       "L 309.727969 75.15 \n",
       "\" clip-path=\"url(#p78a0a36b1d)\" style=\"fill: #fdfed4; stroke: #ffffff; stroke-width: 4.15\"/>\n",
       "    <path d=\"M 41.887969 143.1 \n",
       "L 131.167969 143.1 \n",
       "L 131.167969 211.05 \n",
       "L 41.887969 211.05 \n",
       "L 41.887969 143.1 \n",
       "\" clip-path=\"url(#p78a0a36b1d)\" style=\"fill: #1f78b4; stroke: #ffffff; stroke-width: 4.15\"/>\n",
       "    <path d=\"M 131.167969 143.1 \n",
       "L 220.447969 143.1 \n",
       "L 220.447969 211.05 \n",
       "L 131.167969 211.05 \n",
       "L 131.167969 143.1 \n",
       "\" clip-path=\"url(#p78a0a36b1d)\" style=\"fill: #71c8bd; stroke: #ffffff; stroke-width: 4.15\"/>\n",
       "    <path d=\"M 220.447969 143.1 \n",
       "L 309.727969 143.1 \n",
       "L 309.727969 211.05 \n",
       "L 220.447969 211.05 \n",
       "L 220.447969 143.1 \n",
       "\" clip-path=\"url(#p78a0a36b1d)\" style=\"fill: #d1edb3; stroke: #ffffff; stroke-width: 4.15\"/>\n",
       "    <path d=\"M 309.727969 143.1 \n",
       "L 399.007969 143.1 \n",
       "L 399.007969 211.05 \n",
       "L 309.727969 211.05 \n",
       "L 309.727969 143.1 \n",
       "\" clip-path=\"url(#p78a0a36b1d)\" style=\"fill: #feffd6; stroke: #ffffff; stroke-width: 4.15\"/>\n",
       "    <path d=\"M 41.887969 211.05 \n",
       "L 131.167969 211.05 \n",
       "L 131.167969 279 \n",
       "L 41.887969 279 \n",
       "L 41.887969 211.05 \n",
       "\" clip-path=\"url(#p78a0a36b1d)\" style=\"fill: #2094c0; stroke: #ffffff; stroke-width: 4.15\"/>\n",
       "    <path d=\"M 131.167969 211.05 \n",
       "L 220.447969 211.05 \n",
       "L 220.447969 279 \n",
       "L 131.167969 279 \n",
       "L 131.167969 211.05 \n",
       "\" clip-path=\"url(#p78a0a36b1d)\" style=\"fill: #78cbbc; stroke: #ffffff; stroke-width: 4.15\"/>\n",
       "    <path d=\"M 220.447969 211.05 \n",
       "L 309.727969 211.05 \n",
       "L 309.727969 279 \n",
       "L 220.447969 279 \n",
       "L 220.447969 211.05 \n",
       "\" clip-path=\"url(#p78a0a36b1d)\" style=\"fill: #d1edb3; stroke: #ffffff; stroke-width: 4.15\"/>\n",
       "    <path d=\"M 309.727969 211.05 \n",
       "L 399.007969 211.05 \n",
       "L 399.007969 279 \n",
       "L 309.727969 279 \n",
       "L 309.727969 211.05 \n",
       "\" clip-path=\"url(#p78a0a36b1d)\" style=\"fill: #fcfed1; stroke: #ffffff; stroke-width: 4.15\"/>\n",
       "   </g>\n",
       "   <g id=\"text_8\">\n",
       "    <!-- 5768 -->\n",
       "    <g style=\"fill: #ffffff\" transform=\"translate(75.406094 43.760156)scale(0.1 -0.1)\">\n",
       "     <defs>\n",
       "      <path id=\"ArialMT-35\" d=\"M 266 1200 \n",
       "L 856 1250 \n",
       "Q 922 819 1161 601 \n",
       "Q 1400 384 1738 384 \n",
       "Q 2144 384 2425 690 \n",
       "Q 2706 997 2706 1503 \n",
       "Q 2706 1984 2436 2262 \n",
       "Q 2166 2541 1728 2541 \n",
       "Q 1456 2541 1237 2417 \n",
       "Q 1019 2294 894 2097 \n",
       "L 366 2166 \n",
       "L 809 4519 \n",
       "L 3088 4519 \n",
       "L 3088 3981 \n",
       "L 1259 3981 \n",
       "L 1013 2750 \n",
       "Q 1425 3038 1878 3038 \n",
       "Q 2478 3038 2890 2622 \n",
       "Q 3303 2206 3303 1553 \n",
       "Q 3303 931 2941 478 \n",
       "Q 2500 -78 1738 -78 \n",
       "Q 1113 -78 717 272 \n",
       "Q 322 622 266 1200 \n",
       "z\n",
       "\" transform=\"scale(0.015625)\"/>\n",
       "      <path id=\"ArialMT-37\" d=\"M 303 3981 \n",
       "L 303 4522 \n",
       "L 3269 4522 \n",
       "L 3269 4084 \n",
       "Q 2831 3619 2401 2847 \n",
       "Q 1972 2075 1738 1259 \n",
       "Q 1569 684 1522 0 \n",
       "L 944 0 \n",
       "Q 953 541 1156 1306 \n",
       "Q 1359 2072 1739 2783 \n",
       "Q 2119 3494 2547 3981 \n",
       "L 303 3981 \n",
       "z\n",
       "\" transform=\"scale(0.015625)\"/>\n",
       "      <path id=\"ArialMT-36\" d=\"M 3184 3459 \n",
       "L 2625 3416 \n",
       "Q 2550 3747 2413 3897 \n",
       "Q 2184 4138 1850 4138 \n",
       "Q 1581 4138 1378 3988 \n",
       "Q 1113 3794 959 3422 \n",
       "Q 806 3050 800 2363 \n",
       "Q 1003 2672 1297 2822 \n",
       "Q 1591 2972 1913 2972 \n",
       "Q 2475 2972 2870 2558 \n",
       "Q 3266 2144 3266 1488 \n",
       "Q 3266 1056 3080 686 \n",
       "Q 2894 316 2569 119 \n",
       "Q 2244 -78 1831 -78 \n",
       "Q 1128 -78 684 439 \n",
       "Q 241 956 241 2144 \n",
       "Q 241 3472 731 4075 \n",
       "Q 1159 4600 1884 4600 \n",
       "Q 2425 4600 2770 4297 \n",
       "Q 3116 3994 3184 3459 \n",
       "z\n",
       "M 888 1484 \n",
       "Q 888 1194 1011 928 \n",
       "Q 1134 663 1356 523 \n",
       "Q 1578 384 1822 384 \n",
       "Q 2178 384 2434 671 \n",
       "Q 2691 959 2691 1453 \n",
       "Q 2691 1928 2437 2201 \n",
       "Q 2184 2475 1800 2475 \n",
       "Q 1419 2475 1153 2201 \n",
       "Q 888 1928 888 1484 \n",
       "z\n",
       "\" transform=\"scale(0.015625)\"/>\n",
       "      <path id=\"ArialMT-38\" d=\"M 1131 2484 \n",
       "Q 781 2613 612 2850 \n",
       "Q 444 3088 444 3419 \n",
       "Q 444 3919 803 4259 \n",
       "Q 1163 4600 1759 4600 \n",
       "Q 2359 4600 2725 4251 \n",
       "Q 3091 3903 3091 3403 \n",
       "Q 3091 3084 2923 2848 \n",
       "Q 2756 2613 2416 2484 \n",
       "Q 2838 2347 3058 2040 \n",
       "Q 3278 1734 3278 1309 \n",
       "Q 3278 722 2862 322 \n",
       "Q 2447 -78 1769 -78 \n",
       "Q 1091 -78 675 323 \n",
       "Q 259 725 259 1325 \n",
       "Q 259 1772 486 2073 \n",
       "Q 713 2375 1131 2484 \n",
       "z\n",
       "M 1019 3438 \n",
       "Q 1019 3113 1228 2906 \n",
       "Q 1438 2700 1772 2700 \n",
       "Q 2097 2700 2305 2904 \n",
       "Q 2513 3109 2513 3406 \n",
       "Q 2513 3716 2298 3927 \n",
       "Q 2084 4138 1766 4138 \n",
       "Q 1444 4138 1231 3931 \n",
       "Q 1019 3725 1019 3438 \n",
       "z\n",
       "M 838 1322 \n",
       "Q 838 1081 952 856 \n",
       "Q 1066 631 1291 507 \n",
       "Q 1516 384 1775 384 \n",
       "Q 2178 384 2440 643 \n",
       "Q 2703 903 2703 1303 \n",
       "Q 2703 1709 2433 1975 \n",
       "Q 2163 2241 1756 2241 \n",
       "Q 1359 2241 1098 1978 \n",
       "Q 838 1716 838 1322 \n",
       "z\n",
       "\" transform=\"scale(0.015625)\"/>\n",
       "     </defs>\n",
       "     <use xlink:href=\"#ArialMT-35\"/>\n",
       "     <use xlink:href=\"#ArialMT-37\" x=\"55.615234\"/>\n",
       "     <use xlink:href=\"#ArialMT-36\" x=\"111.230469\"/>\n",
       "     <use xlink:href=\"#ArialMT-38\" x=\"166.845703\"/>\n",
       "    </g>\n",
       "   </g>\n",
       "   <g id=\"text_9\">\n",
       "    <!-- 2733 -->\n",
       "    <g style=\"fill: #262626\" transform=\"translate(164.686094 43.760156)scale(0.1 -0.1)\">\n",
       "     <use xlink:href=\"#ArialMT-32\"/>\n",
       "     <use xlink:href=\"#ArialMT-37\" x=\"55.615234\"/>\n",
       "     <use xlink:href=\"#ArialMT-33\" x=\"111.230469\"/>\n",
       "     <use xlink:href=\"#ArialMT-33\" x=\"166.845703\"/>\n",
       "    </g>\n",
       "   </g>\n",
       "   <g id=\"text_10\">\n",
       "    <!-- 1805 -->\n",
       "    <g style=\"fill: #262626\" transform=\"translate(253.966094 43.760156)scale(0.1 -0.1)\">\n",
       "     <defs>\n",
       "      <path id=\"ArialMT-30\" d=\"M 266 2259 \n",
       "Q 266 3072 433 3567 \n",
       "Q 600 4063 929 4331 \n",
       "Q 1259 4600 1759 4600 \n",
       "Q 2128 4600 2406 4451 \n",
       "Q 2684 4303 2865 4023 \n",
       "Q 3047 3744 3150 3342 \n",
       "Q 3253 2941 3253 2259 \n",
       "Q 3253 1453 3087 958 \n",
       "Q 2922 463 2592 192 \n",
       "Q 2263 -78 1759 -78 \n",
       "Q 1097 -78 719 397 \n",
       "Q 266 969 266 2259 \n",
       "z\n",
       "M 844 2259 \n",
       "Q 844 1131 1108 757 \n",
       "Q 1372 384 1759 384 \n",
       "Q 2147 384 2411 759 \n",
       "Q 2675 1134 2675 2259 \n",
       "Q 2675 3391 2411 3762 \n",
       "Q 2147 4134 1753 4134 \n",
       "Q 1366 4134 1134 3806 \n",
       "Q 844 3388 844 2259 \n",
       "z\n",
       "\" transform=\"scale(0.015625)\"/>\n",
       "     </defs>\n",
       "     <use xlink:href=\"#ArialMT-31\"/>\n",
       "     <use xlink:href=\"#ArialMT-38\" x=\"55.615234\"/>\n",
       "     <use xlink:href=\"#ArialMT-30\" x=\"111.230469\"/>\n",
       "     <use xlink:href=\"#ArialMT-35\" x=\"166.845703\"/>\n",
       "    </g>\n",
       "   </g>\n",
       "   <g id=\"text_11\">\n",
       "    <!-- 729 -->\n",
       "    <g style=\"fill: #262626\" transform=\"translate(346.026563 43.760156)scale(0.1 -0.1)\">\n",
       "     <defs>\n",
       "      <path id=\"ArialMT-39\" d=\"M 350 1059 \n",
       "L 891 1109 \n",
       "Q 959 728 1153 556 \n",
       "Q 1347 384 1650 384 \n",
       "Q 1909 384 2104 503 \n",
       "Q 2300 622 2425 820 \n",
       "Q 2550 1019 2634 1356 \n",
       "Q 2719 1694 2719 2044 \n",
       "Q 2719 2081 2716 2156 \n",
       "Q 2547 1888 2255 1720 \n",
       "Q 1963 1553 1622 1553 \n",
       "Q 1053 1553 659 1965 \n",
       "Q 266 2378 266 3053 \n",
       "Q 266 3750 677 4175 \n",
       "Q 1088 4600 1706 4600 \n",
       "Q 2153 4600 2523 4359 \n",
       "Q 2894 4119 3086 3673 \n",
       "Q 3278 3228 3278 2384 \n",
       "Q 3278 1506 3087 986 \n",
       "Q 2897 466 2520 194 \n",
       "Q 2144 -78 1638 -78 \n",
       "Q 1100 -78 759 220 \n",
       "Q 419 519 350 1059 \n",
       "z\n",
       "M 2653 3081 \n",
       "Q 2653 3566 2395 3850 \n",
       "Q 2138 4134 1775 4134 \n",
       "Q 1400 4134 1122 3828 \n",
       "Q 844 3522 844 3034 \n",
       "Q 844 2597 1108 2323 \n",
       "Q 1372 2050 1759 2050 \n",
       "Q 2150 2050 2401 2323 \n",
       "Q 2653 2597 2653 3081 \n",
       "z\n",
       "\" transform=\"scale(0.015625)\"/>\n",
       "     </defs>\n",
       "     <use xlink:href=\"#ArialMT-37\"/>\n",
       "     <use xlink:href=\"#ArialMT-32\" x=\"55.615234\"/>\n",
       "     <use xlink:href=\"#ArialMT-39\" x=\"111.230469\"/>\n",
       "    </g>\n",
       "   </g>\n",
       "   <g id=\"text_12\">\n",
       "    <!-- 4947 -->\n",
       "    <g style=\"fill: #ffffff\" transform=\"translate(75.406094 111.710156)scale(0.1 -0.1)\">\n",
       "     <use xlink:href=\"#ArialMT-34\"/>\n",
       "     <use xlink:href=\"#ArialMT-39\" x=\"55.615234\"/>\n",
       "     <use xlink:href=\"#ArialMT-34\" x=\"111.230469\"/>\n",
       "     <use xlink:href=\"#ArialMT-37\" x=\"166.845703\"/>\n",
       "    </g>\n",
       "   </g>\n",
       "   <g id=\"text_13\">\n",
       "    <!-- 2895 -->\n",
       "    <g style=\"fill: #262626\" transform=\"translate(164.686094 111.710156)scale(0.1 -0.1)\">\n",
       "     <use xlink:href=\"#ArialMT-32\"/>\n",
       "     <use xlink:href=\"#ArialMT-38\" x=\"55.615234\"/>\n",
       "     <use xlink:href=\"#ArialMT-39\" x=\"111.230469\"/>\n",
       "     <use xlink:href=\"#ArialMT-35\" x=\"166.845703\"/>\n",
       "    </g>\n",
       "   </g>\n",
       "   <g id=\"text_14\">\n",
       "    <!-- 1868 -->\n",
       "    <g style=\"fill: #262626\" transform=\"translate(253.966094 111.710156)scale(0.1 -0.1)\">\n",
       "     <use xlink:href=\"#ArialMT-31\"/>\n",
       "     <use xlink:href=\"#ArialMT-38\" x=\"55.615234\"/>\n",
       "     <use xlink:href=\"#ArialMT-36\" x=\"111.230469\"/>\n",
       "     <use xlink:href=\"#ArialMT-38\" x=\"166.845703\"/>\n",
       "    </g>\n",
       "   </g>\n",
       "   <g id=\"text_15\">\n",
       "    <!-- 814 -->\n",
       "    <g style=\"fill: #262626\" transform=\"translate(346.026563 111.710156)scale(0.1 -0.1)\">\n",
       "     <use xlink:href=\"#ArialMT-38\"/>\n",
       "     <use xlink:href=\"#ArialMT-31\" x=\"55.615234\"/>\n",
       "     <use xlink:href=\"#ArialMT-34\" x=\"111.230469\"/>\n",
       "    </g>\n",
       "   </g>\n",
       "   <g id=\"text_16\">\n",
       "    <!-- 4179 -->\n",
       "    <g style=\"fill: #ffffff\" transform=\"translate(75.406094 179.660156)scale(0.1 -0.1)\">\n",
       "     <use xlink:href=\"#ArialMT-34\"/>\n",
       "     <use xlink:href=\"#ArialMT-31\" x=\"55.615234\"/>\n",
       "     <use xlink:href=\"#ArialMT-37\" x=\"111.230469\"/>\n",
       "     <use xlink:href=\"#ArialMT-39\" x=\"166.845703\"/>\n",
       "    </g>\n",
       "   </g>\n",
       "   <g id=\"text_17\">\n",
       "    <!-- 2770 -->\n",
       "    <g style=\"fill: #262626\" transform=\"translate(164.686094 179.660156)scale(0.1 -0.1)\">\n",
       "     <use xlink:href=\"#ArialMT-32\"/>\n",
       "     <use xlink:href=\"#ArialMT-37\" x=\"55.615234\"/>\n",
       "     <use xlink:href=\"#ArialMT-37\" x=\"111.230469\"/>\n",
       "     <use xlink:href=\"#ArialMT-30\" x=\"166.845703\"/>\n",
       "    </g>\n",
       "   </g>\n",
       "   <g id=\"text_18\">\n",
       "    <!-- 1813 -->\n",
       "    <g style=\"fill: #262626\" transform=\"translate(253.966094 179.660156)scale(0.1 -0.1)\">\n",
       "     <use xlink:href=\"#ArialMT-31\"/>\n",
       "     <use xlink:href=\"#ArialMT-38\" x=\"55.615234\"/>\n",
       "     <use xlink:href=\"#ArialMT-31\" x=\"111.230469\"/>\n",
       "     <use xlink:href=\"#ArialMT-33\" x=\"166.845703\"/>\n",
       "    </g>\n",
       "   </g>\n",
       "   <g id=\"text_19\">\n",
       "    <!-- 773 -->\n",
       "    <g style=\"fill: #262626\" transform=\"translate(346.026563 179.660156)scale(0.1 -0.1)\">\n",
       "     <use xlink:href=\"#ArialMT-37\"/>\n",
       "     <use xlink:href=\"#ArialMT-37\" x=\"55.615234\"/>\n",
       "     <use xlink:href=\"#ArialMT-33\" x=\"111.230469\"/>\n",
       "    </g>\n",
       "   </g>\n",
       "   <g id=\"text_20\">\n",
       "    <!-- 3822 -->\n",
       "    <g style=\"fill: #ffffff\" transform=\"translate(75.406094 247.610156)scale(0.1 -0.1)\">\n",
       "     <use xlink:href=\"#ArialMT-33\"/>\n",
       "     <use xlink:href=\"#ArialMT-38\" x=\"55.615234\"/>\n",
       "     <use xlink:href=\"#ArialMT-32\" x=\"111.230469\"/>\n",
       "     <use xlink:href=\"#ArialMT-32\" x=\"166.845703\"/>\n",
       "    </g>\n",
       "   </g>\n",
       "   <g id=\"text_21\">\n",
       "    <!-- 2682 -->\n",
       "    <g style=\"fill: #262626\" transform=\"translate(164.686094 247.610156)scale(0.1 -0.1)\">\n",
       "     <use xlink:href=\"#ArialMT-32\"/>\n",
       "     <use xlink:href=\"#ArialMT-36\" x=\"55.615234\"/>\n",
       "     <use xlink:href=\"#ArialMT-38\" x=\"111.230469\"/>\n",
       "     <use xlink:href=\"#ArialMT-32\" x=\"166.845703\"/>\n",
       "    </g>\n",
       "   </g>\n",
       "   <g id=\"text_22\">\n",
       "    <!-- 1813 -->\n",
       "    <g style=\"fill: #262626\" transform=\"translate(253.966094 247.610156)scale(0.1 -0.1)\">\n",
       "     <use xlink:href=\"#ArialMT-31\"/>\n",
       "     <use xlink:href=\"#ArialMT-38\" x=\"55.615234\"/>\n",
       "     <use xlink:href=\"#ArialMT-31\" x=\"111.230469\"/>\n",
       "     <use xlink:href=\"#ArialMT-33\" x=\"166.845703\"/>\n",
       "    </g>\n",
       "   </g>\n",
       "   <g id=\"text_23\">\n",
       "    <!-- 859 -->\n",
       "    <g style=\"fill: #262626\" transform=\"translate(346.026563 247.610156)scale(0.1 -0.1)\">\n",
       "     <use xlink:href=\"#ArialMT-38\"/>\n",
       "     <use xlink:href=\"#ArialMT-35\" x=\"55.615234\"/>\n",
       "     <use xlink:href=\"#ArialMT-39\" x=\"111.230469\"/>\n",
       "    </g>\n",
       "   </g>\n",
       "  </g>\n",
       "  <g id=\"axes_2\">\n",
       "   <g id=\"patch_3\">\n",
       "    <path d=\"M 421.327969 279 \n",
       "L 434.917969 279 \n",
       "L 434.917969 7.2 \n",
       "L 421.327969 7.2 \n",
       "z\n",
       "\" style=\"fill: #eaeaf2\"/>\n",
       "   </g>\n",
       "   <g id=\"patch_4\">\n",
       "    <path clip-path=\"url(#p2da12eec33)\" style=\"fill: #eaeaf2; stroke: #eaeaf2; stroke-width: 0.01; stroke-linejoin: miter\"/>\n",
       "   </g>\n",
       "   <g id=\"matplotlib.axis_3\">\n",
       "    <g id=\"ytick_2\">\n",
       "     <g id=\"line2d_1\">\n",
       "      <defs>\n",
       "       <path id=\"md78bd79831\" d=\"M 0 0 \n",
       "L 6 0 \n",
       "\" style=\"stroke: #262626; stroke-width: 1.25\"/>\n",
       "      </defs>\n",
       "      <g>\n",
       "       <use xlink:href=\"#md78bd79831\" x=\"434.917969\" y=\"264.382457\" style=\"fill: #262626; stroke: #262626; stroke-width: 1.25\"/>\n",
       "      </g>\n",
       "     </g>\n",
       "     <g id=\"text_24\">\n",
       "      <!-- 1000 -->\n",
       "      <g style=\"fill: #262626\" transform=\"translate(444.417969 268.319254)scale(0.11 -0.11)\">\n",
       "       <use xlink:href=\"#ArialMT-31\"/>\n",
       "       <use xlink:href=\"#ArialMT-30\" x=\"55.615234\"/>\n",
       "       <use xlink:href=\"#ArialMT-30\" x=\"111.230469\"/>\n",
       "       <use xlink:href=\"#ArialMT-30\" x=\"166.845703\"/>\n",
       "      </g>\n",
       "     </g>\n",
       "    </g>\n",
       "    <g id=\"ytick_3\">\n",
       "     <g id=\"line2d_2\">\n",
       "      <g>\n",
       "       <use xlink:href=\"#md78bd79831\" x=\"434.917969\" y=\"210.443183\" style=\"fill: #262626; stroke: #262626; stroke-width: 1.25\"/>\n",
       "      </g>\n",
       "     </g>\n",
       "     <g id=\"text_25\">\n",
       "      <!-- 2000 -->\n",
       "      <g style=\"fill: #262626\" transform=\"translate(444.417969 214.37998)scale(0.11 -0.11)\">\n",
       "       <use xlink:href=\"#ArialMT-32\"/>\n",
       "       <use xlink:href=\"#ArialMT-30\" x=\"55.615234\"/>\n",
       "       <use xlink:href=\"#ArialMT-30\" x=\"111.230469\"/>\n",
       "       <use xlink:href=\"#ArialMT-30\" x=\"166.845703\"/>\n",
       "      </g>\n",
       "     </g>\n",
       "    </g>\n",
       "    <g id=\"ytick_4\">\n",
       "     <g id=\"line2d_3\">\n",
       "      <g>\n",
       "       <use xlink:href=\"#md78bd79831\" x=\"434.917969\" y=\"156.50391\" style=\"fill: #262626; stroke: #262626; stroke-width: 1.25\"/>\n",
       "      </g>\n",
       "     </g>\n",
       "     <g id=\"text_26\">\n",
       "      <!-- 3000 -->\n",
       "      <g style=\"fill: #262626\" transform=\"translate(444.417969 160.440706)scale(0.11 -0.11)\">\n",
       "       <use xlink:href=\"#ArialMT-33\"/>\n",
       "       <use xlink:href=\"#ArialMT-30\" x=\"55.615234\"/>\n",
       "       <use xlink:href=\"#ArialMT-30\" x=\"111.230469\"/>\n",
       "       <use xlink:href=\"#ArialMT-30\" x=\"166.845703\"/>\n",
       "      </g>\n",
       "     </g>\n",
       "    </g>\n",
       "    <g id=\"ytick_5\">\n",
       "     <g id=\"line2d_4\">\n",
       "      <g>\n",
       "       <use xlink:href=\"#md78bd79831\" x=\"434.917969\" y=\"102.564636\" style=\"fill: #262626; stroke: #262626; stroke-width: 1.25\"/>\n",
       "      </g>\n",
       "     </g>\n",
       "     <g id=\"text_27\">\n",
       "      <!-- 4000 -->\n",
       "      <g style=\"fill: #262626\" transform=\"translate(444.417969 106.501433)scale(0.11 -0.11)\">\n",
       "       <use xlink:href=\"#ArialMT-34\"/>\n",
       "       <use xlink:href=\"#ArialMT-30\" x=\"55.615234\"/>\n",
       "       <use xlink:href=\"#ArialMT-30\" x=\"111.230469\"/>\n",
       "       <use xlink:href=\"#ArialMT-30\" x=\"166.845703\"/>\n",
       "      </g>\n",
       "     </g>\n",
       "    </g>\n",
       "    <g id=\"ytick_6\">\n",
       "     <g id=\"line2d_5\">\n",
       "      <g>\n",
       "       <use xlink:href=\"#md78bd79831\" x=\"434.917969\" y=\"48.625362\" style=\"fill: #262626; stroke: #262626; stroke-width: 1.25\"/>\n",
       "      </g>\n",
       "     </g>\n",
       "     <g id=\"text_28\">\n",
       "      <!-- 5000 -->\n",
       "      <g style=\"fill: #262626\" transform=\"translate(444.417969 52.562159)scale(0.11 -0.11)\">\n",
       "       <use xlink:href=\"#ArialMT-35\"/>\n",
       "       <use xlink:href=\"#ArialMT-30\" x=\"55.615234\"/>\n",
       "       <use xlink:href=\"#ArialMT-30\" x=\"111.230469\"/>\n",
       "       <use xlink:href=\"#ArialMT-30\" x=\"166.845703\"/>\n",
       "      </g>\n",
       "     </g>\n",
       "    </g>\n",
       "   </g>\n",
       "   <image xlink:href=\"data:image/png;base64,\n",
       "iVBORw0KGgoAAAANSUhEUgAAAA4AAAEQCAYAAACA40WOAAABjElEQVR4nO2bUWrGMAyDnZH732+H6Z+dYAw+MQmR9l3IsmU7pO065/sMePYZhJs982HAczAjBBZpFEJlwC+Empl9aHJ4HQPOqdEYMLnbq4oB3BoTyWEa+QRIDGRzciKhItxspnBmQ0IhVIFxmRk/AY0MqKxyCvR79bXcPzAWTYCefsSMQiNTr1b1IwRijdhyAhDW8fGHynBdGu0bGYf64AnQ45wmjbyOmNGdnIfhEuPR38g9w0oYyIywSqP/8MDPck0HpJZyBFZ5T3ICS6dJIyN8R8cfQKZRaGQMLGorbrkioPtmHr58UO46msrBgMItGcxOIDkX1FHpjreOvwPtMyfQyEUGoOWAr5FnD51yQ7O6OCPCKRrtyYFfoMxenNEMFL4ksWdVYLygOwKWQ7hId/i9WlNHPgFW0wpAuEhb2UMNTLmi3cGBCNe1yu0TgO+OwEamjBfMHH+owqkDMtLkXHEmF77utv/gQ0OdgEY7MBBqi+WUWzJ3VoX/5nqA/l9RruhHv+XMdUw0sruOP6ZH46lxSktxAAAAAElFTkSuQmCC\" id=\"imagef2b81439ba\" transform=\"scale(1 -1)translate(0 -272)\" x=\"421\" y=\"-6\" width=\"14\" height=\"272\"/>\n",
       "   <g id=\"LineCollection_1\"/>\n",
       "   <g id=\"patch_5\">\n",
       "    <path d=\"M 421.327969 279 \n",
       "L 428.122969 279 \n",
       "L 434.917969 279 \n",
       "L 434.917969 7.2 \n",
       "L 428.122969 7.2 \n",
       "L 421.327969 7.2 \n",
       "L 421.327969 279 \n",
       "z\n",
       "\" style=\"fill: none\"/>\n",
       "   </g>\n",
       "  </g>\n",
       " </g>\n",
       " <defs>\n",
       "  <clipPath id=\"p78a0a36b1d\">\n",
       "   <rect x=\"41.887969\" y=\"7.2\" width=\"357.12\" height=\"271.8\"/>\n",
       "  </clipPath>\n",
       "  <clipPath id=\"p2da12eec33\">\n",
       "   <rect x=\"421.327969\" y=\"7.2\" width=\"13.59\" height=\"271.8\"/>\n",
       "  </clipPath>\n",
       " </defs>\n",
       "</svg>\n"
      ],
      "text/plain": [
       "<Figure size 576x360 with 2 Axes>"
      ]
     },
     "metadata": {},
     "output_type": "display_data"
    }
   ],
   "source": [
    "rfm_table = rfmSegmentation.pivot_table(\n",
    "    index='R_Quartile',\n",
    "    columns='F_Quartile',\n",
    "    values='monetary_value',\n",
    "    aggfunc=np.median).applymap(int)\n",
    "sns.heatmap(rfm_table, cmap=\"YlGnBu\", annot=True, fmt=\".0f\", linewidths=4.15, annot_kws={\"size\": 10},yticklabels=4);"
   ]
  },
  {
   "cell_type": "markdown",
   "metadata": {
    "collapsed": false
   },
   "source": [
    "Какое максимальное кол-во покупок было совершено одним пользователем?"
   ]
  },
  {
   "cell_type": "code",
   "execution_count": 21,
   "metadata": {
    "collapsed": false
   },
   "outputs": [
    {
     "data": {
      "text/plain": [
       "204"
      ]
     },
     "execution_count": 21,
     "metadata": {},
     "output_type": "execute_result"
    }
   ],
   "source": [
    "rfmSegmentation['frequency'].max()"
   ]
  },
  {
   "cell_type": "markdown",
   "metadata": {
    "collapsed": false
   },
   "source": [
    "Какая верхняя граница у суммы покупок у пользователей с классом 4 в подсегменте М?\n",
    "(Другими словами: пользователи, у которых сумма покупок от 0 до Х попадают в 4 класс в подсегменте М)\n"
   ]
  },
  {
   "cell_type": "code",
   "execution_count": 22,
   "metadata": {
    "collapsed": false
   },
   "outputs": [
    {
     "data": {
      "text/plain": [
       "765.0"
      ]
     },
     "execution_count": 22,
     "metadata": {},
     "output_type": "execute_result"
    }
   ],
   "source": [
    "rfmSegmentation[rfmSegmentation['M_Quartile'] == 4]['monetary_value'].max()"
   ]
  },
  {
   "cell_type": "markdown",
   "metadata": {
    "collapsed": false
   },
   "source": [
    "Какая нижняя граница у количества покупок у пользователей с классом 1 в подсегменте F?"
   ]
  },
  {
   "cell_type": "code",
   "execution_count": 23,
   "metadata": {
    "collapsed": false
   },
   "outputs": [
    {
     "data": {
      "text/plain": [
       "4"
      ]
     },
     "execution_count": 23,
     "metadata": {},
     "output_type": "execute_result"
    }
   ],
   "source": [
    "rfmSegmentation[rfmSegmentation['F_Quartile'] == 1]['frequency'].min()"
   ]
  },
  {
   "cell_type": "markdown",
   "metadata": {
    "collapsed": false
   },
   "source": [
    "Какое максимальное количество дней может пройти с момента последней покупки для того, чтобы пользователь попал в класс 2 в подсегменте R?"
   ]
  },
  {
   "cell_type": "code",
   "execution_count": 36,
   "metadata": {
    "collapsed": false
   },
   "outputs": [
    {
     "data": {
      "text/plain": [
       "8"
      ]
     },
     "execution_count": 36,
     "metadata": {},
     "output_type": "execute_result"
    }
   ],
   "source": [
    "rfmSegmentation[rfmSegmentation['R_Quartile'] == 2]['recency'].max()\n"
   ]
  },
  {
   "cell_type": "markdown",
   "metadata": {
    "collapsed": false
   },
   "source": []
  },
  {
   "cell_type": "markdown",
   "metadata": {
    "collapsed": false
   },
   "source": [
    "Какая верхняя граница у количества покупок у пользователей с классом 2 в подсегменте R?"
   ]
  },
  {
   "cell_type": "code",
   "execution_count": 24,
   "metadata": {
    "collapsed": false
   },
   "outputs": [
    {
     "data": {
      "text/plain": [
       "3"
      ]
     },
     "execution_count": 24,
     "metadata": {},
     "output_type": "execute_result"
    }
   ],
   "source": [
    "rfmSegmentation[rfmSegmentation['R_Quartile'] == 2]['recency'].min()"
   ]
  },
  {
   "cell_type": "markdown",
   "metadata": {
    "collapsed": false
   },
   "source": [
    "Сколько пользователей попало в сегмент 111?"
   ]
  },
  {
   "cell_type": "code",
   "execution_count": 25,
   "metadata": {
    "collapsed": false
   },
   "outputs": [
    {
     "data": {
      "text/plain": [
       "9705"
      ]
     },
     "execution_count": 25,
     "metadata": {},
     "output_type": "execute_result"
    }
   ],
   "source": [
    "rfmSegmentation[rfmSegmentation['RFMClass'] == '111'].CustomerCode.count()"
   ]
  },
  {
   "cell_type": "markdown",
   "metadata": {
    "collapsed": false
   },
   "source": [
    "Сколько пользователей попало в сегмент 311?"
   ]
  },
  {
   "cell_type": "code",
   "execution_count": 26,
   "metadata": {
    "collapsed": false
   },
   "outputs": [
    {
     "data": {
      "text/plain": [
       "1609"
      ]
     },
     "execution_count": 26,
     "metadata": {},
     "output_type": "execute_result"
    }
   ],
   "source": [
    "rfmSegmentation[rfmSegmentation['RFMClass'] == '311'].CustomerCode.count()"
   ]
  },
  {
   "cell_type": "markdown",
   "metadata": {
    "collapsed": false
   },
   "source": [
    "В каком RFM-сегменте самое большое кол-во пользователей?"
   ]
  },
  {
   "cell_type": "code",
   "execution_count": 27,
   "metadata": {
    "collapsed": false
   },
   "outputs": [
    {
     "data": {
      "text/plain": [
       "CustomerCode    444\n",
       "dtype: object"
      ]
     },
     "execution_count": 27,
     "metadata": {},
     "output_type": "execute_result"
    }
   ],
   "source": [
    "rfmSegmentation.groupby('RFMClass').agg({'CustomerCode':'count'}).idxmax()"
   ]
  },
  {
   "cell_type": "markdown",
   "metadata": {
    "collapsed": false
   },
   "source": [
    "В каком RFM-сегменте самое маленькое кол-во пользователей?"
   ]
  },
  {
   "cell_type": "code",
   "execution_count": 34,
   "metadata": {
    "collapsed": false
   },
   "outputs": [
    {
     "data": {
      "text/plain": [
       "CustomerCode    414\n",
       "dtype: object"
      ]
     },
     "execution_count": 34,
     "metadata": {},
     "output_type": "execute_result"
    }
   ],
   "source": [
    "rfmSegmentation.groupby('RFMClass').agg({'CustomerCode':'count'}).idxmin()"
   ]
  },
  {
   "cell_type": "markdown",
   "metadata": {
    "collapsed": false
   },
   "source": [
    "Какое количество пользователей попало в самый малочисленный сегмент?"
   ]
  },
  {
   "cell_type": "code",
   "execution_count": 29,
   "metadata": {
    "collapsed": false
   },
   "outputs": [
    {
     "data": {
      "text/plain": [
       "CustomerCode    2\n",
       "dtype: int64"
      ]
     },
     "execution_count": 29,
     "metadata": {},
     "output_type": "execute_result"
    }
   ],
   "source": [
    "rfmSegmentation.groupby('RFMClass').agg({'CustomerCode':'count'}).min()"
   ]
  }
 ],
 "metadata": {
  "kernelspec": {
   "display_name": "Python 3",
   "language": "python",
   "name": "python3"
  },
  "language_info": {
   "codemirror_mode": {
    "name": "ipython",
    "version": 2
   },
   "file_extension": ".py",
   "mimetype": "text/x-python",
   "name": "python",
   "nbconvert_exporter": "python",
   "pygments_lexer": "ipython2",
   "version": "2.7.6"
  }
 },
 "nbformat": 4,
 "nbformat_minor": 0
}
