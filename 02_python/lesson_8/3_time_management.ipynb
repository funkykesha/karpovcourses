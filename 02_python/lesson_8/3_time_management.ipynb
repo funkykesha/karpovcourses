{
 "cells": [
  {
   "cell_type": "code",
   "execution_count": 1,
   "metadata": {},
   "outputs": [],
   "source": [
    "import pandas as pd"
   ]
  },
  {
   "cell_type": "code",
   "execution_count": 20,
   "metadata": {},
   "outputs": [],
   "source": [
    "bikes_Q1 = pd.read_csv('bikes_q1_sample.csv')"
   ]
  },
  {
   "cell_type": "code",
   "execution_count": 21,
   "metadata": {},
   "outputs": [],
   "source": [
    "bikes_Q1['start_time'] = pd.to_datetime(bikes_Q1['start_time'])\n",
    "bikes_Q1 = bikes_Q1.set_index('start_time')"
   ]
  },
  {
   "cell_type": "code",
   "execution_count": 30,
   "metadata": {},
   "outputs": [],
   "source": [
    "max_rent = bikes_Q1.resample(rule='D').count().trip_id.max()"
   ]
  },
  {
   "cell_type": "code",
   "execution_count": 31,
   "metadata": {},
   "outputs": [],
   "source": [
    "# другой сет данных"
   ]
  },
  {
   "cell_type": "code",
   "execution_count": 49,
   "metadata": {},
   "outputs": [],
   "source": [
    "bikes_april = pd.read_csv('bikes_april.csv', parse_dates=['start_time']).set_index('start_time')"
   ]
  },
  {
   "cell_type": "code",
   "execution_count": 53,
   "metadata": {},
   "outputs": [
    {
     "data": {
      "text/html": [
       "<div>\n",
       "<style scoped>\n",
       "    .dataframe tbody tr th:only-of-type {\n",
       "        vertical-align: middle;\n",
       "    }\n",
       "\n",
       "    .dataframe tbody tr th {\n",
       "        vertical-align: top;\n",
       "    }\n",
       "\n",
       "    .dataframe thead th {\n",
       "        text-align: right;\n",
       "    }\n",
       "</style>\n",
       "<table border=\"1\" class=\"dataframe\">\n",
       "  <thead>\n",
       "    <tr style=\"text-align: right;\">\n",
       "      <th></th>\n",
       "      <th>trip_id</th>\n",
       "      <th>end_time</th>\n",
       "      <th>bikeid</th>\n",
       "      <th>tripduration</th>\n",
       "      <th>from_station_id</th>\n",
       "      <th>from_station_name</th>\n",
       "      <th>to_station_id</th>\n",
       "      <th>to_station_name</th>\n",
       "      <th>usertype</th>\n",
       "      <th>gender</th>\n",
       "      <th>birthyear</th>\n",
       "    </tr>\n",
       "    <tr>\n",
       "      <th>start_time</th>\n",
       "      <th></th>\n",
       "      <th></th>\n",
       "      <th></th>\n",
       "      <th></th>\n",
       "      <th></th>\n",
       "      <th></th>\n",
       "      <th></th>\n",
       "      <th></th>\n",
       "      <th></th>\n",
       "      <th></th>\n",
       "      <th></th>\n",
       "    </tr>\n",
       "  </thead>\n",
       "  <tbody>\n",
       "    <tr>\n",
       "      <th>2018-04-18</th>\n",
       "      <td>2196</td>\n",
       "      <td>2196</td>\n",
       "      <td>2196</td>\n",
       "      <td>2196</td>\n",
       "      <td>2196</td>\n",
       "      <td>2196</td>\n",
       "      <td>2196</td>\n",
       "      <td>2196</td>\n",
       "      <td>2196</td>\n",
       "      <td>2193</td>\n",
       "      <td>2196</td>\n",
       "    </tr>\n",
       "  </tbody>\n",
       "</table>\n",
       "</div>"
      ],
      "text/plain": [
       "            trip_id  end_time  bikeid  tripduration  from_station_id  \\\n",
       "start_time                                                             \n",
       "2018-04-18     2196      2196    2196          2196             2196   \n",
       "\n",
       "            from_station_name  to_station_id  to_station_name  usertype  \\\n",
       "start_time                                                                \n",
       "2018-04-18               2196           2196             2196      2196   \n",
       "\n",
       "            gender  birthyear  \n",
       "start_time                     \n",
       "2018-04-18    2193       2196  "
      ]
     },
     "execution_count": 53,
     "metadata": {},
     "output_type": "execute_result"
    }
   ],
   "source": [
    "bikes_april_Subscriber = bikes_april.query('usertype == \"Subscriber\"')\n",
    "bikes_april_Subscriber.resample(rule='D').count().query('start_time == \"2018-04-18\"')"
   ]
  },
  {
   "cell_type": "code",
   "execution_count": 56,
   "metadata": {},
   "outputs": [],
   "source": [
    "# объединяем данные q2"
   ]
  },
  {
   "cell_type": "code",
   "execution_count": 60,
   "metadata": {},
   "outputs": [],
   "source": [
    "q2 = pd.concat([\n",
    "    pd.read_csv('bikes_q2_sample_apr.csv'),\n",
    "    pd.read_csv('bikes_q2_sample_jun.csv'),\n",
    "    pd.read_csv('bikes_q2_sample_may.csv')])"
   ]
  },
  {
   "cell_type": "code",
   "execution_count": 55,
   "metadata": {},
   "outputs": [],
   "source": [
    "# объединяем данные q3"
   ]
  },
  {
   "cell_type": "code",
   "execution_count": 67,
   "metadata": {},
   "outputs": [],
   "source": [
    "q3 = pd.concat([\n",
    "    pd.read_csv('bikes_q3_sample_july.csv'),\n",
    "    pd.read_csv('bikes_q3_sample_aug.csv'),\n",
    "    pd.read_csv('bikes_q3_sample_sep.csv')])"
   ]
  },
  {
   "cell_type": "code",
   "execution_count": 57,
   "metadata": {},
   "outputs": [],
   "source": [
    "# объединяем данные q4"
   ]
  },
  {
   "cell_type": "code",
   "execution_count": 66,
   "metadata": {},
   "outputs": [],
   "source": [
    "q4 = pd.concat([\n",
    "    pd.read_csv('bikes_q4_sample_oct.csv'),\n",
    "    pd.read_csv('bikes_q4_sample_nov.csv'),\n",
    "    pd.read_csv('bikes_q4_sample_dec.csv')])"
   ]
  },
  {
   "cell_type": "code",
   "execution_count": 68,
   "metadata": {},
   "outputs": [],
   "source": [
    "# объединяем все"
   ]
  },
  {
   "cell_type": "code",
   "execution_count": 69,
   "metadata": {},
   "outputs": [],
   "source": [
    "bikes = pd.concat([q2, q3, q4])"
   ]
  },
  {
   "cell_type": "code",
   "execution_count": 112,
   "metadata": {},
   "outputs": [],
   "source": [
    "# делаем start_time индексом и переводим to_datetime"
   ]
  },
  {
   "cell_type": "code",
   "execution_count": 75,
   "metadata": {},
   "outputs": [],
   "source": [
    "bikes.index = pd.to_datetime(bikes['start_time'])"
   ]
  },
  {
   "cell_type": "code",
   "execution_count": 113,
   "metadata": {},
   "outputs": [],
   "source": [
    "# группируем по usertype, по дням, транспонируем и смотрим когда Customer больше чем Subscriber"
   ]
  },
  {
   "cell_type": "code",
   "execution_count": 111,
   "metadata": {
    "scrolled": true
   },
   "outputs": [
    {
     "data": {
      "text/html": [
       "<div>\n",
       "<style scoped>\n",
       "    .dataframe tbody tr th:only-of-type {\n",
       "        vertical-align: middle;\n",
       "    }\n",
       "\n",
       "    .dataframe tbody tr th {\n",
       "        vertical-align: top;\n",
       "    }\n",
       "\n",
       "    .dataframe thead th {\n",
       "        text-align: right;\n",
       "    }\n",
       "</style>\n",
       "<table border=\"1\" class=\"dataframe\">\n",
       "  <thead>\n",
       "    <tr style=\"text-align: right;\">\n",
       "      <th>usertype</th>\n",
       "      <th>Customer</th>\n",
       "      <th>Subscriber</th>\n",
       "    </tr>\n",
       "    <tr>\n",
       "      <th>start_time</th>\n",
       "      <th></th>\n",
       "      <th></th>\n",
       "    </tr>\n",
       "  </thead>\n",
       "  <tbody>\n",
       "    <tr>\n",
       "      <th>2018-05-27</th>\n",
       "      <td>3263</td>\n",
       "      <td>2449</td>\n",
       "    </tr>\n",
       "    <tr>\n",
       "      <th>2018-09-02</th>\n",
       "      <td>2752</td>\n",
       "      <td>2183</td>\n",
       "    </tr>\n",
       "  </tbody>\n",
       "</table>\n",
       "</div>"
      ],
      "text/plain": [
       "usertype    Customer  Subscriber\n",
       "start_time                      \n",
       "2018-05-27      3263        2449\n",
       "2018-09-02      2752        2183"
      ]
     },
     "execution_count": 111,
     "metadata": {},
     "output_type": "execute_result"
    }
   ],
   "source": [
    "bikes.groupby('usertype') \\\n",
    "     .resample(rule='D').size() \\\n",
    "     .T \\\n",
    "     .query('Customer > Subscriber')"
   ]
  },
  {
   "cell_type": "code",
   "execution_count": 135,
   "metadata": {},
   "outputs": [],
   "source": [
    "# отбираем только лето"
   ]
  },
  {
   "cell_type": "code",
   "execution_count": 191,
   "metadata": {},
   "outputs": [],
   "source": [
    "bikes_summer = bikes.query('\"2018-06-01\" < start_time < \"2018-08-31\"')"
   ]
  },
  {
   "cell_type": "code",
   "execution_count": 136,
   "metadata": {},
   "outputs": [],
   "source": [
    "# вычисляем самый популярный пункт"
   ]
  },
  {
   "cell_type": "code",
   "execution_count": 155,
   "metadata": {},
   "outputs": [],
   "source": [
    "top_destination = bikes_summer.to_station_name.value_counts().idxmax()"
   ]
  },
  {
   "cell_type": "code",
   "execution_count": 137,
   "metadata": {},
   "outputs": [],
   "source": [
    "# определить в какой день top_destination было меньше всего поездок"
   ]
  },
  {
   "cell_type": "code",
   "execution_count": 167,
   "metadata": {
    "scrolled": false
   },
   "outputs": [],
   "source": [
    "bad_day = bikes_summer.query('to_station_name == @top_destination') \\\n",
    "            .size() \\\n",
    "            .idxmin() \\\n",
    "            .strftime('%Y-%m-%d')"
   ]
  },
  {
   "cell_type": "code",
   "execution_count": 179,
   "metadata": {},
   "outputs": [],
   "source": [
    "bikes_summer.index = bikes_summer.index.day_name()"
   ]
  },
  {
   "cell_type": "code",
   "execution_count": 197,
   "metadata": {},
   "outputs": [],
   "source": [
    "bikes_summer.index = bikes_summer.index.strftime('%A')"
   ]
  },
  {
   "cell_type": "code",
   "execution_count": 198,
   "metadata": {},
   "outputs": [
    {
     "data": {
      "text/html": [
       "<div>\n",
       "<style scoped>\n",
       "    .dataframe tbody tr th:only-of-type {\n",
       "        vertical-align: middle;\n",
       "    }\n",
       "\n",
       "    .dataframe tbody tr th {\n",
       "        vertical-align: top;\n",
       "    }\n",
       "\n",
       "    .dataframe thead th {\n",
       "        text-align: right;\n",
       "    }\n",
       "</style>\n",
       "<table border=\"1\" class=\"dataframe\">\n",
       "  <thead>\n",
       "    <tr style=\"text-align: right;\">\n",
       "      <th></th>\n",
       "      <th>trip_id</th>\n",
       "      <th>start_time</th>\n",
       "      <th>end_time</th>\n",
       "      <th>bikeid</th>\n",
       "      <th>tripduration</th>\n",
       "      <th>from_station_id</th>\n",
       "      <th>from_station_name</th>\n",
       "      <th>to_station_id</th>\n",
       "      <th>to_station_name</th>\n",
       "      <th>usertype</th>\n",
       "      <th>gender</th>\n",
       "      <th>birthyear</th>\n",
       "    </tr>\n",
       "    <tr>\n",
       "      <th>start_time</th>\n",
       "      <th></th>\n",
       "      <th></th>\n",
       "      <th></th>\n",
       "      <th></th>\n",
       "      <th></th>\n",
       "      <th></th>\n",
       "      <th></th>\n",
       "      <th></th>\n",
       "      <th></th>\n",
       "      <th></th>\n",
       "      <th></th>\n",
       "      <th></th>\n",
       "    </tr>\n",
       "  </thead>\n",
       "  <tbody>\n",
       "    <tr>\n",
       "      <th>Friday</th>\n",
       "      <td>18709077</td>\n",
       "      <td>2018-06-01 00:04:40</td>\n",
       "      <td>2018-06-01 00:06:47</td>\n",
       "      <td>3155</td>\n",
       "      <td>127.0</td>\n",
       "      <td>128</td>\n",
       "      <td>Damen Ave &amp; Chicago Ave</td>\n",
       "      <td>214</td>\n",
       "      <td>Damen Ave &amp; Grand Ave</td>\n",
       "      <td>Subscriber</td>\n",
       "      <td>Female</td>\n",
       "      <td>1978.0</td>\n",
       "    </tr>\n",
       "    <tr>\n",
       "      <th>Friday</th>\n",
       "      <td>18709080</td>\n",
       "      <td>2018-06-01 00:06:08</td>\n",
       "      <td>2018-06-01 00:24:18</td>\n",
       "      <td>2807</td>\n",
       "      <td>1,090.0</td>\n",
       "      <td>258</td>\n",
       "      <td>Logan Blvd &amp; Elston Ave</td>\n",
       "      <td>69</td>\n",
       "      <td>Damen Ave &amp; Pierce Ave</td>\n",
       "      <td>Customer</td>\n",
       "      <td>NaN</td>\n",
       "      <td>NaN</td>\n",
       "    </tr>\n",
       "    <tr>\n",
       "      <th>Friday</th>\n",
       "      <td>18709086</td>\n",
       "      <td>2018-06-01 00:08:01</td>\n",
       "      <td>2018-06-01 00:32:55</td>\n",
       "      <td>2737</td>\n",
       "      <td>1,494.0</td>\n",
       "      <td>337</td>\n",
       "      <td>Clark St &amp; Chicago Ave</td>\n",
       "      <td>225</td>\n",
       "      <td>Halsted St &amp; Dickens Ave</td>\n",
       "      <td>Customer</td>\n",
       "      <td>Male</td>\n",
       "      <td>1988.0</td>\n",
       "    </tr>\n",
       "    <tr>\n",
       "      <th>Friday</th>\n",
       "      <td>18709091</td>\n",
       "      <td>2018-06-01 00:09:02</td>\n",
       "      <td>2018-06-01 00:19:21</td>\n",
       "      <td>6089</td>\n",
       "      <td>619.0</td>\n",
       "      <td>210</td>\n",
       "      <td>Ashland Ave &amp; Division St</td>\n",
       "      <td>56</td>\n",
       "      <td>Desplaines St &amp; Kinzie St</td>\n",
       "      <td>Subscriber</td>\n",
       "      <td>Male</td>\n",
       "      <td>1987.0</td>\n",
       "    </tr>\n",
       "    <tr>\n",
       "      <th>Friday</th>\n",
       "      <td>18709092</td>\n",
       "      <td>2018-06-01 00:09:28</td>\n",
       "      <td>2018-06-01 00:14:44</td>\n",
       "      <td>2352</td>\n",
       "      <td>316.0</td>\n",
       "      <td>240</td>\n",
       "      <td>Sheridan Rd &amp; Irving Park Rd</td>\n",
       "      <td>303</td>\n",
       "      <td>Broadway &amp; Cornelia Ave</td>\n",
       "      <td>Subscriber</td>\n",
       "      <td>Male</td>\n",
       "      <td>1997.0</td>\n",
       "    </tr>\n",
       "    <tr>\n",
       "      <th>...</th>\n",
       "      <td>...</td>\n",
       "      <td>...</td>\n",
       "      <td>...</td>\n",
       "      <td>...</td>\n",
       "      <td>...</td>\n",
       "      <td>...</td>\n",
       "      <td>...</td>\n",
       "      <td>...</td>\n",
       "      <td>...</td>\n",
       "      <td>...</td>\n",
       "      <td>...</td>\n",
       "      <td>...</td>\n",
       "    </tr>\n",
       "    <tr>\n",
       "      <th>Thursday</th>\n",
       "      <td>20461112</td>\n",
       "      <td>2018-08-30 23:51:58</td>\n",
       "      <td>2018-08-31 00:00:52</td>\n",
       "      <td>4592</td>\n",
       "      <td>534.0</td>\n",
       "      <td>334</td>\n",
       "      <td>Lake Shore Dr &amp; Belmont Ave</td>\n",
       "      <td>256</td>\n",
       "      <td>Broadway &amp; Sheridan Rd</td>\n",
       "      <td>Subscriber</td>\n",
       "      <td>Male</td>\n",
       "      <td>1983.0</td>\n",
       "    </tr>\n",
       "    <tr>\n",
       "      <th>Thursday</th>\n",
       "      <td>20461116</td>\n",
       "      <td>2018-08-30 23:54:53</td>\n",
       "      <td>2018-08-31 00:00:38</td>\n",
       "      <td>3330</td>\n",
       "      <td>345.0</td>\n",
       "      <td>507</td>\n",
       "      <td>Humboldt Blvd &amp; Armitage Ave</td>\n",
       "      <td>116</td>\n",
       "      <td>Western Ave &amp; Winnebago Ave</td>\n",
       "      <td>Subscriber</td>\n",
       "      <td>Female</td>\n",
       "      <td>1991.0</td>\n",
       "    </tr>\n",
       "    <tr>\n",
       "      <th>Thursday</th>\n",
       "      <td>20461117</td>\n",
       "      <td>2018-08-30 23:54:54</td>\n",
       "      <td>2018-08-31 00:01:05</td>\n",
       "      <td>3367</td>\n",
       "      <td>371.0</td>\n",
       "      <td>56</td>\n",
       "      <td>Desplaines St &amp; Kinzie St</td>\n",
       "      <td>186</td>\n",
       "      <td>Ogden Ave &amp; Race Ave</td>\n",
       "      <td>Subscriber</td>\n",
       "      <td>Male</td>\n",
       "      <td>1986.0</td>\n",
       "    </tr>\n",
       "    <tr>\n",
       "      <th>Thursday</th>\n",
       "      <td>20461120</td>\n",
       "      <td>2018-08-30 23:56:04</td>\n",
       "      <td>2018-08-31 02:37:02</td>\n",
       "      <td>2746</td>\n",
       "      <td>9,658.0</td>\n",
       "      <td>322</td>\n",
       "      <td>Kimbark Ave &amp; 53rd St</td>\n",
       "      <td>247</td>\n",
       "      <td>Shore Dr &amp; 55th St</td>\n",
       "      <td>Subscriber</td>\n",
       "      <td>Male</td>\n",
       "      <td>1998.0</td>\n",
       "    </tr>\n",
       "    <tr>\n",
       "      <th>Thursday</th>\n",
       "      <td>20461129</td>\n",
       "      <td>2018-08-30 23:59:05</td>\n",
       "      <td>2018-08-31 00:05:34</td>\n",
       "      <td>5710</td>\n",
       "      <td>389.0</td>\n",
       "      <td>100</td>\n",
       "      <td>Orleans St &amp; Merchandise Mart Plaza</td>\n",
       "      <td>110</td>\n",
       "      <td>Dearborn St &amp; Erie St</td>\n",
       "      <td>Subscriber</td>\n",
       "      <td>Male</td>\n",
       "      <td>1986.0</td>\n",
       "    </tr>\n",
       "  </tbody>\n",
       "</table>\n",
       "<p>454930 rows × 12 columns</p>\n",
       "</div>"
      ],
      "text/plain": [
       "             trip_id           start_time             end_time  bikeid  \\\n",
       "start_time                                                               \n",
       "Friday      18709077  2018-06-01 00:04:40  2018-06-01 00:06:47    3155   \n",
       "Friday      18709080  2018-06-01 00:06:08  2018-06-01 00:24:18    2807   \n",
       "Friday      18709086  2018-06-01 00:08:01  2018-06-01 00:32:55    2737   \n",
       "Friday      18709091  2018-06-01 00:09:02  2018-06-01 00:19:21    6089   \n",
       "Friday      18709092  2018-06-01 00:09:28  2018-06-01 00:14:44    2352   \n",
       "...              ...                  ...                  ...     ...   \n",
       "Thursday    20461112  2018-08-30 23:51:58  2018-08-31 00:00:52    4592   \n",
       "Thursday    20461116  2018-08-30 23:54:53  2018-08-31 00:00:38    3330   \n",
       "Thursday    20461117  2018-08-30 23:54:54  2018-08-31 00:01:05    3367   \n",
       "Thursday    20461120  2018-08-30 23:56:04  2018-08-31 02:37:02    2746   \n",
       "Thursday    20461129  2018-08-30 23:59:05  2018-08-31 00:05:34    5710   \n",
       "\n",
       "           tripduration  from_station_id                    from_station_name  \\\n",
       "start_time                                                                      \n",
       "Friday            127.0              128              Damen Ave & Chicago Ave   \n",
       "Friday          1,090.0              258              Logan Blvd & Elston Ave   \n",
       "Friday          1,494.0              337               Clark St & Chicago Ave   \n",
       "Friday            619.0              210            Ashland Ave & Division St   \n",
       "Friday            316.0              240         Sheridan Rd & Irving Park Rd   \n",
       "...                 ...              ...                                  ...   \n",
       "Thursday          534.0              334          Lake Shore Dr & Belmont Ave   \n",
       "Thursday          345.0              507         Humboldt Blvd & Armitage Ave   \n",
       "Thursday          371.0               56            Desplaines St & Kinzie St   \n",
       "Thursday        9,658.0              322                Kimbark Ave & 53rd St   \n",
       "Thursday          389.0              100  Orleans St & Merchandise Mart Plaza   \n",
       "\n",
       "            to_station_id              to_station_name    usertype  gender  \\\n",
       "start_time                                                                   \n",
       "Friday                214        Damen Ave & Grand Ave  Subscriber  Female   \n",
       "Friday                 69       Damen Ave & Pierce Ave    Customer     NaN   \n",
       "Friday                225     Halsted St & Dickens Ave    Customer    Male   \n",
       "Friday                 56    Desplaines St & Kinzie St  Subscriber    Male   \n",
       "Friday                303      Broadway & Cornelia Ave  Subscriber    Male   \n",
       "...                   ...                          ...         ...     ...   \n",
       "Thursday              256       Broadway & Sheridan Rd  Subscriber    Male   \n",
       "Thursday              116  Western Ave & Winnebago Ave  Subscriber  Female   \n",
       "Thursday              186         Ogden Ave & Race Ave  Subscriber    Male   \n",
       "Thursday              247           Shore Dr & 55th St  Subscriber    Male   \n",
       "Thursday              110        Dearborn St & Erie St  Subscriber    Male   \n",
       "\n",
       "            birthyear  \n",
       "start_time             \n",
       "Friday         1978.0  \n",
       "Friday            NaN  \n",
       "Friday         1988.0  \n",
       "Friday         1987.0  \n",
       "Friday         1997.0  \n",
       "...               ...  \n",
       "Thursday       1983.0  \n",
       "Thursday       1991.0  \n",
       "Thursday       1986.0  \n",
       "Thursday       1998.0  \n",
       "Thursday       1986.0  \n",
       "\n",
       "[454930 rows x 12 columns]"
      ]
     },
     "execution_count": 198,
     "metadata": {},
     "output_type": "execute_result"
    }
   ],
   "source": [
    "bikes_summer"
   ]
  },
  {
   "cell_type": "code",
   "execution_count": 203,
   "metadata": {},
   "outputs": [
    {
     "data": {
      "text/plain": [
       "start_time  to_station_name           \n",
       "Saturday    Streeter Dr & Grand Ave       3461\n",
       "Sunday      Streeter Dr & Grand Ave       2565\n",
       "Saturday    Lake Shore Dr & North Blvd    1690\n",
       "Wednesday   Streeter Dr & Grand Ave       1669\n",
       "Friday      Streeter Dr & Grand Ave       1603\n",
       "Monday      Streeter Dr & Grand Ave       1503\n",
       "Thursday    Streeter Dr & Grand Ave       1482\n",
       "Saturday    Theater on the Lake           1470\n",
       "Sunday      Lake Shore Dr & North Blvd    1402\n",
       "            Theater on the Lake           1388\n",
       "Name: trip_id, dtype: int64"
      ]
     },
     "execution_count": 203,
     "metadata": {},
     "output_type": "execute_result"
    }
   ],
   "source": [
    "bikes_summer.groupby([bikes_summer.index, 'to_station_name']) \\\n",
    "            .count().trip_id.nlargest(10)"
   ]
  }
 ],
 "metadata": {
  "kernelspec": {
   "display_name": "Python 3",
   "language": "python",
   "name": "python3"
  },
  "language_info": {
   "codemirror_mode": {
    "name": "ipython",
    "version": 3
   },
   "file_extension": ".py",
   "mimetype": "text/x-python",
   "name": "python",
   "nbconvert_exporter": "python",
   "pygments_lexer": "ipython3",
   "version": "3.7.3"
  }
 },
 "nbformat": 4,
 "nbformat_minor": 4
}
