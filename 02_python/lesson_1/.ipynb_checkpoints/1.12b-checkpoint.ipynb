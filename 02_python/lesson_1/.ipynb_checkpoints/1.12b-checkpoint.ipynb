{
 "cells": [
  {
   "cell_type": "code",
   "execution_count": 2,
   "metadata": {},
   "outputs": [],
   "source": [
    "users_dict = {}\n",
    "keys = ['login', 'name', 'surname', 'age', 'salary', 'position'], ['mvolkova', 'Masha', 'Volkova', 25, 60000, 'junior'], ['pvoronov', 'Peter', 'Voronov', 27, 100000, 'junior'], ['pparker', 'Peter', 'Parker', 35, 150000, 'middle'], ['akarpov', 'Anatoly', 'Karpov', 30, 250000, 'senior']\n",
    "j = 1"
   ]
  },
  {
   "cell_type": "code",
   "execution_count": 3,
   "metadata": {},
   "outputs": [],
   "source": [
    "for i in range(1, len(keys)):\n",
    "    users_dict[keys[i][0]] = {}\n",
    "    for j in range(1, len(keys[i])): # Заносим во внутренний словарь\n",
    "        users_dict[keys[i][0]][keys[0][j]] = keys[i][j]\n",
    "    j += 1    "
   ]
  },
  {
   "cell_type": "code",
   "execution_count": 4,
   "metadata": {},
   "outputs": [
    {
     "data": {
      "text/plain": [
       "{'mvolkova': {'name': 'Masha',\n",
       "  'surname': 'Volkova',\n",
       "  'age': 25,\n",
       "  'salary': 60000,\n",
       "  'position': 'junior'},\n",
       " 'pvoronov': {'name': 'Peter',\n",
       "  'surname': 'Voronov',\n",
       "  'age': 27,\n",
       "  'salary': 100000,\n",
       "  'position': 'junior'},\n",
       " 'pparker': {'name': 'Peter',\n",
       "  'surname': 'Parker',\n",
       "  'age': 35,\n",
       "  'salary': 150000,\n",
       "  'position': 'middle'},\n",
       " 'akarpov': {'name': 'Anatoly',\n",
       "  'surname': 'Karpov',\n",
       "  'age': 30,\n",
       "  'salary': 250000,\n",
       "  'position': 'senior'}}"
      ]
     },
     "execution_count": 4,
     "metadata": {},
     "output_type": "execute_result"
    }
   ],
   "source": [
    "users_dict"
   ]
  }
 ],
 "metadata": {
  "kernelspec": {
   "display_name": "Python 3",
   "language": "python",
   "name": "python3"
  },
  "language_info": {
   "codemirror_mode": {
    "name": "ipython",
    "version": 3
   },
   "file_extension": ".py",
   "mimetype": "text/x-python",
   "name": "python",
   "nbconvert_exporter": "python",
   "pygments_lexer": "ipython3",
   "version": "3.7.3"
  }
 },
 "nbformat": 4,
 "nbformat_minor": 4
}
