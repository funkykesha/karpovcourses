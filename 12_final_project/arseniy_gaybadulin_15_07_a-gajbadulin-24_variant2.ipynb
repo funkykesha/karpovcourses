{
 "cells": [
  {
   "cell_type": "code",
   "execution_count": 1,
   "metadata": {},
   "outputs": [],
   "source": [
    "import pandas as pd\n",
    "import seaborn as sns\n",
    "import numpy as np\n",
    "from scipy import stats\n",
    "import pingouin as pg\n",
    "from scipy.stats import norm\n",
    "import matplotlib.pyplot as plt\n",
    "from tqdm.auto import tqdm\n",
    "\n",
    "plt.style.use('ggplot')\n",
    "import pandahouse as ph\n",
    "\n",
    "import plotly.graph_objects as go\n",
    "from plotly.subplots import make_subplots"
   ]
  },
  {
   "cell_type": "markdown",
   "metadata": {},
   "source": [
    "Файл с информацией о принадлежности пользователя к контрольной или экспериментальной группе (А – контроль, B – целевая группа)"
   ]
  },
  {
   "cell_type": "code",
   "execution_count": 2,
   "metadata": {},
   "outputs": [],
   "source": [
    "groups = pd.read_csv('groups.csv', sep=';')"
   ]
  },
  {
   "cell_type": "markdown",
   "metadata": {},
   "source": [
    "Файл с информацией о пользователях, которые зашли на платформу в дни проведения эксперимента\n"
   ]
  },
  {
   "cell_type": "code",
   "execution_count": 3,
   "metadata": {},
   "outputs": [],
   "source": [
    "active_studs = pd.read_csv('active_studs.csv')"
   ]
  },
  {
   "cell_type": "markdown",
   "metadata": {},
   "source": [
    "Файл с информацией об оплатах пользователей в дни проведения эксперимента. "
   ]
  },
  {
   "cell_type": "code",
   "execution_count": 4,
   "metadata": {},
   "outputs": [
    {
     "name": "stderr",
     "output_type": "stream",
     "text": [
      "/opt/tljh/user/lib/python3.7/site-packages/outdated/utils.py:18: OutdatedCacheFailedWarning: Failed to use cache while checking for outdated package.\n",
      "Set the environment variable OUTDATED_RAISE_EXCEPTION=1 for a full traceback.\n",
      "Set the environment variable OUTDATED_IGNORE=1 to disable these warnings.\n",
      "  **kwargs\n",
      "/opt/tljh/user/lib/python3.7/site-packages/outdated/utils.py:18: OutdatedPackageWarning: The package pingouin is out of date. Your version is 0.4.0, the latest is 0.5.3.\n",
      "Set the environment variable OUTDATED_IGNORE=1 to disable these warnings.\n",
      "  **kwargs\n"
     ]
    }
   ],
   "source": [
    "checks = pd.read_csv('checks.csv', sep=';')"
   ]
  },
  {
   "cell_type": "markdown",
   "metadata": {},
   "source": [
    "Переименуем столбцы id в данных у groups в student_id, для облегчения работы в дальнейшнем"
   ]
  },
  {
   "cell_type": "code",
   "execution_count": 5,
   "metadata": {},
   "outputs": [
    {
     "name": "stderr",
     "output_type": "stream",
     "text": [
      "/opt/tljh/user/lib/python3.7/site-packages/outdated/utils.py:18: OutdatedPackageWarning: The package outdated is out of date. Your version is 0.2.1, the latest is 0.2.2.\n",
      "Set the environment variable OUTDATED_IGNORE=1 to disable these warnings.\n",
      "  **kwargs\n"
     ]
    }
   ],
   "source": [
    "groups = groups.rename(columns={'id': 'student_id'})"
   ]
  },
  {
   "cell_type": "markdown",
   "metadata": {},
   "source": [
    "Проверим какой части пользователей показалась страница оплаты"
   ]
  },
  {
   "cell_type": "code",
   "execution_count": 6,
   "metadata": {},
   "outputs": [
    {
     "data": {
      "text/plain": [
       "student_id    8328\n",
       "grp           8328\n",
       "dtype: int64"
      ]
     },
     "execution_count": 6,
     "metadata": {},
     "output_type": "execute_result"
    }
   ],
   "source": [
    "active_studs.merge(groups, on='student_id', how='inner').count()"
   ]
  },
  {
   "cell_type": "markdown",
   "metadata": {},
   "source": [
    "Проверим сколько было оплат из активных пользователей"
   ]
  },
  {
   "cell_type": "code",
   "execution_count": 7,
   "metadata": {},
   "outputs": [
    {
     "data": {
      "text/plain": [
       "student_id    392\n",
       "rev           392\n",
       "dtype: int64"
      ]
     },
     "execution_count": 7,
     "metadata": {},
     "output_type": "execute_result"
    }
   ],
   "source": [
    "active_studs.merge(checks, on='student_id', how='inner').count()"
   ]
  },
  {
   "cell_type": "markdown",
   "metadata": {},
   "source": [
    "Проверим сколько было оплат пользователей с расставленной группой эксперимента"
   ]
  },
  {
   "cell_type": "code",
   "execution_count": 8,
   "metadata": {},
   "outputs": [
    {
     "data": {
      "text/plain": [
       "student_id    540\n",
       "grp           540\n",
       "rev           540\n",
       "dtype: int64"
      ]
     },
     "execution_count": 8,
     "metadata": {},
     "output_type": "execute_result"
    }
   ],
   "source": [
    "groups.merge(checks, on='student_id', how='inner').count()"
   ]
  },
  {
   "cell_type": "code",
   "execution_count": 9,
   "metadata": {},
   "outputs": [
    {
     "data": {
      "text/html": [
       "<div>\n",
       "<style scoped>\n",
       "    .dataframe tbody tr th:only-of-type {\n",
       "        vertical-align: middle;\n",
       "    }\n",
       "\n",
       "    .dataframe tbody tr th {\n",
       "        vertical-align: top;\n",
       "    }\n",
       "\n",
       "    .dataframe thead th {\n",
       "        text-align: right;\n",
       "    }\n",
       "</style>\n",
       "<table border=\"1\" class=\"dataframe\">\n",
       "  <thead>\n",
       "    <tr style=\"text-align: right;\">\n",
       "      <th></th>\n",
       "      <th>student_id</th>\n",
       "      <th>grp</th>\n",
       "    </tr>\n",
       "  </thead>\n",
       "  <tbody>\n",
       "    <tr>\n",
       "      <th>0</th>\n",
       "      <td>1489</td>\n",
       "      <td>B</td>\n",
       "    </tr>\n",
       "    <tr>\n",
       "      <th>1</th>\n",
       "      <td>1627</td>\n",
       "      <td>A</td>\n",
       "    </tr>\n",
       "    <tr>\n",
       "      <th>2</th>\n",
       "      <td>1768</td>\n",
       "      <td>B</td>\n",
       "    </tr>\n",
       "    <tr>\n",
       "      <th>3</th>\n",
       "      <td>1783</td>\n",
       "      <td>B</td>\n",
       "    </tr>\n",
       "    <tr>\n",
       "      <th>4</th>\n",
       "      <td>1794</td>\n",
       "      <td>A</td>\n",
       "    </tr>\n",
       "    <tr>\n",
       "      <th>...</th>\n",
       "      <td>...</td>\n",
       "      <td>...</td>\n",
       "    </tr>\n",
       "    <tr>\n",
       "      <th>74479</th>\n",
       "      <td>5692459</td>\n",
       "      <td>B</td>\n",
       "    </tr>\n",
       "    <tr>\n",
       "      <th>74480</th>\n",
       "      <td>5692572</td>\n",
       "      <td>B</td>\n",
       "    </tr>\n",
       "    <tr>\n",
       "      <th>74481</th>\n",
       "      <td>5692865</td>\n",
       "      <td>B</td>\n",
       "    </tr>\n",
       "    <tr>\n",
       "      <th>74482</th>\n",
       "      <td>5693667</td>\n",
       "      <td>B</td>\n",
       "    </tr>\n",
       "    <tr>\n",
       "      <th>74483</th>\n",
       "      <td>5694419</td>\n",
       "      <td>B</td>\n",
       "    </tr>\n",
       "  </tbody>\n",
       "</table>\n",
       "<p>74484 rows × 2 columns</p>\n",
       "</div>"
      ],
      "text/plain": [
       "       student_id grp\n",
       "0            1489   B\n",
       "1            1627   A\n",
       "2            1768   B\n",
       "3            1783   B\n",
       "4            1794   A\n",
       "...           ...  ..\n",
       "74479     5692459   B\n",
       "74480     5692572   B\n",
       "74481     5692865   B\n",
       "74482     5693667   B\n",
       "74483     5694419   B\n",
       "\n",
       "[74484 rows x 2 columns]"
      ]
     },
     "execution_count": 9,
     "metadata": {},
     "output_type": "execute_result"
    }
   ],
   "source": [
    "groups"
   ]
  },
  {
   "cell_type": "markdown",
   "metadata": {},
   "source": [
    "Получается, что не все пользотели зашли на сайт, но при этом часть пользователей оплачивали не заходя на сайт (либо долетели старые оплаты).\n",
    "\n",
    "Сделаем датасет только с активными пользователями и добавим оплаты."
   ]
  },
  {
   "cell_type": "code",
   "execution_count": 10,
   "metadata": {},
   "outputs": [],
   "source": [
    "active = groups.merge(active_studs, on='student_id', how='inner') \\\n",
    "               .merge(checks, on='student_id', how = 'left') \\\n",
    "               .fillna(0)"
   ]
  },
  {
   "cell_type": "markdown",
   "metadata": {},
   "source": [
    "Также добавим факт покупки - для вычисления показателей."
   ]
  },
  {
   "cell_type": "code",
   "execution_count": 11,
   "metadata": {},
   "outputs": [
    {
     "data": {
      "text/html": [
       "<div>\n",
       "<style scoped>\n",
       "    .dataframe tbody tr th:only-of-type {\n",
       "        vertical-align: middle;\n",
       "    }\n",
       "\n",
       "    .dataframe tbody tr th {\n",
       "        vertical-align: top;\n",
       "    }\n",
       "\n",
       "    .dataframe thead th {\n",
       "        text-align: right;\n",
       "    }\n",
       "</style>\n",
       "<table border=\"1\" class=\"dataframe\">\n",
       "  <thead>\n",
       "    <tr style=\"text-align: right;\">\n",
       "      <th></th>\n",
       "      <th>student_id</th>\n",
       "      <th>grp</th>\n",
       "      <th>rev</th>\n",
       "      <th>purch</th>\n",
       "    </tr>\n",
       "  </thead>\n",
       "  <tbody>\n",
       "    <tr>\n",
       "      <th>0</th>\n",
       "      <td>1627</td>\n",
       "      <td>A</td>\n",
       "      <td>990.0</td>\n",
       "      <td>1</td>\n",
       "    </tr>\n",
       "    <tr>\n",
       "      <th>1</th>\n",
       "      <td>2085</td>\n",
       "      <td>B</td>\n",
       "      <td>0.0</td>\n",
       "      <td>0</td>\n",
       "    </tr>\n",
       "    <tr>\n",
       "      <th>2</th>\n",
       "      <td>2215</td>\n",
       "      <td>B</td>\n",
       "      <td>0.0</td>\n",
       "      <td>0</td>\n",
       "    </tr>\n",
       "    <tr>\n",
       "      <th>3</th>\n",
       "      <td>3391</td>\n",
       "      <td>A</td>\n",
       "      <td>0.0</td>\n",
       "      <td>0</td>\n",
       "    </tr>\n",
       "    <tr>\n",
       "      <th>4</th>\n",
       "      <td>3401</td>\n",
       "      <td>B</td>\n",
       "      <td>0.0</td>\n",
       "      <td>0</td>\n",
       "    </tr>\n",
       "  </tbody>\n",
       "</table>\n",
       "</div>"
      ],
      "text/plain": [
       "   student_id grp    rev  purch\n",
       "0        1627   A  990.0      1\n",
       "1        2085   B    0.0      0\n",
       "2        2215   B    0.0      0\n",
       "3        3391   A    0.0      0\n",
       "4        3401   B    0.0      0"
      ]
     },
     "execution_count": 11,
     "metadata": {},
     "output_type": "execute_result"
    }
   ],
   "source": [
    "active['purch'] = active.rev.apply(lambda x: 1 if x > 0 else 0)\n",
    "active.head()"
   ]
  },
  {
   "cell_type": "markdown",
   "metadata": {},
   "source": [
    "Зададим датасеты для пользователей с покупками."
   ]
  },
  {
   "cell_type": "code",
   "execution_count": 12,
   "metadata": {},
   "outputs": [],
   "source": [
    "active_purch_a = active.query('grp == \"A\" & rev > 0')\n",
    "active_purch_b = active.query('grp == \"B\" & rev > 0')\n",
    "active_purch = active.query('rev > 0')"
   ]
  },
  {
   "cell_type": "code",
   "execution_count": 13,
   "metadata": {},
   "outputs": [
    {
     "data": {
      "text/html": [
       "<div>\n",
       "<style scoped>\n",
       "    .dataframe tbody tr th:only-of-type {\n",
       "        vertical-align: middle;\n",
       "    }\n",
       "\n",
       "    .dataframe tbody tr th {\n",
       "        vertical-align: top;\n",
       "    }\n",
       "\n",
       "    .dataframe thead th {\n",
       "        text-align: right;\n",
       "    }\n",
       "</style>\n",
       "<table border=\"1\" class=\"dataframe\">\n",
       "  <thead>\n",
       "    <tr style=\"text-align: right;\">\n",
       "      <th></th>\n",
       "      <th>student_id</th>\n",
       "      <th>grp</th>\n",
       "      <th>rev</th>\n",
       "      <th>purch</th>\n",
       "    </tr>\n",
       "  </thead>\n",
       "  <tbody>\n",
       "    <tr>\n",
       "      <th>0</th>\n",
       "      <td>1627</td>\n",
       "      <td>A</td>\n",
       "      <td>990.0000</td>\n",
       "      <td>1</td>\n",
       "    </tr>\n",
       "    <tr>\n",
       "      <th>10</th>\n",
       "      <td>100300</td>\n",
       "      <td>B</td>\n",
       "      <td>990.0000</td>\n",
       "      <td>1</td>\n",
       "    </tr>\n",
       "    <tr>\n",
       "      <th>12</th>\n",
       "      <td>108270</td>\n",
       "      <td>B</td>\n",
       "      <td>290.0000</td>\n",
       "      <td>1</td>\n",
       "    </tr>\n",
       "    <tr>\n",
       "      <th>246</th>\n",
       "      <td>264473</td>\n",
       "      <td>B</td>\n",
       "      <td>1900.0001</td>\n",
       "      <td>1</td>\n",
       "    </tr>\n",
       "    <tr>\n",
       "      <th>279</th>\n",
       "      <td>274352</td>\n",
       "      <td>B</td>\n",
       "      <td>690.0000</td>\n",
       "      <td>1</td>\n",
       "    </tr>\n",
       "    <tr>\n",
       "      <th>...</th>\n",
       "      <td>...</td>\n",
       "      <td>...</td>\n",
       "      <td>...</td>\n",
       "      <td>...</td>\n",
       "    </tr>\n",
       "    <tr>\n",
       "      <th>8299</th>\n",
       "      <td>5609523</td>\n",
       "      <td>B</td>\n",
       "      <td>1900.0000</td>\n",
       "      <td>1</td>\n",
       "    </tr>\n",
       "    <tr>\n",
       "      <th>8312</th>\n",
       "      <td>5645737</td>\n",
       "      <td>B</td>\n",
       "      <td>1900.0000</td>\n",
       "      <td>1</td>\n",
       "    </tr>\n",
       "    <tr>\n",
       "      <th>8314</th>\n",
       "      <td>5651566</td>\n",
       "      <td>B</td>\n",
       "      <td>1900.0000</td>\n",
       "      <td>1</td>\n",
       "    </tr>\n",
       "    <tr>\n",
       "      <th>8316</th>\n",
       "      <td>5662322</td>\n",
       "      <td>B</td>\n",
       "      <td>1900.0000</td>\n",
       "      <td>1</td>\n",
       "    </tr>\n",
       "    <tr>\n",
       "      <th>8323</th>\n",
       "      <td>5681918</td>\n",
       "      <td>B</td>\n",
       "      <td>1900.0000</td>\n",
       "      <td>1</td>\n",
       "    </tr>\n",
       "  </tbody>\n",
       "</table>\n",
       "<p>391 rows × 4 columns</p>\n",
       "</div>"
      ],
      "text/plain": [
       "      student_id grp        rev  purch\n",
       "0           1627   A   990.0000      1\n",
       "10        100300   B   990.0000      1\n",
       "12        108270   B   290.0000      1\n",
       "246       264473   B  1900.0001      1\n",
       "279       274352   B   690.0000      1\n",
       "...          ...  ..        ...    ...\n",
       "8299     5609523   B  1900.0000      1\n",
       "8312     5645737   B  1900.0000      1\n",
       "8314     5651566   B  1900.0000      1\n",
       "8316     5662322   B  1900.0000      1\n",
       "8323     5681918   B  1900.0000      1\n",
       "\n",
       "[391 rows x 4 columns]"
      ]
     },
     "execution_count": 13,
     "metadata": {},
     "output_type": "execute_result"
    }
   ],
   "source": [
    "active_purch"
   ]
  },
  {
   "cell_type": "markdown",
   "metadata": {},
   "source": [
    "Поищем аномалии покупок."
   ]
  },
  {
   "cell_type": "code",
   "execution_count": 14,
   "metadata": {},
   "outputs": [
    {
     "data": {
      "text/plain": [
       "<seaborn.axisgrid.FacetGrid at 0x7f3ed8536588>"
      ]
     },
     "execution_count": 14,
     "metadata": {},
     "output_type": "execute_result"
    },
    {
     "data": {
      "image/png": "[encoded data removed]",
      "text/plain": [
       "<Figure size 1440x720 with 1 Axes>"
      ]
     },
     "metadata": {},
     "output_type": "display_data"
    }
   ],
   "source": [
    "g = sns.FacetGrid(active_purch, height=10, aspect=2, hue='grp')\n",
    "g.map(sns.histplot, \"rev\")"
   ]
  },
  {
   "cell_type": "markdown",
   "metadata": {},
   "source": [
    "Есть явный выброс в целевой группе (B), распределения не нормальны визуально, репрезентативность визуально одинаковая, кроме выброса около 1900."
   ]
  },
  {
   "cell_type": "code",
   "execution_count": 15,
   "metadata": {},
   "outputs": [
    {
     "data": {
      "text/plain": [
       "1900.0000    92\n",
       "290.0000     45\n",
       "1900.0001    35\n",
       "199.0000     27\n",
       "840.0000     21\n",
       "Name: rev, dtype: int64"
      ]
     },
     "execution_count": 15,
     "metadata": {},
     "output_type": "execute_result"
    }
   ],
   "source": [
    "active_purch_b.rev.value_counts().head(5)"
   ]
  },
  {
   "cell_type": "markdown",
   "metadata": {},
   "source": [
    "Исклюим из датасета 1900 и 1900.0001, что бы проанализировать датасет без выброса.\n",
    "\n",
    "Проверим его наравне с обычным датасетом в последующем."
   ]
  },
  {
   "cell_type": "code",
   "execution_count": 16,
   "metadata": {},
   "outputs": [],
   "source": [
    "active_1900 = active[active['rev'] != 1900.0001]\n",
    "active_1900 = active[active['rev'] != 1900]"
   ]
  },
  {
   "cell_type": "markdown",
   "metadata": {},
   "source": [
    "Сделаем проверку обоих датесетов через Шапиро - проверяем что выборка изъята из генеральной совокупности, где распределение нормальное.\n",
    "\n",
    "Сначала для полного датасета."
   ]
  },
  {
   "cell_type": "code",
   "execution_count": 17,
   "metadata": {},
   "outputs": [
    {
     "name": "stdout",
     "output_type": "stream",
     "text": [
      "Для контрольной группы P = 0.001170420553535223\n",
      "Для целевой группы P = 4.214313342743026e-09\n"
     ]
    }
   ],
   "source": [
    "a = stats.shapiro(active_purch_a.student_id)\n",
    "b = stats.shapiro(active_purch_b.student_id)\n",
    "\n",
    "print('Для контрольной группы P =', a[1])\n",
    "print('Для целевой группы P =', b[1])"
   ]
  },
  {
   "cell_type": "markdown",
   "metadata": {},
   "source": [
    "P_value меньше 5% для обеих групп, значит распределния не нормальны."
   ]
  },
  {
   "cell_type": "markdown",
   "metadata": {},
   "source": [
    "Для датасета без 1900."
   ]
  },
  {
   "cell_type": "code",
   "execution_count": 18,
   "metadata": {},
   "outputs": [
    {
     "name": "stdout",
     "output_type": "stream",
     "text": [
      "Для контрольной группы P = 0.001170420553535223\n",
      "Для целевой группы P = 6.756736752322468e-07\n"
     ]
    }
   ],
   "source": [
    "active_purch_a_1900 = active_1900.query('grp == \"A\" & rev > 0')\n",
    "active_purch_b_1900 = active_1900.query('grp == \"B\" & rev > 0')\n",
    "active_purch_1900 = active_1900.query('rev > 0')\n",
    "a = stats.shapiro(active_purch_a_1900.student_id)\n",
    "b = stats.shapiro(active_purch_b_1900.student_id)\n",
    "\n",
    "print('Для контрольной группы P =', a[1])\n",
    "print('Для целевой группы P =', b[1])"
   ]
  },
  {
   "cell_type": "markdown",
   "metadata": {},
   "source": [
    "P_value также меньше 5% для обеиз группы, значит распределния не нормальны."
   ]
  },
  {
   "cell_type": "markdown",
   "metadata": {},
   "source": [
    "Наше распределенние не нормально, а так же выборки разные по размеру - значит нам не подойдет Т-тест.\n",
    "\n",
    "Манн-Уитни также не подойдет - он переводит все значения в ранговую шкалу и из-зза одинаковых значений ранг будут не уникальны.\n",
    "\n",
    "Значит остается бутстрап, который может проводить проверку для любого распределения и для любого количества значений."
   ]
  },
  {
   "cell_type": "markdown",
   "metadata": {},
   "source": [
    "# Рассчет метрик\n",
    "CR - конверсия в покупку.\n",
    "\n",
    "ARPU - доход на одного пользователя (он же средний чек, тк на одного пользователя одна покупка).\n",
    "\n",
    "ARPPU - доход на одного платящего."
   ]
  },
  {
   "cell_type": "code",
   "execution_count": 19,
   "metadata": {
    "scrolled": true
   },
   "outputs": [
    {
     "data": {
      "text/html": [
       "<div>\n",
       "<style scoped>\n",
       "    .dataframe tbody tr th:only-of-type {\n",
       "        vertical-align: middle;\n",
       "    }\n",
       "\n",
       "    .dataframe tbody tr th {\n",
       "        vertical-align: top;\n",
       "    }\n",
       "\n",
       "    .dataframe thead th {\n",
       "        text-align: right;\n",
       "    }\n",
       "</style>\n",
       "<table border=\"1\" class=\"dataframe\">\n",
       "  <thead>\n",
       "    <tr style=\"text-align: right;\">\n",
       "      <th></th>\n",
       "      <th>grp</th>\n",
       "      <th>num</th>\n",
       "      <th>purch</th>\n",
       "      <th>rev</th>\n",
       "      <th>cr</th>\n",
       "      <th>arpu</th>\n",
       "      <th>arppu</th>\n",
       "    </tr>\n",
       "  </thead>\n",
       "  <tbody>\n",
       "    <tr>\n",
       "      <th>0</th>\n",
       "      <td>A</td>\n",
       "      <td>1535</td>\n",
       "      <td>78</td>\n",
       "      <td>72820.0000</td>\n",
       "      <td>5.08</td>\n",
       "      <td>47.44</td>\n",
       "      <td>933.59</td>\n",
       "    </tr>\n",
       "    <tr>\n",
       "      <th>1</th>\n",
       "      <td>B</td>\n",
       "      <td>6793</td>\n",
       "      <td>313</td>\n",
       "      <td>393074.0035</td>\n",
       "      <td>4.61</td>\n",
       "      <td>57.86</td>\n",
       "      <td>1255.83</td>\n",
       "    </tr>\n",
       "  </tbody>\n",
       "</table>\n",
       "</div>"
      ],
      "text/plain": [
       "  grp   num  purch          rev    cr   arpu    arppu\n",
       "0   A  1535     78   72820.0000  5.08  47.44   933.59\n",
       "1   B  6793    313  393074.0035  4.61  57.86  1255.83"
      ]
     },
     "execution_count": 19,
     "metadata": {},
     "output_type": "execute_result"
    }
   ],
   "source": [
    "metrics = active.groupby('grp', as_index=False).agg({'student_id': 'count', 'purch': 'sum', 'rev': 'sum'}) \\\n",
    "                .rename(columns={'student_id': 'num'})\n",
    "metrics['cr'] = round(metrics['purch'] / metrics['num'] * 100, 2)\n",
    "metrics['arpu'] = round(metrics['rev'] / metrics['num'], 2)\n",
    "metrics['arppu'] = round(metrics['rev'] / metrics['purch'], 2)\n",
    "metrics"
   ]
  },
  {
   "cell_type": "markdown",
   "metadata": {},
   "source": [
    "1 - CR упал\n",
    "\n",
    "2 - Зато выросла выручка, ARPU и ARRPU"
   ]
  },
  {
   "cell_type": "markdown",
   "metadata": {},
   "source": [
    "Посчитаем метрике для датасета с покупками не больше 1900 р."
   ]
  },
  {
   "cell_type": "code",
   "execution_count": 20,
   "metadata": {
    "scrolled": true
   },
   "outputs": [
    {
     "data": {
      "text/html": [
       "<div>\n",
       "<style scoped>\n",
       "    .dataframe tbody tr th:only-of-type {\n",
       "        vertical-align: middle;\n",
       "    }\n",
       "\n",
       "    .dataframe tbody tr th {\n",
       "        vertical-align: top;\n",
       "    }\n",
       "\n",
       "    .dataframe thead th {\n",
       "        text-align: right;\n",
       "    }\n",
       "</style>\n",
       "<table border=\"1\" class=\"dataframe\">\n",
       "  <thead>\n",
       "    <tr style=\"text-align: right;\">\n",
       "      <th></th>\n",
       "      <th>grp</th>\n",
       "      <th>num</th>\n",
       "      <th>purch</th>\n",
       "      <th>rev</th>\n",
       "      <th>cr</th>\n",
       "      <th>arpu</th>\n",
       "      <th>arppu</th>\n",
       "    </tr>\n",
       "  </thead>\n",
       "  <tbody>\n",
       "    <tr>\n",
       "      <th>0</th>\n",
       "      <td>A</td>\n",
       "      <td>1535</td>\n",
       "      <td>78</td>\n",
       "      <td>72820.0000</td>\n",
       "      <td>5.08</td>\n",
       "      <td>47.44</td>\n",
       "      <td>933.59</td>\n",
       "    </tr>\n",
       "    <tr>\n",
       "      <th>1</th>\n",
       "      <td>B</td>\n",
       "      <td>6701</td>\n",
       "      <td>221</td>\n",
       "      <td>218274.0035</td>\n",
       "      <td>3.30</td>\n",
       "      <td>32.57</td>\n",
       "      <td>987.67</td>\n",
       "    </tr>\n",
       "  </tbody>\n",
       "</table>\n",
       "</div>"
      ],
      "text/plain": [
       "  grp   num  purch          rev    cr   arpu   arppu\n",
       "0   A  1535     78   72820.0000  5.08  47.44  933.59\n",
       "1   B  6701    221  218274.0035  3.30  32.57  987.67"
      ]
     },
     "execution_count": 20,
     "metadata": {},
     "output_type": "execute_result"
    }
   ],
   "source": [
    "metrics_1900 = active_1900.groupby('grp', as_index=False).agg({'student_id': 'count', 'purch': 'sum', 'rev': 'sum'}) \\\n",
    "                          .rename(columns={'student_id': 'num'})\n",
    "metrics_1900['cr'] = round(metrics_1900['purch'] / metrics_1900['num'] * 100, 2)\n",
    "metrics_1900['arpu'] = round(metrics_1900['rev'] / metrics_1900['num'], 2)\n",
    "metrics_1900['arppu'] = round(metrics_1900['rev'] / metrics_1900['purch'], 2)\n",
    "metrics_1900"
   ]
  },
  {
   "cell_type": "markdown",
   "metadata": {},
   "source": [
    "Для датасета с чекам меньше 1900 различия в группах уже другие:\n",
    "\n",
    "1 - CR сильно отличается.\n",
    "\n",
    "2 - ARPU также значительно просел.\n",
    "\n",
    "3 - А вот ARPPU уже с меньшим разницей."
   ]
  },
  {
   "cell_type": "markdown",
   "metadata": {},
   "source": [
    "Также заметим, что размеры групп сильно отличаются друг от друга, в обоих вариантах\n",
    "\n",
    "Но это не означает, что сплитование сделано плохо, так как репрезентативность значений в выборке одинакова."
   ]
  },
  {
   "cell_type": "markdown",
   "metadata": {},
   "source": [
    "# Стат тесты\n",
    "\n",
    "### Для CR воспольуземся Хи-квадрат, так как покупка это категориальная переменная (купил / некупил).\n",
    "\n",
    "#### Сначала для общего датасета."
   ]
  },
  {
   "cell_type": "code",
   "execution_count": 22,
   "metadata": {},
   "outputs": [
    {
     "data": {
      "text/html": [
       "<div>\n",
       "<style scoped>\n",
       "    .dataframe tbody tr th:only-of-type {\n",
       "        vertical-align: middle;\n",
       "    }\n",
       "\n",
       "    .dataframe tbody tr th {\n",
       "        vertical-align: top;\n",
       "    }\n",
       "\n",
       "    .dataframe thead th {\n",
       "        text-align: right;\n",
       "    }\n",
       "</style>\n",
       "<table border=\"1\" class=\"dataframe\">\n",
       "  <thead>\n",
       "    <tr style=\"text-align: right;\">\n",
       "      <th>purch</th>\n",
       "      <th>0</th>\n",
       "      <th>1</th>\n",
       "    </tr>\n",
       "    <tr>\n",
       "      <th>grp</th>\n",
       "      <th></th>\n",
       "      <th></th>\n",
       "    </tr>\n",
       "  </thead>\n",
       "  <tbody>\n",
       "    <tr>\n",
       "      <th>A</th>\n",
       "      <td>1457</td>\n",
       "      <td>78</td>\n",
       "    </tr>\n",
       "    <tr>\n",
       "      <th>B</th>\n",
       "      <td>6480</td>\n",
       "      <td>313</td>\n",
       "    </tr>\n",
       "  </tbody>\n",
       "</table>\n",
       "</div>"
      ],
      "text/plain": [
       "purch     0    1\n",
       "grp             \n",
       "A      1457   78\n",
       "B      6480  313"
      ]
     },
     "execution_count": 22,
     "metadata": {},
     "output_type": "execute_result"
    }
   ],
   "source": [
    "cros = pd.crosstab(active['grp'], active['purch'])\n",
    "cros"
   ]
  },
  {
   "cell_type": "code",
   "execution_count": 23,
   "metadata": {},
   "outputs": [
    {
     "data": {
      "text/plain": [
       "0.43"
      ]
     },
     "execution_count": 23,
     "metadata": {},
     "output_type": "execute_result"
    }
   ],
   "source": [
    "chi2, p, dof, ex = stats.chi2_contingency(cros,correction=False)\n",
    "\n",
    "round(p, 2)"
   ]
  },
  {
   "cell_type": "markdown",
   "metadata": {},
   "source": [
    "P_value больше 5%, значит принять альтернативную гипотезу не можем - стат. значимых отличий нет"
   ]
  },
  {
   "cell_type": "markdown",
   "metadata": {},
   "source": [
    "#### Теперь посчитаем для датасета без чеков на 1900."
   ]
  },
  {
   "cell_type": "code",
   "execution_count": 24,
   "metadata": {},
   "outputs": [
    {
     "data": {
      "text/html": [
       "<div>\n",
       "<style scoped>\n",
       "    .dataframe tbody tr th:only-of-type {\n",
       "        vertical-align: middle;\n",
       "    }\n",
       "\n",
       "    .dataframe tbody tr th {\n",
       "        vertical-align: top;\n",
       "    }\n",
       "\n",
       "    .dataframe thead th {\n",
       "        text-align: right;\n",
       "    }\n",
       "</style>\n",
       "<table border=\"1\" class=\"dataframe\">\n",
       "  <thead>\n",
       "    <tr style=\"text-align: right;\">\n",
       "      <th>purch</th>\n",
       "      <th>0</th>\n",
       "      <th>1</th>\n",
       "    </tr>\n",
       "    <tr>\n",
       "      <th>grp</th>\n",
       "      <th></th>\n",
       "      <th></th>\n",
       "    </tr>\n",
       "  </thead>\n",
       "  <tbody>\n",
       "    <tr>\n",
       "      <th>A</th>\n",
       "      <td>1457</td>\n",
       "      <td>78</td>\n",
       "    </tr>\n",
       "    <tr>\n",
       "      <th>B</th>\n",
       "      <td>6480</td>\n",
       "      <td>221</td>\n",
       "    </tr>\n",
       "  </tbody>\n",
       "</table>\n",
       "</div>"
      ],
      "text/plain": [
       "purch     0    1\n",
       "grp             \n",
       "A      1457   78\n",
       "B      6480  221"
      ]
     },
     "execution_count": 24,
     "metadata": {},
     "output_type": "execute_result"
    }
   ],
   "source": [
    "cros_1900 = pd.crosstab(active_1900['grp'], active_1900['purch'])\n",
    "cros_1900"
   ]
  },
  {
   "cell_type": "markdown",
   "metadata": {},
   "source": [
    "#### Хи квадрат"
   ]
  },
  {
   "cell_type": "code",
   "execution_count": 25,
   "metadata": {},
   "outputs": [
    {
     "data": {
      "text/plain": [
       "0.0007529182537820297"
      ]
     },
     "execution_count": 25,
     "metadata": {},
     "output_type": "execute_result"
    }
   ],
   "source": [
    "chi2, p, dof, ex = stats.chi2_contingency(cros_1900,correction=False)\n",
    "p"
   ]
  },
  {
   "cell_type": "markdown",
   "metadata": {},
   "source": [
    "P_value меньше 5%, значит можем альтернативную гипотезу - стат. значимые отличия есть."
   ]
  },
  {
   "cell_type": "markdown",
   "metadata": {},
   "source": [
    "### Теперь сделаем бутстрап для вычисления значимости среднего дохода.\n",
    "\n",
    "Для начала зададим саму функцию."
   ]
  },
  {
   "cell_type": "code",
   "execution_count": 26,
   "metadata": {},
   "outputs": [],
   "source": [
    "def get_bootstrap(\n",
    "    data_column_1, # числовые значения первой выборки\n",
    "    data_column_2, # числовые значения второй выборки\n",
    "    boot_it = 1000, # количество бутстрэп-подвыборок\n",
    "    statistic = np.mean, # интересующая нас статистика\n",
    "    bootstrap_conf_level = 0.95 # уровень значимости\n",
    "):\n",
    "    boot_len = max([len(data_column_1), len(data_column_2)])\n",
    "    boot_data = []\n",
    "    for i in tqdm(range(boot_it)): # извлекаем подвыборки\n",
    "        samples_1 = data_column_1.sample(\n",
    "            boot_len, \n",
    "            replace = True # параметр возвращения\n",
    "        ).values\n",
    "        \n",
    "        samples_2 = data_column_2.sample(\n",
    "            boot_len, \n",
    "            replace = True\n",
    "        ).values\n",
    "        \n",
    "        boot_data.append(statistic(samples_1-samples_2)) # mean() - применяем статистику\n",
    "        \n",
    "    pd_boot_data = pd.DataFrame(boot_data)\n",
    "        \n",
    "    left_quant = (1 - bootstrap_conf_level)/2\n",
    "    right_quant = 1 - (1 - bootstrap_conf_level) / 2\n",
    "    ci = pd_boot_data.quantile([left_quant, right_quant])\n",
    "        \n",
    "    p_1 = norm.cdf(\n",
    "        x = 0, \n",
    "        loc = np.mean(boot_data), \n",
    "        scale = np.std(boot_data)\n",
    "    )\n",
    "    p_2 = norm.cdf(\n",
    "        x = 0, \n",
    "        loc = -np.mean(boot_data), \n",
    "        scale = np.std(boot_data)\n",
    "    )\n",
    "    p_value = min(p_1, p_2) * 2\n",
    "        \n",
    "    # Визуализация\n",
    "    plt.hist(pd_boot_data[0], bins = 50)\n",
    "    \n",
    "    plt.style.use('ggplot')\n",
    "    plt.vlines(ci,ymin=0,ymax=50,linestyle='--')\n",
    "    plt.xlabel('boot_data')\n",
    "    plt.ylabel('frequency')\n",
    "    plt.title(\"Histogram of boot_data\")\n",
    "    plt.show()\n",
    "       \n",
    "    return {\"boot_data\": boot_data, \n",
    "            \"ci\": ci, \n",
    "            \"p_value\": p_value}"
   ]
  },
  {
   "cell_type": "markdown",
   "metadata": {},
   "source": [
    "#### Зададим датафреймы для каждой группы в общем датасете"
   ]
  },
  {
   "cell_type": "code",
   "execution_count": 27,
   "metadata": {},
   "outputs": [],
   "source": [
    "active_a = active[active['grp'] == 'A']\n",
    "active_b = active[active['grp'] == 'B']"
   ]
  },
  {
   "cell_type": "markdown",
   "metadata": {},
   "source": [
    "Считаем для среднего дохода"
   ]
  },
  {
   "cell_type": "code",
   "execution_count": 28,
   "metadata": {
    "scrolled": false
   },
   "outputs": [
    {
     "data": {
      "application/vnd.jupyter.widget-view+json": {
       "model_id": "f9fef54335e04e668f96ce51b1931bd2",
       "version_major": 2,
       "version_minor": 0
      },
      "text/plain": [
       "HBox(children=(FloatProgress(value=0.0, max=1000.0), HTML(value='')))"
      ]
     },
     "metadata": {},
     "output_type": "display_data"
    },
    {
     "name": "stdout",
     "output_type": "stream",
     "text": [
      "\n"
     ]
    },
    {
     "data": {
      "image/png": "[encoded data removed]",
      "text/plain": [
       "<Figure size 1440x720 with 1 Axes>"
      ]
     },
     "metadata": {},
     "output_type": "display_data"
    }
   ],
   "source": [
    "booted_data = get_bootstrap(active_a.rev, active_b.rev, statistic = np.mean)"
   ]
  },
  {
   "cell_type": "code",
   "execution_count": 29,
   "metadata": {},
   "outputs": [
    {
     "name": "stdout",
     "output_type": "stream",
     "text": [
      "p_value =  0.043816948694976925\n",
      "\n",
      "\n",
      "ci =                 0\n",
      "0.025 -20.513441\n",
      "0.975  -0.025538\n"
     ]
    }
   ],
   "source": [
    "print('p_value = ', booted_data[\"p_value\"])\n",
    "print('\\n')\n",
    "print('ci = ', booted_data[\"ci\"])"
   ]
  },
  {
   "cell_type": "markdown",
   "metadata": {},
   "source": [
    "P_value меньше 5%, значит можем отклонить Нулевую гипотезу о равенстве средних чеков."
   ]
  },
  {
   "cell_type": "markdown",
   "metadata": {},
   "source": [
    "#### Теперь сделаем бутстрап для датасета без чеков на 1900.\n",
    "\n",
    "Зададим датафреймы для каждой группы."
   ]
  },
  {
   "cell_type": "code",
   "execution_count": 30,
   "metadata": {},
   "outputs": [],
   "source": [
    "active_1900_a = active_1900[active_1900['grp'] == 'A']\n",
    "active_1900_b = active_1900[active_1900['grp'] == 'B']"
   ]
  },
  {
   "cell_type": "markdown",
   "metadata": {},
   "source": [
    "Бутстрап для среднего дохода"
   ]
  },
  {
   "cell_type": "code",
   "execution_count": 46,
   "metadata": {
    "scrolled": false
   },
   "outputs": [
    {
     "data": {
      "application/vnd.jupyter.widget-view+json": {
       "model_id": "7e0f8d92fd5840ed83a80c5395886099",
       "version_major": 2,
       "version_minor": 0
      },
      "text/plain": [
       "HBox(children=(FloatProgress(value=0.0, max=1000.0), HTML(value='')))"
      ]
     },
     "metadata": {},
     "output_type": "display_data"
    },
    {
     "name": "stdout",
     "output_type": "stream",
     "text": [
      "\n"
     ]
    },
    {
     "data": {
      "image/png": "[encoded data removed]",
      "text/plain": [
       "<Figure size 1440x720 with 1 Axes>"
      ]
     },
     "metadata": {},
     "output_type": "display_data"
    }
   ],
   "source": [
    "booted_data = get_bootstrap(active_1900_a.rev, active_1900_b.rev, statistic = np.mean)"
   ]
  },
  {
   "cell_type": "code",
   "execution_count": 47,
   "metadata": {},
   "outputs": [
    {
     "name": "stdout",
     "output_type": "stream",
     "text": [
      "p_value =  0.000645477412126724\n",
      "\n",
      "\n",
      "ci =                 0\n",
      "0.025   6.636091\n",
      "0.975  23.634263\n"
     ]
    }
   ],
   "source": [
    "print('p_value = ', booted_data[\"p_value\"])\n",
    "print('\\n')\n",
    "print('ci = ', booted_data[\"ci\"])"
   ]
  },
  {
   "cell_type": "markdown",
   "metadata": {},
   "source": [
    "P_value меньше 5%, значит можем отклонить Нулевую гипотезу о равенстве средних чеков."
   ]
  },
  {
   "cell_type": "code",
   "execution_count": 33,
   "metadata": {},
   "outputs": [
    {
     "data": {
      "text/html": [
       "<div>\n",
       "<style scoped>\n",
       "    .dataframe tbody tr th:only-of-type {\n",
       "        vertical-align: middle;\n",
       "    }\n",
       "\n",
       "    .dataframe tbody tr th {\n",
       "        vertical-align: top;\n",
       "    }\n",
       "\n",
       "    .dataframe thead th {\n",
       "        text-align: right;\n",
       "    }\n",
       "</style>\n",
       "<table border=\"1\" class=\"dataframe\">\n",
       "  <thead>\n",
       "    <tr style=\"text-align: right;\">\n",
       "      <th></th>\n",
       "      <th>grp</th>\n",
       "      <th>num</th>\n",
       "      <th>purch</th>\n",
       "      <th>rev</th>\n",
       "      <th>cr</th>\n",
       "      <th>arpu</th>\n",
       "      <th>arppu</th>\n",
       "    </tr>\n",
       "  </thead>\n",
       "  <tbody>\n",
       "    <tr>\n",
       "      <th>0</th>\n",
       "      <td>A</td>\n",
       "      <td>1535</td>\n",
       "      <td>78</td>\n",
       "      <td>72820.0000</td>\n",
       "      <td>5.08</td>\n",
       "      <td>47.44</td>\n",
       "      <td>933.59</td>\n",
       "    </tr>\n",
       "    <tr>\n",
       "      <th>1</th>\n",
       "      <td>B</td>\n",
       "      <td>6793</td>\n",
       "      <td>313</td>\n",
       "      <td>393074.0035</td>\n",
       "      <td>4.61</td>\n",
       "      <td>57.86</td>\n",
       "      <td>1255.83</td>\n",
       "    </tr>\n",
       "  </tbody>\n",
       "</table>\n",
       "</div>"
      ],
      "text/plain": [
       "  grp   num  purch          rev    cr   arpu    arppu\n",
       "0   A  1535     78   72820.0000  5.08  47.44   933.59\n",
       "1   B  6793    313  393074.0035  4.61  57.86  1255.83"
      ]
     },
     "execution_count": 33,
     "metadata": {},
     "output_type": "execute_result"
    }
   ],
   "source": [
    "metrics"
   ]
  },
  {
   "cell_type": "code",
   "execution_count": 34,
   "metadata": {},
   "outputs": [
    {
     "data": {
      "text/html": [
       "<div>\n",
       "<style scoped>\n",
       "    .dataframe tbody tr th:only-of-type {\n",
       "        vertical-align: middle;\n",
       "    }\n",
       "\n",
       "    .dataframe tbody tr th {\n",
       "        vertical-align: top;\n",
       "    }\n",
       "\n",
       "    .dataframe thead th {\n",
       "        text-align: right;\n",
       "    }\n",
       "</style>\n",
       "<table border=\"1\" class=\"dataframe\">\n",
       "  <thead>\n",
       "    <tr style=\"text-align: right;\">\n",
       "      <th></th>\n",
       "      <th>grp</th>\n",
       "      <th>num</th>\n",
       "      <th>purch</th>\n",
       "      <th>rev</th>\n",
       "      <th>cr</th>\n",
       "      <th>arpu</th>\n",
       "      <th>arppu</th>\n",
       "    </tr>\n",
       "  </thead>\n",
       "  <tbody>\n",
       "    <tr>\n",
       "      <th>0</th>\n",
       "      <td>A</td>\n",
       "      <td>1535</td>\n",
       "      <td>78</td>\n",
       "      <td>72820.0000</td>\n",
       "      <td>5.08</td>\n",
       "      <td>47.44</td>\n",
       "      <td>933.59</td>\n",
       "    </tr>\n",
       "    <tr>\n",
       "      <th>1</th>\n",
       "      <td>B</td>\n",
       "      <td>6701</td>\n",
       "      <td>221</td>\n",
       "      <td>218274.0035</td>\n",
       "      <td>3.30</td>\n",
       "      <td>32.57</td>\n",
       "      <td>987.67</td>\n",
       "    </tr>\n",
       "  </tbody>\n",
       "</table>\n",
       "</div>"
      ],
      "text/plain": [
       "  grp   num  purch          rev    cr   arpu   arppu\n",
       "0   A  1535     78   72820.0000  5.08  47.44  933.59\n",
       "1   B  6701    221  218274.0035  3.30  32.57  987.67"
      ]
     },
     "execution_count": 34,
     "metadata": {},
     "output_type": "execute_result"
    }
   ],
   "source": [
    "metrics_1900"
   ]
  },
  {
   "cell_type": "markdown",
   "metadata": {},
   "source": [
    "Так же сохраним файл метрик с полными данными в файл для дальнейшего использования"
   ]
  },
  {
   "cell_type": "code",
   "execution_count": 35,
   "metadata": {},
   "outputs": [],
   "source": [
    "metrics.to_csv('metrics.csv', index = False)"
   ]
  },
  {
   "cell_type": "markdown",
   "metadata": {},
   "source": [
    "# Выводы\n",
    "\n",
    "Мы проанализировали датасет и нашли в нем выбросы на 1900 и 1900.0001.\n",
    "\n",
    "Такие значения могут говорить о двух вещах:\n",
    "- Либо это \"фича\", в виде, к примеру, всплывающей плашки со скидкой\n",
    "- Либо это запущенная акция другим продактом, без согласования с лидами эксперимента\n",
    "\n",
    "Что бы проверить оба варианта мы сделали два датасета (полный и без выбросов) и проанализировали оба.\n",
    "- Для полного варианта результаты АБ-теста говорят о том, что изменения позволяют достичь больших значений по выручке. Также это подтверждает бутстрап, который говорит что средние чеки статистически не равны между собой, а значит мы можем раскатывать обновление на всех пользователей.\n",
    "- Для обрезанного датасета ситуация иная - чеки около 1900 забрали треть покупок и CR меньше еще сильнее по сравнению с контрольной группой. Также средний чек стал очень мал, и при выкате эксперимента на прод мы увидим сильное падение в выручке.\n",
    "\n",
    "Поэтому, перед подведением итогов необходимо проконсультироваться с продактами, в чем именно были изменения.\n",
    "\n",
    "Если сделать выводу с имеющимися данными, то можно сказать что эксперимент плохо повлиял на конверсию в покупку. Рост среднего чека может быть обсуловлен акцией, о которой мы не знаем и тут сложно судить.\n",
    "\n",
    "Так как изначальные условия были про изменение механики оплаты, то мы должны были увидеть изменения в CR - они есть и в худшую сторону. \n",
    "\n",
    "### Поэтому выкатывать на всех пользователей новые изменения не стоит."
   ]
  },
  {
   "cell_type": "markdown",
   "metadata": {},
   "source": [
    "# Задание 2"
   ]
  },
  {
   "cell_type": "markdown",
   "metadata": {},
   "source": [
    "## 2.1\n",
    "Необходимо написать оптимальный запрос, который даст информацию о количестве очень усердных студентов."
   ]
  },
  {
   "cell_type": "code",
   "execution_count": 36,
   "metadata": {},
   "outputs": [],
   "source": [
    "# создаем подключение для SQL\n",
    "connection_default = {'host': 'http://clickhouse.beslan.pro:8080',\n",
    "                      'database':'default',\n",
    "                      'user':'student', \n",
    "                      'password':'dpo_python_2020'\n",
    "                     }"
   ]
  },
  {
   "cell_type": "code",
   "execution_count": 37,
   "metadata": {},
   "outputs": [
    {
     "data": {
      "text/html": [
       "<div>\n",
       "<style scoped>\n",
       "    .dataframe tbody tr th:only-of-type {\n",
       "        vertical-align: middle;\n",
       "    }\n",
       "\n",
       "    .dataframe tbody tr th {\n",
       "        vertical-align: top;\n",
       "    }\n",
       "\n",
       "    .dataframe thead th {\n",
       "        text-align: right;\n",
       "    }\n",
       "</style>\n",
       "<table border=\"1\" class=\"dataframe\">\n",
       "  <thead>\n",
       "    <tr style=\"text-align: right;\">\n",
       "      <th></th>\n",
       "      <th>toStartOfMonth(timest)</th>\n",
       "    </tr>\n",
       "  </thead>\n",
       "  <tbody>\n",
       "    <tr>\n",
       "      <th>0</th>\n",
       "      <td>2021-10-01</td>\n",
       "    </tr>\n",
       "  </tbody>\n",
       "</table>\n",
       "</div>"
      ],
      "text/plain": [
       "  toStartOfMonth(timest)\n",
       "0             2021-10-01"
      ]
     },
     "execution_count": 37,
     "metadata": {},
     "output_type": "execute_result"
    }
   ],
   "source": [
    "# проверяем какие месяцы есть в базе\n",
    "query = \"\"\"\n",
    "SELECT DISTINCT toStartOfMonth(timest)\n",
    "FROM default.peas\n",
    "\"\"\"\n",
    "df = ph.read_clickhouse(query, connection=connection_default)\n",
    "df"
   ]
  },
  {
   "cell_type": "markdown",
   "metadata": {},
   "source": [
    "Так как все результаты лежат за один месяц, то запрос не будет учитывать дату."
   ]
  },
  {
   "cell_type": "code",
   "execution_count": 38,
   "metadata": {},
   "outputs": [
    {
     "name": "stdout",
     "output_type": "stream",
     "text": [
      "Количество очень усердных студентов = 136\n"
     ]
    }
   ],
   "source": [
    "query = \"\"\"\n",
    "SELECT count(st_id) AS num\n",
    "FROM (\n",
    "    SELECT st_id, SUM(correct) AS count_peas\n",
    "    FROM default.peas\n",
    "    GROUP BY st_id\n",
    "    HAVING count_peas >= 20\n",
    "    )\n",
    "\"\"\"\n",
    "df = ph.read_clickhouse(query, connection=connection_default)\n",
    "print('Количество очень усердных студентов =', df['num'][0])"
   ]
  },
  {
   "cell_type": "markdown",
   "metadata": {},
   "source": [
    "## 2.2\n",
    "Необходимо в одном запросе выгрузить следующую информацию о группах пользователей:\n",
    "\n",
    "- ARPU \n",
    "- ARPAU \n",
    "- CR в покупку \n",
    "- СR активного пользователя в покупку \n",
    "- CR пользователя из активности по математике (subject = ’math’) в покупку курса по математике"
   ]
  },
  {
   "cell_type": "code",
   "execution_count": 39,
   "metadata": {
    "scrolled": false
   },
   "outputs": [
    {
     "data": {
      "text/html": [
       "<div>\n",
       "<style scoped>\n",
       "    .dataframe tbody tr th:only-of-type {\n",
       "        vertical-align: middle;\n",
       "    }\n",
       "\n",
       "    .dataframe tbody tr th {\n",
       "        vertical-align: top;\n",
       "    }\n",
       "\n",
       "    .dataframe thead th {\n",
       "        text-align: right;\n",
       "    }\n",
       "</style>\n",
       "<table border=\"1\" class=\"dataframe\">\n",
       "  <thead>\n",
       "    <tr style=\"text-align: right;\">\n",
       "      <th></th>\n",
       "      <th>test_grp</th>\n",
       "      <th>ARPU</th>\n",
       "      <th>ARPAU</th>\n",
       "      <th>CR</th>\n",
       "      <th>CR_ACT</th>\n",
       "      <th>CR_ACT_MATH</th>\n",
       "    </tr>\n",
       "  </thead>\n",
       "  <tbody>\n",
       "    <tr>\n",
       "      <th>0</th>\n",
       "      <td>control</td>\n",
       "      <td>4540.983607</td>\n",
       "      <td>10393.700787</td>\n",
       "      <td>0.049180</td>\n",
       "      <td>0.110236</td>\n",
       "      <td>0.061224</td>\n",
       "    </tr>\n",
       "    <tr>\n",
       "      <th>1</th>\n",
       "      <td>pilot</td>\n",
       "      <td>11508.474576</td>\n",
       "      <td>29739.583333</td>\n",
       "      <td>0.108475</td>\n",
       "      <td>0.260417</td>\n",
       "      <td>0.095238</td>\n",
       "    </tr>\n",
       "  </tbody>\n",
       "</table>\n",
       "</div>"
      ],
      "text/plain": [
       "  test_grp          ARPU         ARPAU        CR    CR_ACT  CR_ACT_MATH\n",
       "0  control   4540.983607  10393.700787  0.049180  0.110236     0.061224\n",
       "1    pilot  11508.474576  29739.583333  0.108475  0.260417     0.095238"
      ]
     },
     "execution_count": 39,
     "metadata": {},
     "output_type": "execute_result"
    }
   ],
   "source": [
    "query = \"\"\"\n",
    "    SELECT \n",
    "        cs.test_grp AS test_grp, -- Группа пользователя\n",
    "        SUM(ms.all_money) / count(cs.st_id) AS ARPU,\n",
    "        sumIf(ms.all_money, act_s.all_active > 10) / countIf(cs.st_id, act_s.all_active > 10) AS ARPAU,\n",
    "        countIf(cs.st_id, ms.all_money > 0) / (count(cs.st_id)) AS CR,\n",
    "        countIf(cs.st_id, ms.all_money > 0 AND act_s.all_active > 10) / countIf(cs.st_id, act_s.all_active > 10) AS CR_ACT,\n",
    "        countIf(cs.st_id, ms.math_money > 0 AND act_s.math_active > 2) / countIf(cs.st_id, act_s.math_active > 2) AS CR_ACT_MATH\n",
    "    FROM (-- Уникальные идентификаторы студентов и группы\n",
    "        SELECT test_grp, st_id\n",
    "        FROM default.studs) AS cs\n",
    "    LEFT JOIN (-- Считаем активности\n",
    "        SELECT \n",
    "            st_id, \n",
    "            count(st_id) AS all_active,\n",
    "            countIf(st_id, subject = 'Math') as math_active\n",
    "        FROM default.peas\n",
    "        WHERE correct = 1\n",
    "        GROUP BY st_id\n",
    "        ) AS act_s ON cs.st_id = act_s.st_id\n",
    "    LEFT JOIN (-- Считаем деньги\n",
    "        SELECT\n",
    "            st_id,\n",
    "            sumIf(money, subject = 'Math') as math_money, \n",
    "            sum(money) as all_money\n",
    "        FROM default.final_project_check\n",
    "        GROUP BY st_id) AS ms ON cs.st_id = ms.st_id\n",
    "    GROUP BY cs.test_grp\n",
    "\"\"\"\n",
    "df = ph.read_clickhouse(query, connection=connection_default)\n",
    "df"
   ]
  },
  {
   "cell_type": "markdown",
   "metadata": {},
   "source": [
    "# 3"
   ]
  },
  {
   "cell_type": "markdown",
   "metadata": {},
   "source": [
    "## 3.1\n",
    "Реализуйте функцию, которая будет автоматически подгружать информацию из дополнительного файла groups_add.csv (заголовки могут отличаться) и на основании дополнительных параметров пересчитывать метрики."
   ]
  },
  {
   "cell_type": "code",
   "execution_count": 40,
   "metadata": {},
   "outputs": [],
   "source": [
    "def get_new_metrics(group_add = 'group_add.csv',\n",
    "                    groups = 'groups.csv',\n",
    "                    active_studs = 'active_studs.csv',\n",
    "                    checks = 'checks.csv'):\n",
    "    '''Функция принимает на вход файлы с резульататами АБ-теста и рассчитывает метрики с добавленным файлом.\n",
    "(groups студенты с группами,\n",
    "active_studs - какие студенты были активны во время теста,\n",
    "checks - оплаты студентов, во время тестаб\n",
    "group_add - дополнительный файл) '''\n",
    "        \n",
    "    # считываем файлы новых и старых данных и сразу переименовываем столбцы\n",
    "    groups = pd.read_csv(groups, sep=';', names=['student_id', 'grp'], header=0)\n",
    "    group_add = pd.read_csv(group_add, sep=',', names=['student_id', 'grp'], header=0)\n",
    "    \n",
    "    # также считаем данные active_studs и checks\n",
    "    active_studs = pd.read_csv(active_studs)\n",
    "    checks = pd.read_csv(checks, sep=';')\n",
    "    \n",
    "    # склеиваем данные\n",
    "    groups_new = pd.concat([groups, group_add])\n",
    "\n",
    "    # сделаем датасет только с активными пользователями и добавим оплаты\n",
    "    active_new = groups_new.merge(active_studs, on='student_id', how='inner') \\\n",
    "                          .merge(checks, on='student_id', how = 'left') \\\n",
    "                          .fillna(0)\n",
    "\n",
    "    # добавим метрику покупки\n",
    "    active_new['purch'] = active_new.rev.apply(lambda x: 1 if x > 0 else 0)\n",
    "\n",
    "    # рассчет метрик\n",
    "    metrics_new = active_new.groupby('grp', as_index=False) \\\n",
    "                            .agg({'student_id': 'count', 'purch': 'sum', 'rev': 'sum'}) \\\n",
    "                            .rename(columns={'student_id': 'num'})\n",
    "    metrics_new['cr'] = round(metrics_new['purch'] / metrics_new['num'] * 100, 2)\n",
    "    metrics_new['arpu'] = round(metrics_new['rev'] / metrics_new['num'], 2)\n",
    "    metrics_new['arppu'] = round(metrics_new['rev'] / metrics_new['purch'], 2)\n",
    "    \n",
    "    # сохраняем файл на диск\n",
    "    return metrics_new.to_csv('metrics_new.csv')"
   ]
  },
  {
   "cell_type": "code",
   "execution_count": 41,
   "metadata": {},
   "outputs": [],
   "source": [
    "get_new_metrics()"
   ]
  },
  {
   "cell_type": "markdown",
   "metadata": {},
   "source": [
    "# 3.2\n",
    "Реализуйте функцию, которая будет строить графики по получаемым метрикам."
   ]
  },
  {
   "cell_type": "code",
   "execution_count": 42,
   "metadata": {},
   "outputs": [],
   "source": [
    "def get_chart(metrics_new = 'metrics_new.csv',\n",
    "              metrics_prev = 'metrics.csv'):\n",
    "    '''Функция принимает на вход два файла с метриками:\n",
    "с оригинальным файлом и с учетом дополнительного и рисует график с изменением метрик.\n",
    "Также можно нарисовать для более двух файлов, если к примеру будет прислан еще один файл.\n",
    "В таком случае понадобится файл с последними изменениями.'''\n",
    "    \n",
    "    # file_new - файл с новыми пользователями, по умолчанию как в задании\n",
    "    # metrics_prev - файл с метриками, по умолчанию из предыдущих вычислений\n",
    "    \n",
    "    # получаем файл с новыми метриками с диска\n",
    "    metrics_new = pd.read_csv(metrics_new)\n",
    "    \n",
    "    # получаем файл со старыми метриками с диска\n",
    "    metrics_prev = pd.read_csv(metrics_prev)\n",
    "\n",
    "    # добавим колонку с номером загрузки датасета для первого датасета\n",
    "    # перед этим проверив есть ли в этой колонке что-либо, для случаев, когда уже был создана колонка\n",
    "    # если нет колонки, то добавляем ее\n",
    "    if ('part' in metrics_prev.columns) == False:\n",
    "            metrics_prev['part'] = 1\n",
    "\n",
    "    # добавим в дополнительный файл метрик колонку с номером загрузки (отталкиваемся от максимального номера загрузки)\n",
    "    metrics_new['part'] = metrics_prev['part'].max() + 1\n",
    "\n",
    "    # соединим датасеты с метриками\n",
    "    metrics_fin = pd.concat([metrics_prev, metrics_new]).reset_index(drop=True)\n",
    "    \n",
    "    # рисуем\n",
    "    fig, axes = plt.subplots(1, 3, figsize=(23,7))\n",
    "\n",
    "    sns.lineplot(data = metrics_fin, x='part', y='cr', hue='grp', ax=axes[0])\n",
    "    axes[0].set_title('CR')\n",
    "\n",
    "    sns.lineplot(data = metrics_fin, x='part', y='arpu', hue='grp', ax=axes[1])\n",
    "    axes[1].set_title('ARPU')\n",
    "    \n",
    "    sns.lineplot(data = metrics_fin, x='part', y='arppu', hue='grp', ax=axes[2])\n",
    "    axes[2].set_title('ARPPU')\n",
    "    \n",
    "    return"
   ]
  },
  {
   "cell_type": "code",
   "execution_count": null,
   "metadata": {},
   "outputs": [],
   "source": []
  },
  {
   "cell_type": "code",
   "execution_count": 43,
   "metadata": {
    "scrolled": false
   },
   "outputs": [
    {
     "name": "stdout",
     "output_type": "stream",
     "text": [
      "Функция принимает на вход два файла с метриками:\n",
      "с оригинальным файлом и с учетом дополнительного и рисует график с изменением метрик.\n",
      "Также можно нарисовать для более двух файлов, если к примеру будет прислан еще один файл.\n",
      "В таком случае понадобится файл с последними изменениями.\n"
     ]
    }
   ],
   "source": [
    "print(get_chart.__doc__)"
   ]
  }
 ],
 "metadata": {
  "kernelspec": {
   "display_name": "Python 3",
   "language": "python",
   "name": "python3"
  },
  "language_info": {
   "codemirror_mode": {
    "name": "ipython",
    "version": 3
   },
   "file_extension": ".py",
   "mimetype": "text/x-python",
   "name": "python",
   "nbconvert_exporter": "python",
   "pygments_lexer": "ipython3",
   "version": "3.7.3"
  }
 },
 "nbformat": 4,
 "nbformat_minor": 4
}
