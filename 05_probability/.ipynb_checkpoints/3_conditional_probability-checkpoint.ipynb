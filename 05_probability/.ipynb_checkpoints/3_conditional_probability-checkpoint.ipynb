{
 "cells": [
  {
   "cell_type": "code",
   "execution_count": 1,
   "metadata": {},
   "outputs": [],
   "source": [
    "from scipy import special\n",
    "from math import factorial"
   ]
  },
  {
   "cell_type": "code",
   "execution_count": 20,
   "metadata": {},
   "outputs": [],
   "source": [
    "def bernulli(p, n, k):\n",
    "    Cnk = factorial(n)/(factorial(k) * factorial(n - k))\n",
    "    q = 1 - p\n",
    "    bernulli = Cnk * (p ** k) * (q ** (n - k))\n",
    "    return bernulli"
   ]
  },
  {
   "cell_type": "code",
   "execution_count": 110,
   "metadata": {},
   "outputs": [],
   "source": [
    "n = 7\n",
    "k = 2\n",
    "p = 0.4"
   ]
  },
  {
   "cell_type": "code",
   "execution_count": 119,
   "metadata": {
    "scrolled": true
   },
   "outputs": [
    {
     "data": {
      "text/plain": [
       "0.42"
      ]
     },
     "execution_count": 119,
     "metadata": {},
     "output_type": "execute_result"
    }
   ],
   "source": [
    "s = 0\n",
    "for i in range(k+1):\n",
    "    s += bernulli(p, n, i)\n",
    "round(s,3)"
   ]
  },
  {
   "cell_type": "code",
   "execution_count": 173,
   "metadata": {},
   "outputs": [],
   "source": [
    "n = 1730\n",
    "p = 1 / 365\n",
    "q = 1 - p"
   ]
  },
  {
   "cell_type": "code",
   "execution_count": 174,
   "metadata": {},
   "outputs": [
    {
     "data": {
      "text/plain": [
       "4"
      ]
     },
     "execution_count": 174,
     "metadata": {},
     "output_type": "execute_result"
    }
   ],
   "source": [
    "for i in range(n):\n",
    "    if i <= n * p - q:\n",
    "        continue\n",
    "    elif i >= n * p + p:\n",
    "        break\n",
    "    else:\n",
    "        k = i\n",
    "k"
   ]
  },
  {
   "cell_type": "markdown",
   "metadata": {},
   "source": [
    "Из 500 компьютеров  180 принадлежат к 1 партии, 170 – ко второй партии, остальные к третьей. В первой партии 3% брака, во второй — 2%, в третьей – 6%. Случайно выбирается один компьютер. Определить вероятность того, что выбранный компьютер – бракованный.  Округлите полученный ответ до десятитысячных."
   ]
  },
  {
   "cell_type": "code",
   "execution_count": 71,
   "metadata": {},
   "outputs": [
    {
     "data": {
      "text/plain": [
       "0.0356"
      ]
     },
     "execution_count": 71,
     "metadata": {},
     "output_type": "execute_result"
    }
   ],
   "source": [
    "S = 500\n",
    "y1 = 180\n",
    "Py1 = y1 / S\n",
    "Pxy1 = 0.03\n",
    "y2 = 170\n",
    "Py2 = y2 / S\n",
    "Pxy2 = 0.02\n",
    "y3 = 500 - y1 - y2\n",
    "Py3 = y3 / S\n",
    "Pxy3 = 0.06\n",
    "\n",
    "Px = Py1*Pxy1 + Py2*Pxy2 + Py3*Pxy3\n",
    "round(Px,4)"
   ]
  },
  {
   "cell_type": "markdown",
   "metadata": {},
   "source": [
    "Есть компания с программистами. В ней на языке Java пишут в 3 раза больше человек, чем на языке C++. Программистов на языке C++ в 4 раза больше, чем на Python. Вероятность сделать работу за один день для Java-программиста — 0,85, для программиста на языке C++ 0,9, а для Python программиста 0,8. Найти вероятность того, что программист, выбранный наугад, сделает работу за один день. Ответ округлите до сотых."
   ]
  },
  {
   "cell_type": "code",
   "execution_count": 70,
   "metadata": {},
   "outputs": [
    {
     "data": {
      "text/plain": [
       "0.86"
      ]
     },
     "execution_count": 70,
     "metadata": {},
     "output_type": "execute_result"
    }
   ],
   "source": [
    "S = 17\n",
    "y1 = 12\n",
    "Py1 = y1 / S\n",
    "Pxy1 = 0.85\n",
    "y2 = 4\n",
    "Py2 = y2 / S\n",
    "Pxy2 = 0.9\n",
    "y3 = 1\n",
    "Py3 = y3 / S\n",
    "Pxy3 = 0.8\n",
    "\n",
    "Px = Py1*Pxy1 + Py2*Pxy2 + Py3*Pxy3\n",
    "round(Px,2)"
   ]
  },
  {
   "cell_type": "markdown",
   "metadata": {},
   "source": [
    "Из 40 снайперов 18 попадает в цель с вероятностью 0,9, 8 — с вероятностью 0,4 и 14 – с вероятностью 0,7. Случайно выбранный снайпер произвел выстрел, поразив цель. Мы хотим вычислить, снайпер из какой группы наиболее вероятно совершил этот выстрел. \n",
    "\n",
    "В ответ запишите наибольшую вероятность, округленную до тысячных."
   ]
  },
  {
   "cell_type": "code",
   "execution_count": 69,
   "metadata": {},
   "outputs": [
    {
     "data": {
      "text/plain": [
       "0.555"
      ]
     },
     "execution_count": 69,
     "metadata": {},
     "output_type": "execute_result"
    }
   ],
   "source": [
    "S = 40\n",
    "y1 = 18\n",
    "Py1 = y1 / S\n",
    "Pxy1 = 0.9\n",
    "y2 = 8\n",
    "Py2 = y2 / S\n",
    "Pxy2 = 0.4\n",
    "y3 = 14\n",
    "Py3 = y3 / S\n",
    "Pxy3 = 0.7\n",
    "\n",
    "Px = Py1*Pxy1 + Py2*Pxy2 + Py3*Pxy3\n",
    "\n",
    "Py1x = Py1*Pxy1 / (Px)\n",
    "round(Py1x,3)"
   ]
  },
  {
   "cell_type": "markdown",
   "metadata": {},
   "source": [
    "Есть 4 кубика. На трех из них окрашена белым половина граней, а на четвертом кубике всего одна грань из шести белая. Наудачу выбранный кубик подбрасывается семь раз. Найти вероятность того, что был выбран четвертый кубик, если при семи подбрасываниях белая грань выпала ровно один раз.  Ответ округлите до тысячных."
   ]
  },
  {
   "cell_type": "code",
   "execution_count": 68,
   "metadata": {},
   "outputs": [
    {
     "data": {
      "text/plain": [
       "0.704"
      ]
     },
     "execution_count": 68,
     "metadata": {},
     "output_type": "execute_result"
    }
   ],
   "source": [
    "S = 4\n",
    "y1 = 3\n",
    "Py1 = y1 / S\n",
    "Pxy1 = 0.5\n",
    "y2 = 1\n",
    "Py2 = y2 / S\n",
    "Pxy2 = 1 / 6\n",
    "\n",
    "n = 7\n",
    "k = 1\n",
    "p = Pxy1\n",
    "Py1 = bernulli(p, n, k)\n",
    "\n",
    "n = 7\n",
    "k = 1\n",
    "p = Pxy2\n",
    "Py2 = bernulli(p, n, k)\n",
    "\n",
    "Px = Py1*Pxy1 + Py2*Pxy2\n",
    "\n",
    "Py2x = Py2*Pxy2 / Px\n",
    "round(Py2x,3)"
   ]
  },
  {
   "cell_type": "markdown",
   "metadata": {},
   "source": [
    "На гитхабе лежит 12 скриптов, написанных аналитиком №1, 20 скриптов — написанных аналитиком №2 и 18 скриптов — написанных аналитиком №3. Вероятность того, что скрипт, написанный аналитиком №1, работает  без ошибок, равна 0,9; для скриптов, написанных аналитиками  №2 и №3, эти вероятности соответственно равны 0,6 и 0,9.\n",
    "\n",
    "Нужно найти вероятность того, что случайно взятый скрипт будет работать без ошибок. В ответ запишите число, округленное до сотых."
   ]
  },
  {
   "cell_type": "code",
   "execution_count": 39,
   "metadata": {},
   "outputs": [],
   "source": [
    "y1 = 12\n",
    "Pxy1 = 0.9\n",
    "y2 = 20\n",
    "Pxy2 = 0.6\n",
    "y3 = 18\n",
    "Pxy3 = 0.9\n",
    "S = y1 + y2 + y3\n",
    "Py1 = y1 / S\n",
    "Py2 = y2 / S\n",
    "Py3 = y3 / S\n",
    "\n",
    "Px = Py1*Pxy1 + Py2*Pxy2 + Py3*Pxy3\n",
    "round(Px, 2)"
   ]
  },
  {
   "cell_type": "markdown",
   "metadata": {},
   "source": [
    "Известно, что около 60% всех людей в городе болеют заболеванием А. Для определения того, заболел человек или нет, проводится тест, точность которого составляет 99%. Вы получили положительный тест, какова вероятность того, что вы реально больны?\n",
    "\n",
    "Округлите ответ до тысячных"
   ]
  },
  {
   "cell_type": "code",
   "execution_count": 59,
   "metadata": {},
   "outputs": [],
   "source": [
    "Py1 = 0.6\n",
    "Pxy1 = 0.99\n",
    "Py2 = 0.4\n",
    "Pxy2 = 0.01\n",
    "\n",
    "Px = Py1*Pxy1 + Py2*Pxy2\n",
    "\n",
    "Py1x = Py1*Pxy1 / Px\n",
    "\n",
    "round(Py1x,3)"
   ]
  },
  {
   "cell_type": "markdown",
   "metadata": {},
   "source": [
    "Три фабрики производят лампочки. Фабрика А производит 20% всех лампочек, 50% лампочек производится на фабрике В и оставшиеся 30% на фабрике С. 2% лампочек, произведенных на фабрике А, 1% лампочек, произведенных на фабрике В, и 3% лампочек, произведенных на фабрике С, являются бракованными.На рынке наугад выбирается лампочка и оказывается бракованной. Какова вероятность того, что эта лампочка была произведена на заводе B?\n",
    "\n",
    "Ответ округлите до тысячных"
   ]
  },
  {
   "cell_type": "code",
   "execution_count": 76,
   "metadata": {},
   "outputs": [
    {
     "data": {
      "text/plain": [
       "0.278"
      ]
     },
     "execution_count": 76,
     "metadata": {},
     "output_type": "execute_result"
    }
   ],
   "source": [
    "y1 = 20\n",
    "Pxy1 = 0.02\n",
    "y2 = 50\n",
    "Pxy2 = 0.01\n",
    "y3 = 30\n",
    "Pxy3 = 0.03\n",
    "S = y1 + y2 + y3\n",
    "Py1 = y1 / S\n",
    "Py2 = y2 / S\n",
    "Py3 = y3 / S\n",
    "\n",
    "Px = Py1*Pxy1 + Py2*Pxy2 + Py3*Pxy3\n",
    "\n",
    "Py2x = Pxy2 * Py2 / Px\n",
    "round(Py2x,3)"
   ]
  },
  {
   "cell_type": "markdown",
   "metadata": {},
   "source": [
    "Система РЛС (радиолокационная система) может обнаружить присутствие самолета в 98% случаев. Однако если в зоне действия радара нет самолета, система все равно сообщает (ложно), что самолет присутствует, в 5% случаев. В любой момент времени вероятность того, что самолет находится в зоне действия радара, составляет 7%.Какова вероятность того, что самолет находится в зоне действия радара, учитывая, что на радаре нет самолета?\n",
    "\n",
    "Ответ округлите до десятитысячных"
   ]
  },
  {
   "cell_type": "code",
   "execution_count": 93,
   "metadata": {},
   "outputs": [
    {
     "data": {
      "text/plain": [
       "0.0016"
      ]
     },
     "execution_count": 93,
     "metadata": {},
     "output_type": "execute_result"
    }
   ],
   "source": [
    "Py1 = 0.07 #вероятность что самолет есть\n",
    "Pxy1 = 0.02 #вероятность что РЛС ошибается\n",
    "Py2 = 0.93 #вероятность что самолета нет\n",
    "Pxy2 = 0.95 #вероятность что РЛС ошибается\n",
    "\n",
    "Px = Py1*Pxy1 + Py2*Pxy2\n",
    "\n",
    "Py2x = Pxy1 * Py1 / Px\n",
    "round(Py2x,4)"
   ]
  },
  {
   "cell_type": "markdown",
   "metadata": {},
   "source": [
    "Система РЛС (радиолокационная система) может обнаружить присутствие самолета в 98% случаев. Однако если в зоне действия радара нет самолета, система все равно сообщает (ложно), что самолет присутствует, в 5% случаев. В любой момент времени вероятность того, что самолет находится в зоне действия радара, составляет 7%.Какова вероятность того, что самолет находится в зоне действия радара, учитывая, что радар показывает наличие самолета?\n",
    "\n",
    "Ответ округлите до тысячных"
   ]
  },
  {
   "cell_type": "code",
   "execution_count": 97,
   "metadata": {},
   "outputs": [
    {
     "data": {
      "text/plain": [
       "0.596"
      ]
     },
     "execution_count": 97,
     "metadata": {},
     "output_type": "execute_result"
    }
   ],
   "source": [
    "Py1 = 0.07 #вероятность что самолет есть\n",
    "Pxy1 = 0.98 #вероятность что РЛС не врет\n",
    "Py2 = 0.93 #вероятность что самолета нет\n",
    "Pxy2 = 0.05 #вероятность что РЛС не врет\n",
    "\n",
    "Px = Py1*Pxy1 + Py2*Pxy2\n",
    "\n",
    "Py1x = Pxy1 * Py1 / Px\n",
    "round(Py2x,4)"
   ]
  },
  {
   "cell_type": "markdown",
   "metadata": {},
   "source": [
    "Передатчик аварийного локатора самолета (ELT) - это устройство, предназначенное для передачи сигнала в случае аварии. Компания A производит 80% всех ELT на рынке, компания B - 15%, а компания C - остальные 5%. Уровень дефектности ELT, произведенных компанией A, составляет 4%, компанией B - 6%, а компанией C - 9%. Случайно выбранный ELT был протестирован и оказался бракованным. Найдите вероятность того, что он был произведен компанией A.\n",
    "\n",
    "Округлите ответ до тысячных"
   ]
  },
  {
   "cell_type": "code",
   "execution_count": 103,
   "metadata": {},
   "outputs": [
    {
     "data": {
      "text/plain": [
       "0.703"
      ]
     },
     "execution_count": 103,
     "metadata": {},
     "output_type": "execute_result"
    }
   ],
   "source": [
    "Py1 = 0.8\n",
    "Pxy1 = 0.04\n",
    "Py2 = 0.15\n",
    "Pxy2 = 0.06\n",
    "Py3 = 0.05\n",
    "Pxy3 = 0.09\n",
    "\n",
    "Px = Py1*Pxy1 + Py2*Pxy2 + Py3*Pxy3\n",
    "\n",
    "Py1x = Pxy1 * Py1 / Px\n",
    "round(Py1x,3)"
   ]
  },
  {
   "cell_type": "code",
   "execution_count": 102,
   "metadata": {},
   "outputs": [
    {
     "data": {
      "text/plain": [
       "0.0455"
      ]
     },
     "execution_count": 102,
     "metadata": {},
     "output_type": "execute_result"
    }
   ],
   "source": [
    "Px"
   ]
  }
 ],
 "metadata": {
  "kernelspec": {
   "display_name": "Python 3",
   "language": "python",
   "name": "python3"
  },
  "language_info": {
   "codemirror_mode": {
    "name": "ipython",
    "version": 3
   },
   "file_extension": ".py",
   "mimetype": "text/x-python",
   "name": "python",
   "nbconvert_exporter": "python",
   "pygments_lexer": "ipython3",
   "version": "3.7.3"
  }
 },
 "nbformat": 4,
 "nbformat_minor": 4
}
