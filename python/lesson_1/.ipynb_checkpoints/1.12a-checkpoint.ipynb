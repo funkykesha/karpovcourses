{
 "cells": [
  {
   "cell_type": "code",
   "execution_count": 35,
   "metadata": {},
   "outputs": [],
   "source": [
    "users_dict = {}\n",
    "keys = ['login', 'name', 'surname', 'age', 'salary', 'position']\n",
    "mvolkova, mvolkova_dict = ['mvolkova', 'Masha', 'Volkova', 25, 60000, 'junior'], {}\n",
    "pvoronov, pvoronov_dict = ['pvoronov', 'Peter', 'Voronov', 27, 100000, 'junior'], {}\n",
    "pparker, pparker_dict = ['pparker', 'Peter', 'Parker', 35, 150000, 'middle'], {}\n",
    "akarpov, akarpov_dict = ['akarpov', 'Anatoly', 'Karpov', 30, 250000, 'senior'], {}"
   ]
  },
  {
   "cell_type": "code",
   "execution_count": 36,
   "metadata": {},
   "outputs": [],
   "source": [
    "for i in range(1, len(keys)):\n",
    "    mvolkova_dict[keys[i]] = mvolkova[i]\n",
    "    pvoronov_dict[keys[i]] = pvoronov[i]\n",
    "    pparker_dict[keys[i]] = pparker[i]\n",
    "    akarpov_dict[keys[i]] = akarpov[i]"
   ]
  },
  {
   "cell_type": "code",
   "execution_count": 37,
   "metadata": {},
   "outputs": [],
   "source": [
    "users_dict['mvolkova'] = mvolkova_dict\n",
    "users_dict['pvoronov'] = pvoronov_dict\n",
    "users_dict['pparker'] = pparker_dict\n",
    "users_dict['akarpov'] = akarpov_dict"
   ]
  },
  {
   "cell_type": "code",
   "execution_count": 38,
   "metadata": {},
   "outputs": [
    {
     "data": {
      "text/plain": [
       "{'mvolkova': {'name': 'Masha',\n",
       "  'surname': 'Volkova',\n",
       "  'age': '25',\n",
       "  'salary': '60000',\n",
       "  'position': 'junior'},\n",
       " 'pvoronov': {'name': 'Peter',\n",
       "  'surname': 'Voronov',\n",
       "  'age': '27',\n",
       "  'salary': '100000',\n",
       "  'position': 'junior'},\n",
       " 'pparker': {'name': 'Peter',\n",
       "  'surname': 'Parker',\n",
       "  'age': '35',\n",
       "  'salary': '150000',\n",
       "  'position': 'middle'},\n",
       " 'akarpov': {'name': 'Anatoly',\n",
       "  'surname': 'Karpov',\n",
       "  'age': '30',\n",
       "  'salary': '250000',\n",
       "  'position': 'senior'}}"
      ]
     },
     "execution_count": 38,
     "metadata": {},
     "output_type": "execute_result"
    }
   ],
   "source": [
    "users_dict"
   ]
  }
 ],
 "metadata": {
  "kernelspec": {
   "display_name": "Python 3",
   "language": "python",
   "name": "python3"
  },
  "language_info": {
   "codemirror_mode": {
    "name": "ipython",
    "version": 3
   },
   "file_extension": ".py",
   "mimetype": "text/x-python",
   "name": "python",
   "nbconvert_exporter": "python",
   "pygments_lexer": "ipython3",
   "version": "3.7.3"
  }
 },
 "nbformat": 4,
 "nbformat_minor": 4
}
